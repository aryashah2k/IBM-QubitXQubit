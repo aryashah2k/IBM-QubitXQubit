{
 "cells": [
  {
   "cell_type": "markdown",
   "metadata": {},
   "source": [
    "<div style=\"text-align: center; margin: 50px\">\n",
    "\n",
    "<h1 style=\"color: white; background-color: grey; text-align: center;\">Qubit by Qubit - Semester 2</h1>\n",
    "<h3>Week 19 lab: Quantum Key Distribution</h3>\n",
    "\n",
    "</div>"
   ]
  },
  {
   "cell_type": "markdown",
   "metadata": {},
   "source": [
    "# Overview\n",
    "\n",
    "1. [Introduction](#intro) <br>\n",
    "    1.1 [Activity layout](#layout) <br>\n",
    "    1.2 [Experiment specifications](#specs) <br>\n",
    "2. [Steps in the QKD protocol](#protocol) <br>\n",
    "    2.1 [Step 1: Select Encoding](#step1) <br>\n",
    "    2.2 [Step 2: Select Measurement](#step2) <br>\n",
    "    2.3 [Step 3: Encode](#step3)  <br>\n",
    "    2.4 [Step 4: Send](#step4)  <br>\n",
    "3. [Key Takeaways](#takeaways)  <br>\n",
    "4. [Further readings and resources](#frr)  <br>\n",
    "5. [Optional content](#optional) <br>\n",
    "    5.1 [Step 5: Measure](#step5) <br>\n",
    "    5.2 [Step 6: Announce bases](#step6) <br>\n",
    "    5.3 [Step 7: Find symmetric key](#step7) <br>\n",
    "6. [Exta content - full QKD protocol implementation](#extra) <br>\n",
    "    6.1 [Challenge problem: Implementing a function for Eve](#challenge) <br>"
   ]
  },
  {
   "cell_type": "markdown",
   "metadata": {},
   "source": [
    "<a id=\"intro\"></a>\n",
    "# 1. Introduction\n",
    "\n",
    "**What is key distribution?** Secure communication relies on the ability of the sender (Alice) to encrypt the message in a way that the receiver (Bob) can decrypt it but not an eavesdropper. This security is often accomplished with the use of a **key**, which is a piece of information known only to the sender and receiver and enables them to decrypt and encrypt the message. If a key can be securely distributed between the sender and receiver, the encrypted message can be securely sent over a public channel, since without the key, the probability of successfully decrypting the message is tiny.\n",
    "\n",
    "Practically, **a key is just a bitstring** - a sequence of 1s and 0s, that is uniquely known only to Alice and Bob, the two communicating parties.\n",
    "\n",
    "Therefore, the problem of secure communication boils down to secure key distribution. QKD is unique because security against eavesdropping is guaranteed by the laws of quantum mechanics, as opposed to the computational complexity of certain functions, which is what is used in classical key distribution. \n",
    "\n",
    "In this lab, we will develop qiskit code to implement Quantum Key Distribution (QKD). We will look at the same BB84 protocol that was discussed in lecture this week. \n",
    "\n",
    "\n",
    "We will also continue making the conceptual leap we started last week - instead of directly defining circuits, we will create functions that define the circuits for us. **We're learning how to move up the quantum stack!**"
   ]
  },
  {
   "cell_type": "markdown",
   "metadata": {},
   "source": [
    "<a id=\"layout\"></a>\n",
    "## 1.1 Quantum Key Distribution Activity layout\n",
    "\n",
    "In this lab, and in your homework, we are going to implement the BB84 protocol. Remember from lecture the following steps of the protocol:\n",
    "\n",
    "1. `SELECT ENCODING`: Alice randomly selects a basis ( × or + ) to encode each bit.\n",
    "2. `SELECT MEASUREMENT`: Bob randomly selects a basis ( × or + ) to measure each bit.\n",
    "3. `ENCODE`: Alice creates the quantum states, encoded in the selected bases.\n",
    "4. `SEND`: Alice sends Bob the encoded states, via the quantum channel. \n",
    "5. `MEASURE`: Bob measures all the quantum states in his pre-selected measurement bases.\n",
    "6. `ANNOUNCE BASIS`: Alice announces which basis she used to encode each bit, via the classical channel.\n",
    "7. `FIND SYMMETRIC KEY`: Alice and Bob discard bits in their key that used a different encoding and decoding basis.\n",
    "\n",
    "These 7 steps allow a key to be distributed between Alice and Bob securely, now the two can send secure and encrypted messages through an insecure channel. In the required content for this lab, we will implement steps 1-4, and in the optional content we will implement steps 5-7.\n",
    "\n",
    "Note that we have left out **Step8: Analysis** here. In this lab, we will not worry about an eavesdropper, but focus on the code for the basic protocol. Therefore, Alice and Bob don't need to run an analysis step. If you're interested, you can try implementing code for Eve in the optional challenge section at the end of the notebook!"
   ]
  },
  {
   "cell_type": "code",
   "execution_count": 1,
   "metadata": {},
   "outputs": [],
   "source": [
    "from random import getrandbits\n",
    "import qiskit as q"
   ]
  },
  {
   "cell_type": "markdown",
   "metadata": {},
   "source": [
    "<a id=\"specs\"></a>\n",
    "## 1.2 Experiment specifications\n",
    "\n",
    "In this excercise we are going to use a key length of 500, you can see this defined below as `KEY_LENGTH = 500`\n",
    "\n",
    "In a real implemenetation of this, the physical photons will be sent down an optical fibre to Bob in step 4. Unfortunately, we can't actually do this in this lab, so instead we can represent the photons being transported by putting them in a `QUANTUM_CHANNEL` object - it's just a python list here.\n",
    "\n",
    "Similarily we will need a representation of the classical channel which in real life would be physical wires sending electrical signals, over which Alice will announce her bases in step 6. We can represent this using a `CLASSICAL_CHANNEL` object, also just a list here!\n",
    "\n",
    "We are also supposing that the `CLASSICAL_CHANNEL` is unsecure and therefore open to eavesdropping."
   ]
  },
  {
   "cell_type": "code",
   "execution_count": 41,
   "metadata": {},
   "outputs": [],
   "source": [
    "KEY_LENGTH = 500\n",
    "QUANTUM_CHANNEL = []\n",
    "CLASSICAL_CHANNEL = []"
   ]
  },
  {
   "cell_type": "markdown",
   "metadata": {},
   "source": [
    "<a id=\"protocol\"></a>\n",
    "# 2. Steps in the QKD protocol\n",
    "\n",
    "We will now implement the steps in the QKD protocol one-by-one."
   ]
  },
  {
   "cell_type": "markdown",
   "metadata": {},
   "source": [
    "<a id=\"step1\"></a>\n",
    "## 2.1. Step 1: Select Encoding\n",
    "\n",
    "Alice needs to randomly select a bit key and a basis in which to encode each bit of the bit key.\n",
    "\n",
    "This function takes in the number of bases that Alice needs to randomly pick and returns a list of each chosen encoding represented by either a 0 or a 1"
   ]
  },
  {
   "cell_type": "code",
   "execution_count": 42,
   "metadata": {},
   "outputs": [],
   "source": [
    "def select_encoding(length):\n",
    "    \n",
    "    #This stores the states Alice will encode\n",
    "    alice_bitstring = \"\"\n",
    "    # This stores the bases that Alice will prepare the states in\n",
    "    alice_bases = \"\"\n",
    "    \n",
    "    # For the length \n",
    "    for i in range(length):\n",
    "        # We use the function getrandbits to get either a 0 or 1 randomly,\n",
    "        # The \"1\" in the function argument is the number of bits to be generated\n",
    "        alice_bitstring += (str(getrandbits(1)))\n",
    "        # 0 means encode in the (0,1) basis and 1 means encode in the (+,-) basis\n",
    "        alice_bases += (str(getrandbits(1)))\n",
    "    \n",
    "    # return the string of bits and the list of bases they should be encoded in\n",
    "    return alice_bitstring, alice_bases"
   ]
  },
  {
   "cell_type": "markdown",
   "metadata": {},
   "source": [
    "#### Create Alice's bit_key and alice_bases\n",
    "\n",
    "Let's create our `alice_bitstring` and `alice_bases`\n",
    "\n",
    "We can see what they look like by printing the first 10 elements, this \n",
    "should look like a string and a list of random '1's or '0's "
   ]
  },
  {
   "cell_type": "code",
   "execution_count": 43,
   "metadata": {
    "scrolled": true
   },
   "outputs": [
    {
     "name": "stdout",
     "output_type": "stream",
     "text": [
      "alice_bitstring:  1010001111\n",
      "alice_bases:  1010000000\n"
     ]
    }
   ],
   "source": [
    "alice_bitstring, alice_bases = select_encoding(KEY_LENGTH)\n",
    "\n",
    "# Preview the first 10 elements of each:\n",
    "print(\"alice_bitstring: \", alice_bitstring[:10])\n",
    "print(\"alice_bases: \", alice_bases[:10])"
   ]
  },
  {
   "cell_type": "markdown",
   "metadata": {},
   "source": [
    "<a id=\"step2\"></a>\n",
    "## 2.2. Step 2: Select Measurement\n",
    "\n",
    "Bob needs to randomly select a basis in which to measure each bit.\n",
    "\n",
    "This function takes in the number of bases that Bob needs to randomly pick and returns a list of each chosen measurement basis represented by either a 0 or a 1"
   ]
  },
  {
   "cell_type": "code",
   "execution_count": 44,
   "metadata": {},
   "outputs": [],
   "source": [
    "def select_measurement(length):\n",
    "    # Similar to before we store the bases that Bob will measure in a list\n",
    "    bob_bases = \"\"\n",
    "    \n",
    "    for i in range(length):\n",
    "        # Again we use getrandbits to generate a 0 or 1 randomly\n",
    "        bob_bases += (str(getrandbits(1)))\n",
    "        \n",
    "    # return the list of random bases to measure in\n",
    "    return bob_bases"
   ]
  },
  {
   "cell_type": "markdown",
   "metadata": {},
   "source": [
    "#### Create Bob's selected_measurements\n",
    "\n",
    "Let's create our `bob_bases` list\n",
    "\n",
    "We can see what it looks like by printing the first 10 elements, it should look like a list of random '1's or '0's "
   ]
  },
  {
   "cell_type": "code",
   "execution_count": 45,
   "metadata": {},
   "outputs": [
    {
     "name": "stdout",
     "output_type": "stream",
     "text": [
      "selected_measurements:  1000101010\n"
     ]
    }
   ],
   "source": [
    "bob_bases = select_measurement(KEY_LENGTH)\n",
    "\n",
    "# Preview the first 10 elements of each:\n",
    "print(\"selected_measurements: \", bob_bases[:10])"
   ]
  },
  {
   "cell_type": "markdown",
   "metadata": {},
   "source": [
    "<a id=\"step3\"></a>\n",
    "## 2.3. Step 3: Encode\n",
    "\n",
    "Alice now uses her random list of numbers to generate a bunch of quantum states:\n",
    "In this excercise we are going to represent the creation of a qubit as an individual `QuantumCircuit` object.\n",
    "\n",
    "The table below summarizes the qubit states Alice sends, based on the bit of Alice's `alice_bitstring` the corresponding bit of `selected_bases`:\n",
    "\n",
    "| Bit in Alice's `alice_bitstring` | Corresponding bit in `alice_bases` | Encoding basis | Qubit state sent |\n",
    "|:----------------:|:--------------------------:|:--------------------------:|:---------------:|\n",
    "| 0 | 0 | $$|0\\rangle,|1\\rangle$$ |$$|0\\rangle$$ |\n",
    "| 0 | 1 | $$|+\\rangle,|-\\rangle$$ |$$|+\\rangle$$ |\n",
    "| 1 | 0 | $$|0\\rangle,|1\\rangle$$ |$$|1\\rangle$$ |\n",
    "| 1 | 1 | $$|+\\rangle,|-\\rangle$$ |$$|-\\rangle$$ |"
   ]
  },
  {
   "cell_type": "code",
   "execution_count": 46,
   "metadata": {},
   "outputs": [],
   "source": [
    "def encode(alice_bitstring, alice_bases):\n",
    "    encoded_qubits = []\n",
    "    for i in range(len(alice_bitstring)):\n",
    "        # create a brand new quantum circuit called qc. Remember that the qubit will be in state |0> by default\n",
    "        qc = q.QuantumCircuit(1,1)\n",
    "\n",
    "        if alice_bases[i] == \"0\":\n",
    "            # 0 Means we are encoding in the z basis\n",
    "            if alice_bitstring[i] == \"0\":\n",
    "                # We want to encode a |0> state, as states are intialized\n",
    "                # in |0> by default we don't need to add anything here\n",
    "                pass\n",
    "            \n",
    "            elif alice_bitstring[i] == \"1\":\n",
    "                # We want to encode a |1> state\n",
    "                # We apply an X gate to generate |1>\n",
    "                qc.x(0)\n",
    "                \n",
    "        elif alice_bases[i] == \"1\":\n",
    "            # 1 Means we are encoding in the x basis\n",
    "            if alice_bitstring[i] == \"0\":\n",
    "                # We apply an H gate to generate |+>\n",
    "                qc.h(0)\n",
    "            elif alice_bitstring[i] == \"1\":\n",
    "                # We apply an X and an H gate to generate |->\n",
    "                qc.x(0)\n",
    "                qc.h(0)\n",
    "            \n",
    "        # add this quantum circuit to the list of encoded_qubits\n",
    "        encoded_qubits.append(qc)\n",
    "        \n",
    "    return encoded_qubits"
   ]
  },
  {
   "cell_type": "markdown",
   "metadata": {},
   "source": [
    "### Create Alice's encoded_qubits"
   ]
  },
  {
   "cell_type": "code",
   "execution_count": 47,
   "metadata": {},
   "outputs": [],
   "source": [
    "# Alice can now create the encoded qubits using the bit_key and selected_bases from 1\n",
    "encoded_qubits = encode(alice_bitstring, alice_bases)"
   ]
  },
  {
   "cell_type": "markdown",
   "metadata": {},
   "source": [
    "<a id=\"step4\"></a>\n",
    "## 2.4. Step 4: Send\n",
    "\n",
    "Alice now sends the encoded qubits to Bob via the `QUANTUM_CHANNEL`. In a real application, Alice might send her qubits over an optical fibre, which would be the quantum channel. Here, we'll just copy the encoded qubits onto our variable `QUANTUM_CHANNEL`."
   ]
  },
  {
   "cell_type": "code",
   "execution_count": 48,
   "metadata": {},
   "outputs": [],
   "source": [
    "# Alice Sends Bob her encoded qubits over the quantum_channel\n",
    "QUANTUM_CHANNEL = encoded_qubits"
   ]
  },
  {
   "cell_type": "markdown",
   "metadata": {},
   "source": [
    "<a id=\"takeaways\"></a>\n",
    "# 3. Key takeaways\n",
    "\n",
    "1. Key distribution is an essential step in secure communication - it ensures that Alice and Bob can encrypt and decrypt messages but an eavesdropper cannot.\n",
    "\n",
    "2. QKD works in 3 steps: first, Alice generates a sequence of qubits and sends them to Bob. Next, Bob measures the received qubits. Finally, Alice and Bob compare their bases, and keep those bits where their bases match.\n",
    "\n",
    "3. We can use python functions to code each of these steps to simulate QKD"
   ]
  },
  {
   "cell_type": "markdown",
   "metadata": {},
   "source": [
    "<a id=\"frr\"></a>\n",
    "# 4. Further readings and resources\n",
    "\n",
    "1. [Qiskit textbook page on QKD, including QKD with eavesdropping](https://qiskit.org/textbook/ch-algorithms/quantum-key-distribution.html)\n",
    "2. [Prospects for large scale QKD](https://arxiv.org/ftp/arxiv/papers/1809/1809.02291.pdf)\n",
    "3. [Free online quantum learning opportunities](https://quantumapalooza.com/)\n",
    "4. [Videos on basic QIS concepts](https://www.quantumworlddetangled.com/)\n",
    "5. [Statistics on QIS technology](https://qisdata.com/)"
   ]
  },
  {
   "cell_type": "markdown",
   "metadata": {},
   "source": [
    "<a id=\"optional\"></a>\n",
    "# 5. Optional content"
   ]
  },
  {
   "cell_type": "markdown",
   "metadata": {},
   "source": [
    "<a id=\"step5\"></a>\n",
    "## 5.1. Step 5: Measure\n",
    "\n",
    "Bob now has to measure the qubits in a the random bases that he chose in part 2"
   ]
  },
  {
   "cell_type": "code",
   "execution_count": 49,
   "metadata": {},
   "outputs": [],
   "source": [
    "def measure(bob_bases, encoded_qubits, backend):\n",
    "    # Perform measurement on the qubits send by Alice\n",
    "    # selected_measurements: \n",
    "    # encoded_qubits: list of QuantumCircuits received from Alice\n",
    "    # backend: IBMQ backend, either simulation or hardware\n",
    "    \n",
    "    # Stores the results of Bob's measurements\n",
    "    bob_bitstring = ''\n",
    "    \n",
    "    for i in range(len(encoded_qubits)):\n",
    "        qc = encoded_qubits[i]\n",
    "        \n",
    "        if bob_bases[i] == \"0\":\n",
    "            # 0 means we want to measure in Z basis\n",
    "            qc.measure(0,0)\n",
    "\n",
    "        elif bob_bases[i] == \"1\":\n",
    "            # 1 means we want to measure in X basis\n",
    "            qc.h(0)\n",
    "            qc.measure(0,0)\n",
    "        \n",
    "        # Now that the measurements have been added to the circuit, let's run them.\n",
    "        job = q.execute(qc, backend=backend, shots = 1) # increase shots if running on hardware\n",
    "        results = job.result()\n",
    "        counts = results.get_counts()\n",
    "        measured_bit = max(counts, key=counts.get)\n",
    "\n",
    "        # Append measured bit to Bob's measured bitstring\n",
    "        bob_bitstring += measured_bit \n",
    "        \n",
    "    return bob_bitstring"
   ]
  },
  {
   "cell_type": "markdown",
   "metadata": {},
   "source": [
    "### Measure the qubit's that Bob recieved from Alice\n",
    "\n",
    "We will use a simulated backend here but feel free to swap this out later in the extra material"
   ]
  },
  {
   "cell_type": "code",
   "execution_count": 50,
   "metadata": {},
   "outputs": [],
   "source": [
    "sim_backend = q.Aer.get_backend('qasm_simulator')\n",
    "\n",
    "bob_bitstring = measure(bob_bases, QUANTUM_CHANNEL, sim_backend)"
   ]
  },
  {
   "cell_type": "markdown",
   "metadata": {},
   "source": [
    "<a id=\"step6\"></a>\n",
    "## 5.2. Step 6: Announce Basis\n",
    "\n",
    "Alice announces which basis she used to encode each qubit via the `CLASSICAL_CHANNEL`"
   ]
  },
  {
   "cell_type": "code",
   "execution_count": 51,
   "metadata": {},
   "outputs": [],
   "source": [
    "# Alice sends the list of bases used to create her encoded qubits to bob over the classical channel\n",
    "CLASSICAL_CHANNEL = alice_bases"
   ]
  },
  {
   "cell_type": "markdown",
   "metadata": {},
   "source": [
    "<a id=\"step7\"></a>\n",
    "## 5.3. Step 7: Find Symmetric Key\n",
    "\n",
    "Now that Alice has announced what basis she used to encrypt her key, Bob can check against his list and see the places where they matched. The positions where they used the same basis are the places where they will also share the same key value!"
   ]
  },
  {
   "cell_type": "code",
   "execution_count": 52,
   "metadata": {},
   "outputs": [],
   "source": [
    "def bob_compare_bases(alices_bases, bobs_bases):\n",
    "    indices = []\n",
    "    \n",
    "    for i in range(len(alices_bases)):\n",
    "        if alices_bases[i] == bobs_bases[i]:\n",
    "            indices.append(i)\n",
    "    return indices"
   ]
  },
  {
   "cell_type": "markdown",
   "metadata": {},
   "source": [
    "#### Now that Bob knows which bases Alice used to encode the qubits, he can see where they happen to have agreed on chosen bases and send Alice a list of all the positions where they chose the same basis."
   ]
  },
  {
   "cell_type": "code",
   "execution_count": 53,
   "metadata": {},
   "outputs": [],
   "source": [
    "agreeing_bases = bob_compare_bases(CLASSICAL_CHANNEL, bob_bases)"
   ]
  },
  {
   "cell_type": "code",
   "execution_count": 54,
   "metadata": {},
   "outputs": [],
   "source": [
    "# Send the list of agreeing_bases from Bob to Alice over the Classical channel\n",
    "CLASSICAL_CHANNEL = agreeing_bases"
   ]
  },
  {
   "cell_type": "markdown",
   "metadata": {},
   "source": [
    "#### Bob and Alice know all the positions where they used the same basis to encode and decode a qubit so now if they discard every bit that was encoded using a basis that didn't agree, they will have a shared key!"
   ]
  },
  {
   "cell_type": "code",
   "execution_count": 55,
   "metadata": {},
   "outputs": [],
   "source": [
    "def construct_key_from_indices(bitstring, indices):\n",
    "    key = ''\n",
    "    for idx in indices:\n",
    "        # For the indices where bases match, the bitstring bit is added to the key\n",
    "        key = key + bitstring[idx] \n",
    "    return key"
   ]
  },
  {
   "cell_type": "code",
   "execution_count": 56,
   "metadata": {
    "scrolled": true
   },
   "outputs": [
    {
     "name": "stdout",
     "output_type": "stream",
     "text": [
      "alice_key:  1000110010\n",
      "bob_key:  1000110010\n",
      "Alice's key is equal to Bob's key:  True\n"
     ]
    }
   ],
   "source": [
    "alice_key = construct_key_from_indices(alice_bitstring, CLASSICAL_CHANNEL)\n",
    "bob_key = construct_key_from_indices(bob_bitstring, agreeing_bases)\n",
    "\n",
    "# Preview the first 10 elements of each Key:\n",
    "print(\"alice_key: \", alice_key[:10])\n",
    "print(\"bob_key: \", bob_key[:10])\n",
    "print(\"Alice's key is equal to Bob's key: \", alice_key == bob_key)"
   ]
  },
  {
   "cell_type": "markdown",
   "metadata": {},
   "source": [
    "<a id=\"extra\"></a>\n",
    "# 6. Extra content (strictly optional!!) - Try it out with your own messages!\n",
    "\n",
    "If you're interested in trying this out run some of the cells below.\n",
    "\n",
    "First we will run the whole QKD protocol again and use the keys to encrypt one of our own messages!"
   ]
  },
  {
   "cell_type": "code",
   "execution_count": 57,
   "metadata": {},
   "outputs": [],
   "source": [
    "# Step 1: Alice's Prepares encoding basis and choose a random btistring\n",
    "alice_bitstring, alice_bases = select_encoding(KEY_LENGTH)\n",
    "# Step 2: Bob selects bases for measurement\n",
    "bob_bases = select_measurement(KEY_LENGTH)\n",
    "# Step 3: Alice encodes the qubits\n",
    "encoded_qubits = encode(alice_bitstring, alice_bases)\n",
    "# Step 4: Alice sends the qubits\n",
    "QUANTUM_CHANNEL = encoded_qubits\n",
    "# Step 5: Bob measures the received qubits\n",
    "bob_bitstring = measure(bob_bases, QUANTUM_CHANNEL, q.Aer.get_backend('qasm_simulator'))\n",
    "# Step 6: Bob uses Alice's announced bases to see where they agreed with his decoding bases\n",
    "CLASSICAL_CHANNEL = alice_bases\n",
    "agreeing_bases = bob_compare_bases(CLASSICAL_CHANNEL, bob_bases)\n",
    "# Bob announces where they agreed on encoding and decoding bases.\n",
    "# Step 7: Alice and Bob construct their keys from \n",
    "CLASSICAL_CHANNEL = agreeing_bases\n",
    "alice_key = construct_key_from_indices(alice_bitstring, agreeing_bases)\n",
    "bob_key = construct_key_from_indices(bob_bitstring, agreeing_bases)"
   ]
  },
  {
   "cell_type": "markdown",
   "metadata": {},
   "source": [
    "## Using your new keys:\n",
    "\n",
    "In order to make it easier for you to try out your new keys, we wrote some helper functions called `encrypt_message` and `decrypt_message`, you dont need to worry about exactly what is going on inside of them - essentially they just take your text and convert it to binary and apply the key to it for encryption and decryption respectively.\n",
    "\n",
    "Run the cell below to load the functions:"
   ]
  },
  {
   "cell_type": "code",
   "execution_count": 58,
   "metadata": {},
   "outputs": [],
   "source": [
    "import binascii\n",
    "\n",
    "def encrypt_message(unencrypted_string, key):\n",
    "    # Convert ascii string to binary string\n",
    "    bits = bin(int(binascii.hexlify(unencrypted_string.encode('utf-8', 'surrogatepass')), 16))[2:]\n",
    "    bitstring = bits.zfill(8 * ((len(bits) + 7) // 8))\n",
    "    # created the encrypted string using the key\n",
    "    encrypted_string = \"\"\n",
    "    for i in range(len(bitstring)):\n",
    "        encrypted_string += str( (int(bitstring[i])^ int(key[i])) )\n",
    "    return encrypted_string\n",
    "    \n",
    "def decrypt_message(encrypted_bits, key):\n",
    "    # created the unencrypted string using the key\n",
    "    unencrypted_bits = \"\"\n",
    "    for i in range(len(encrypted_bits)):\n",
    "        unencrypted_bits += str( (int(encrypted_bits[i])^ int(key[i])) )\n",
    "    # Convert bitstring into\n",
    "    i = int(unencrypted_bits, 2)\n",
    "    hex_string = '%x' % i\n",
    "    n = len(hex_string)\n",
    "    bits = binascii.unhexlify(hex_string.zfill(n + (n & 1)))\n",
    "    unencrypted_string = bits.decode('utf-8', 'surrogatepass')\n",
    "    return unencrypted_string"
   ]
  },
  {
   "cell_type": "markdown",
   "metadata": {},
   "source": [
    "How does encryption and decryption work? Once a key has been distributed between Alice and Bob, Alice uses the key to encrypt the message, and Bob uses the same key to decrypt it. To encrypt the message, Alice uses a **reversible** function, so that Bob can apply the same function to the encrypted message to decrypt it. A commonly used function is XOR - each bit of the message is XOR'd with the corresponding bit of the key to encrypt it, i.e., if the message bit is $b$, the encryted message is $b \\oplus 1$ or $b \\oplus 0$, depending on the corresponding bit of the key. For decryption, the encryted message is XOR'd again with the same bit of the key. This process works because\n",
    "$$b \\oplus 1 \\oplus 1 = b$$ and $$b \\oplus 0 \\oplus 0 = b$$ \n",
    "Therefore, Bob recovers the original bit as long as Bob's key matches Alice's. We will use this method for encryption and decryption. This is what the functions above implement."
   ]
  },
  {
   "cell_type": "markdown",
   "metadata": {},
   "source": [
    "Now that we know how the key will be used, let's discuss how it will be distributed between Alice and Bob."
   ]
  },
  {
   "cell_type": "markdown",
   "metadata": {},
   "source": [
    "## Run the test to see how it works and then try your own strings!\n",
    "To use them pass in your text e.g. `\"QKD is cool!\"` as the string and your key that was distributed to both Alice and Bob earlier."
   ]
  },
  {
   "cell_type": "code",
   "execution_count": 59,
   "metadata": {},
   "outputs": [
    {
     "name": "stdout",
     "output_type": "stream",
     "text": [
      "Original Messge: QKD is cool!\n",
      "Encrypted message: 111001111100111010100110101110000010110001101110111000110101100100111001110011001100100111100111\n",
      "Decrypted message: QKD is cool!\n"
     ]
    }
   ],
   "source": [
    "message = \"QKD is cool!\"\n",
    "print(\"Original Messge:\", message)\n",
    "encrypted_message = encrypt_message(message, alice_key)\n",
    "print(\"Encrypted message:\", encrypted_message)\n",
    "decrypted_message = decrypt_message(encrypted_message, bob_key)\n",
    "print(\"Decrypted message:\", decrypted_message)"
   ]
  },
  {
   "cell_type": "markdown",
   "metadata": {},
   "source": [
    "<a id=\"challenge\"></a>\n",
    "## 6.1 Challenge Problem: Implementing a function for Eve\n",
    "\n",
    "Now that you know how the protocol works and you have seen the code for each step, can you write a function to implement an eavesdropper Eve?\n",
    "\n",
    "As a hint, here's how Eve might eavesdrop: Eve intercepts the qubits Alice is sending, performs a measurement of them in randomly selected bases, and then sends the resulting qubits to Bob, who implements his steps of the protocol as usual. In this case, Alice and Bob will perform step 8: Analysis. How might this step be implemented? Test out this step with and without Eve, and check if Alice and Bob are able to detect Eve's presence.\n",
    "\n",
    "Are there other ways to eavesdrop? Can you implement them in code? Will Alice and Bob be able to detect these other ways of eavesdropping?\n",
    "\n",
    "Since this question is quite open-ended, there isn't one 'correct' way to solve it. Therefore, instead of the instruction team providing a 'solution', we encourage you to post your implementations to Piazza to discuss with other students and instructors! We're excited to read what you come up with :)"
   ]
  }
 ],
 "metadata": {
  "kernelspec": {
   "display_name": "Python 3",
   "language": "python",
   "name": "python3"
  },
  "language_info": {
   "codemirror_mode": {
    "name": "ipython",
    "version": 3
   },
   "file_extension": ".py",
   "mimetype": "text/x-python",
   "name": "python",
   "nbconvert_exporter": "python",
   "pygments_lexer": "ipython3",
   "version": "3.8.8"
  }
 },
 "nbformat": 4,
 "nbformat_minor": 4
}
