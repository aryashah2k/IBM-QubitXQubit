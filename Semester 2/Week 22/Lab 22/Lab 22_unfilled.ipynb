{
 "cells": [
  {
   "cell_type": "markdown",
   "id": "91d2eae7",
   "metadata": {},
   "source": [
    "<div style=\"text-align: center; margin: 50px\">\n",
    "\n",
    "<h1 style=\"text-align: center;\">Qubit by Qubit - Semester 2</h1>\n",
    "<h3>Week 22 - Randomized Benchmarking</h3>\n",
    "\n",
    "</div>"
   ]
  },
  {
   "cell_type": "markdown",
   "id": "e25006a2",
   "metadata": {},
   "source": [
    "Lab overview:\n",
    "1. [Introduction](#intro) <br>\n",
    "2. [Steps for Randomized Benchmarking](#steps) <br>\n",
    "    2.1 [Create Noise Model](#step2.1) <br>\n",
    "    2.2 [Create Randomized Circuit](#step2.2) <br>\n",
    "    2.3 [Run randomized circuits using noise model](#step2.3) <br>\n",
    "    2.4 [Compare results](#step2.4)<br>\n",
    "    2.5 [Discussion points](#discusion)<br>\n",
    "3. [Challenge problems](#challenge)<br>\n",
    "4. [Extra content (strictly optional!!)](#extra)<br>"
   ]
  },
  {
   "cell_type": "markdown",
   "id": "bc7dfe6e",
   "metadata": {},
   "source": [
    "<a id=\"intro\"></a>\n",
    "# 1. Introduction"
   ]
  },
  {
   "cell_type": "markdown",
   "id": "170d737e",
   "metadata": {},
   "source": [
    "Randomized benchmarking is the process of measuring gate fidelities for different quantum computing systems by testing out the same circuits on them. *Randomized* refers to the fact that the circuits are generated randomly from a collection of gates. *Benchmarking* means that we use the results of this process to compare the performance of different systems against each other.\n",
    "\n",
    "In this lab, we will perform a simplified version of randomized benchmarking to compare the performances of two QCs - ibmq_5_yorktown and ibmq_belem."
   ]
  },
  {
   "cell_type": "markdown",
   "id": "f60b66a5",
   "metadata": {},
   "source": [
    "First, let us import the usual qiskit libraries."
   ]
  },
  {
   "cell_type": "code",
   "execution_count": null,
   "id": "447b9d88",
   "metadata": {},
   "outputs": [],
   "source": [
    "from qiskit import QuantumCircuit, execute\n",
    "from qiskit import IBMQ, Aer\n",
    "from qiskit.visualization import plot_histogram\n",
    "import numpy as np\n",
    "provider = IBMQ.load_account()"
   ]
  },
  {
   "cell_type": "markdown",
   "id": "d42986e9",
   "metadata": {},
   "source": [
    "Next, let us import the `NoiseModel` libray, and the `ranomized_benchmarking` library. We will use the `NoiseModel` library to create noise models that mimic actual IBM QCs, and the `randomized_benchmarking` library to generate random circuits to test out gate fidelities.\n",
    "\n",
    "Also, we will import `matplotlit.pyplot` to create plots of the performance of the two QCs we will compare."
   ]
  },
  {
   "cell_type": "code",
   "execution_count": null,
   "id": "bce8f14d",
   "metadata": {},
   "outputs": [],
   "source": [
    "from qiskit.providers.aer.noise import NoiseModel\n",
    "import qiskit.ignis.verification.randomized_benchmarking as rb\n",
    "import matplotlib.pyplot as plt"
   ]
  },
  {
   "cell_type": "markdown",
   "id": "c8eae9fb",
   "metadata": {},
   "source": [
    "<a id=\"steps\"></a>\n",
    "# 2. Steps in randomized benchmarking"
   ]
  },
  {
   "cell_type": "markdown",
   "id": "5dc533eb",
   "metadata": {},
   "source": [
    "Next, we will implement RB step-by-step."
   ]
  },
  {
   "cell_type": "markdown",
   "id": "99b9253f",
   "metadata": {},
   "source": [
    "<a id=\"step2.1\"></a>\n",
    "## 2.1 Create noise models\n",
    "The first step is creating a noise model to mimic the QCs we want to compare."
   ]
  },
  {
   "cell_type": "code",
   "execution_count": null,
   "id": "c28d9a8f",
   "metadata": {
    "scrolled": true
   },
   "outputs": [],
   "source": [
    "# Build noise model from backend properties. We want to compare belem and yorktown.\n",
    "backend_belem = provider.get_backend('ibmq_belem')\n",
    "noise_model_belem = NoiseModel.from_backend(backend_belem)\n",
    "\n",
    "backend_yorktown = provider.get_backend('ibmq_5_yorktown')\n",
    "noise_model_yorktown = #Insert code to create a NoiseModel from ibmq_5_yorktown"
   ]
  },
  {
   "cell_type": "markdown",
   "id": "2b77cd83",
   "metadata": {},
   "source": [
    "<a id=\"step2.2\"></a>\n",
    "## 2.2 Create randomized circuits\n",
    "\n",
    "The next step is creating the randomized circuits. Here, we will first specify an array called `lengths` to store gate lengths, and another array called `pattern` to store the number and pattern of qubits. Here, we will test 2 qubit circuits with lengths varying from 1 to 200."
   ]
  },
  {
   "cell_type": "code",
   "execution_count": null,
   "id": "a996a223",
   "metadata": {},
   "outputs": [],
   "source": [
    " #Number of gates in the sequence\n",
    "# Insert code to create a list with elements 1, 5, 10, 20, 50, 75, 100, 125, 150, 175, 200\n",
    "lengths = [1, 5, 10, 20, 50, 75, 100, 125, 150, 175, 200] \n",
    "# Insert code to create a list of 3 qubits 0, 1, and 2\n",
    "pattern = [[0,1,2]]\n",
    "\n",
    "rb_circs, _ = rb.randomized_benchmarking_seq(length_vector =, rb_pattern = ) #Fill in the parameters for length and pattern"
   ]
  },
  {
   "cell_type": "markdown",
   "id": "2d630c6d",
   "metadata": {},
   "source": [
    "Let's see what the circuits look like! The function `rb.randomized_benchmarking_seq` creates a 2-D vector which we've named `rb_circs`, so we will need two indices to refer to a particular circuit. The reason this is a 2-D vector is because `rb.randomized_benchmarking_seq` provides an option called `nseeds` to create many circuits of the same length, for different lengths. We will not use this option in this lab, but you can see it being used in the qiskit textbook page on RB.\n",
    "\n",
    "The function also gives back a list containing the lengths of the different circuits, which we've stored in the variable `xdata`.\n",
    "\n",
    "Let's draw some of these circuits to see what they look like."
   ]
  },
  {
   "cell_type": "code",
   "execution_count": null,
   "id": "5aafe73a",
   "metadata": {
    "scrolled": false
   },
   "outputs": [],
   "source": [
    "rb_circs[0][0].draw('mpl')  # Draw the circuit with length 1, 5, 10, etc."
   ]
  },
  {
   "cell_type": "markdown",
   "id": "adbbc743",
   "metadata": {},
   "source": [
    "<a id=\"step2.3\"></a>\n",
    "## 2.3 Run randomized circuits using noise models\n",
    "Next, let's run these circuits. We will run each of the 11 circuits we generated one-by-one, using both the belem and yorktown noise models. We'll use a loop to simplify the code."
   ]
  },
  {
   "cell_type": "code",
   "execution_count": null,
   "id": "c0405626",
   "metadata": {},
   "outputs": [],
   "source": [
    "count_000_belem = np.zeros(11) # Array will store the counts of 000 for belem \n",
    "count_000_yorktown = np.zeros(11)  # Array will store the counts of 000 for yorktown\n",
    "backend = Aer.get_backend('qasm_simulator')\n",
    "sh = 1024*256\n",
    "for i in range(11):\n",
    "    #getting results using the belem noise model\n",
    "    job_belem = execute(rb_circs[0][i], backend, noise_model=noise_model_belem, shots = sh)\n",
    "    results_belem = # Fill in code to get results\n",
    "    counts_belem = #Fill in code to get counts from results\n",
    "    count_000_belem[i] = counts_belem[\"000\"] #extracting the 000 counts from belem results\n",
    "    \n",
    "    #getting results using the yorktown noise model\n",
    "    job_yorktown = #\n",
    "    results_yorktown = # Fill in code to get results\n",
    "    counts_yorktown = #Fill in code to get counts from results\n",
    "    count_000_yorktown[i] = counts_yorktown[\"000\"] #extracting the 000 counts from yorktown results\n",
    "    \n",
    "    print(\"Finished running circuit\",str(i+1),\"out of 11 on using both noise models.\") # Keep track of progress"
   ]
  },
  {
   "cell_type": "markdown",
   "id": "a9ddadfb",
   "metadata": {},
   "source": [
    "<a id=\"step2.4\"></a>\n",
    "## 2.4 Compare results\n",
    "Finally, we can plot the results! We will use the library `matplotlib.pyplot` that we had imported earlier. This library provides the function `plot`, which we will use to create plots of the performance of the two simulated QCs.\n",
    "\n",
    "We will plot the counts of 00 for each of the two processors - belem and yorktown, vs the length of the circuit for each count. This plot will show us the how likely we are to get the right result (00) as the length of the circuit increases."
   ]
  },
  {
   "cell_type": "code",
   "execution_count": null,
   "id": "90abcccb",
   "metadata": {
    "scrolled": true
   },
   "outputs": [],
   "source": [
    "plt.plot(lengths, count_000_belem/sh, marker = 's')    #Normalized counts by number of shots to get probabilities\n",
    "plt.plot(lengths, count_000_yorktown/sh, marker = 'o')\n",
    "plt.legend(['belem','yorktown'])\n",
    "plt.xlabel('length of circuit')\n",
    "plt.ylabel('probability of getting 000')"
   ]
  },
  {
   "cell_type": "markdown",
   "id": "2e6f94a6",
   "metadata": {},
   "source": [
    "What do you notice?\n",
    "\n",
    "What do you think? Which QC produces more accurate results - belem or yorktown? Can you relate this to their gate error probabilities?"
   ]
  },
  {
   "cell_type": "markdown",
   "id": "2240de68",
   "metadata": {},
   "source": [
    "![image.png](data:image/png;base64,iVBORw0KGgoAAAANSUhEUgAAAtIAAAH1CAYAAADbKxm5AAAgAElEQVR4AeydB3gVxfrGj12qYC/3r/fau9drlxJC70WwYkMRqYJKEaUIdlFRQelNepEiRYqIVFEgCVVaaAkJ6SEkJKS9/+edzcByOGXPyUlyyrfPs9mcrbO/3Z1555tvvrFBJiEgBISAEBACQkAICAEhIAQ8JmDz+Ag5QAgIASEgBISAEBACQkAICAGIkJaXQAgIASEgBISAEBACQkAIeEFAhLQX0OQQISAEhIAQEAJCQAgIASEgQlreASEgBISAEBACQkAICAEh4AUBEdJeQJNDhIAQEAJCQAgIASEgBISACGl5B4SAEBACQkAICAEhIASEgBcEgkZIFxQUeHH7cogQEAJCQAgIAf8kUFhY6J8Jk1QJASFwmkDACOlvv/0WTz/9NI4dO3Y68eZ/jh49itatW2P06NHm1aX2/yeffIL//e9/+Pnnn09fMycnB2+//TYee+wxLF68+PT6UP0nLS0N7du3x+OPP44aNWqcM1evXh0PP/wwFixYELSINm/ejLCwMHTq1AmZmZke32dGRgakcPUYmxwgBMqcQFJSEqZMmYI33nhD5X01a9ZEly5dMH/+fPC7tp9oHPrwww/x2muv4eTJk/abS/Q30/riiy+ibt26+Oeff05fKzo6Gs2aNVMz/w/V6dSpUyoP/+9//1uq5dUvv/yChx56SL0XYjz0n7cvIIQ0hdU111yDe++9F0eOHHFIjy9V//798X//93/YtGmTw31KcuVzzz0Hm82GoUOHnr4MM79GjRqp9ZMmTTq9PlT/2b59O26++WZcdNFFqFy58jlzpUqVcMEFF2DcuHFBi2jlypUoV66cEtPHjx+3fJ8s2D766CN8+eWXIqQtU5MdhYB/EFi/fj2eeOIJVRZcdtlluOqqq3DllVeifPnyOO+889CiRQvs27fvnMT+8ccfuP766/HFF1+cs60kV8TExODf//63Su/GjRtPX4p5ONPDmf+H6kQjGQ0iLPNL03g3duxYdU1WckRI+8/b5/dCmjX4//znP0p8Pfnkk+AH7mxKSUlRFs2mTZuWeg1+zJgxeOaZZ/Dbb7+dTh6FdKtWrVRmOXXq1NPrQ/UfVohYcLDl4M8//wQzaC7N87p16xAfHx+0iFgwsgBt2LChQyuUsxv/7rvvVAbas2dPZ7vIeiEgBPyQwO7du3H//fcrwfzSSy+p/C4hIUG1ri5ZskRZfSnImjdvDpZh9lOfPn1w3XXXga1ZpTWlpqaib9++ynp+4MCB05fduXMnbrvtNjXz/1CdKKSZh59//vmYMGFCqWGgQY6GKLbsipAuNexuL+S3Qpofb48ePZTVkhY81uLdCWneLa2ZFStWLNWX2xllEdJnk/nmm29UJvDpp5+evSGEfnkrpGmRYqb9wQcfhBAtuVUhEPgE+M1SKL/wwgvIzs4+54YOHTqk3P8uueQSTJw48Zzt+/fvVy15zz//POhSUJaTCGmDvgjpsnwL/e/afiek8/LyVFPJHXfcoTKfW265BZ07d1YuG/Q1dmWRJl7WpOln+8gjjyA5OblMiYuQPoOffr3dunUDC4vp06ef2RBi/1kV0uRl9oVmJeTCCy9U7kshhkxuVwgELAHdSkoh7arvByvKdPF4/fXXz/ru9Y3TOkwD0bJly/SqMlmahfSuXbvKJA3+cFER0v7wFPwnDX4npCk+2QmDGU/jxo3x999/Y8+ePbjxxhuVOHYnpIl20KBByg+VbiGlNX3++efKqjBv3rzTlzQL6blz56qmfLqA0N2D99i9e3esWLEC+fn5p4/R/7AS8MorryirPNfxvpnZsvmvTp06YBP/li1b9O6q0vDjjz+qc4eHh6tz02XC1US/PTYbskMJO5B8//33qiLCaz/11FOq+ciRBcXVOZ1tY2capptNlOZ0O9u/uOu3bduGBg0aqPs4ePCg09ORQbVq1fDOO++cYy2iP/7IkSPRtm1b9bzIZMiQIeC5HU179+5VzX1kmpubq1pF6tevr/wfx48fr9atXbvWqWsHOx++++67ePDBB9XzO3HihHJ/4fO58847ccUVV6glfS1fffVVcLt5YkdcXofvDf336Hf58ccfO2wSZhMhK5u8H0cTO82yUyibEB01N0dERKjnyc5SvFeK/vfee0+9n7GxsaD/N5s8yY4dS7nkb0fncnR9WScEgoEA33d2GOT3au60Z39v/G7ZZM8O9TQm2U90eeP3T9cQR+WF/f7F/c0+GUwz3RfomqInLaRp6GKrMfPIwYMHqzKE+S37cTjLH3/99VflJ75w4UJ1ulWrVinjCssFlmvDhw8/y/jFcoJ5KbezfKIxIS4uTiflnCXzT5az7MxZq1YtxWrOnDmKp/ZRZxnni8kspGfMmKHyYpbtdFtkelm2083T3bOituF98bnrfJJ+0M7cG624dmzYsEEZXKifyIEd21mJc9S5ne4hOt+mETI9PR2jRo1Sbqo8tkOHDqrypt1IqGl4v8zPGRyAFb9FixapMsAXXAP1HH4npCm4WPumi0ZWVpbiyk4N//rXvywLaX6gdAWhz3JpNYWxZzXFP8WsnvjSUXxVqVJFiXtmFhdffLH6XbVqVfU/3Vb40TGihXlihnHfffeBQowZD3sH07+Yx7GjHpv5Wbngth07diihx+28lt5+7bXXwlEnR34svXv3VoyYefOcPI5pY2bInsH0S2fvYEcfnzmdVv9nRxp2NOTHR8EXGRkJ+v2y2ZPMfN1xhTx5LT4TV50XmVFzH3t3E1bC7r77bmUlIk/NiNzZUYid/uzfLYpL7scMqFevXuo58D0kY2ZqrJQwQ3fkI813vWvXriotbFHhuTgxk+L1eJ6rr75aHcvnRJHL56gnvgd8XrwXc3ppxb788ssVZ7PwZhQZbmPmbf/uMdNkBspzsZMv02w/MfPndmbCnCim+X7zO2VGy/tl6wN5cOb/ZMf3mU3VMgkBIXCGAFvr+D2xLHA0sVyk8YXfl6/zSkfXYxQs+nUzLzF33qeQvv3221XeyEr4Pffco4xWLD+YR9GqTmOJow54dFvhPTLvYP7JfIHHcMlykB3NmYfQ1YX7skMjO6Bzu+6USQMBDRb2E8V+y5YtVZ6my0me+9JLL1VGJ91Jzxlf+/O5+62FNPM1Bjlo06aNyuPIgellHs10UMQ6Mh7Q8DBixAjV0s771hy4ZD5J9kuXLj0nGa6ENIUwo4TxmfH6TAdntmSwDGLfMfvKHPN6VlL4XrGsYfnPZ8HjeC8sI5imYcOG4fDhw0pTVahQQW3T2/mbDBxVAM+5gSBd4XdCmjU4FsrmaevWrR4JaYpQihG+HBSZpTHR/YQvHWuleqKQ5gemMwMKs2nTpoGZFGd2QGQkEmYurDyYa68Um8w4KT6ZcTEqCK3zPI6ZGa0FzCR4PC2YtD5S8HA7m9woyvgx0erIdXrihzNw4ECV4bHTCDMsWru5D62QFOy0flKE165d+3RlRh/v7XL16tUqg+VzYVr5ofK+9cxnRWssreG+mijUmSnRN9HRR07GDFlIxuZmSgpBZhLMgPhcWHCRDwUgwzAyg+ez/uyzz87q8BEVFaXYMePhOSngeRzfX1YcODly7aDA1gUpRbhZaHIbz8GMis+TBQEtvuyspK0EtPQwTcws+dwpwnkMLfF8H2+99VbFmeJei39anCjGKertWy5oDWF/BL5fZECrvHniOfhe8z4ZhYQT19FKwfPddNNNyspPKwjTwXnmzJmnhT77Pui0m88r/wuBUCRACy7zeH5r5vCp9izYCkmhSlFT0hPLUOYPzFd0pZ7XZNnDMof5NwUbK8zM0/iN01jCMLCsuDNvoDXYPLHs4zEPPPCA6qz49ddfqzyKxzIPY9lDUcYWQvKgdZt5IbcvX778dNQTXXnX56ZQpUhkWcLWO+7LY2gx/+qrr5TBidfkue2P1efwdEkhzYhcWrSzQkHjC6/LmWU7xTDTxHLNvvzhM6QIJ1+mkex4HMshls98F2644Qaw3DRPzoQ0ywlah3k9lrF0n2Q5wXNSFzDKB7exfOE6PTEfZr5NIw2Z07DCVnLuwwrNgAEDVFpYnlFLPProo8p4p7fTAMVnzcqTObqLPn+oLP1OSDsC76mQ5ktL8cSXfNasWY5O6fN1roQ0RRfFqblmrxNAEUPhQeHKJhk9UeTxpdehkSjKzRNrlnfddZcSivXq1TvHqkgxxA+KmRozFj1R7NGSzWZC9hi3nyj49HmZKelWAfv9PP3N5iJmZMw8KPwZJpBCi5ZUfqxkwA/92WefdViD9/R63J+ZEi3rvF/et/3EZkC+I+3atTst7Jj5kBtFKzN6RxPTTcHIZ8YmVz1pIc3nzULA0WQW0hSfrDS+9dZb6t5ZcXHmhkJetFxQUJsnFiJ05SE7Zx0RmRmTLysH5njmtF4wrfZCmfszY2WfBC5pVTH7a2tXKxZ42trCe2FmzTQyw3UUppK8Walk5cVZ06X53uR/IRDsBPj90ArL75fN+65aAOn+wfyTrgslXRF1J6SZb9CSad+axef1ww8/qPyT1mOzYYTijvkt8yH7PIfH0fDB/IEWUVqs7Sd9PK2m5rjbNFgwPRR5jvIdcmN5x7zp/ffftz+tV7+1kOZ1aaj466+/zjkPDV8UoMxDzeUEKyPs+8XKiNkV1HwCuqAwvbSym8tgZ0Kaxh8aPli22ludeV6ml+Uc3zO6++mJ7xHdhagzeKx9bHByZisi00J3HqbdPPF4tvzzeF+5zZjPHyj/B6WQJny6LtAaSathaUzOhDR9pvgSUiw6m2hl5AvOmqieKKRZO2TNlNY8+4kvOK2GtEI6akajdZtuJXzBzT3B+bLz43cVh5JNdkwPfb3MH7F9Gjz5zXNSeFIos4nIfmKtmbV6ppc1dF9MrFDRX5j87T9yZgCswTPzMWdmtCpwHSsx5szaPj0dO3ZUjPr163d6E4U0M0jWzu0tCXonLaRplWchRAsJ00fLjiMu+jjy43OzLwhYGaJFgOLfbGnQx+mldmExi2JmviyYX3755bMKZlYg2ELA94atIjx3YmKiPpVqVSEj+pXrSVukmUZnMW9pdWFsWsZ6t8+Q9XlkKQRChQDzF4pi5rW0xrpz2aBBhN+6I8OJr5m5EtI0tNhXys3Xp4sBK9kUxeaKO4Uw8zpautmiZj/RKk2Ltfa/tt/O8H/MW5kf6b5SNESwLGM56MxSz3KAlRRyts8/7a9h9bd27eA5XZXtbH3jPuayneUb11HYOptoYSZDVgDYr0ZPjoQ0GbBcJVtHFRR9LH3O6SZIA4nmz3KQ/Fjusm+Zo4mtpdxOy7qjiceRvysOjo4LpnVBK6RZo+XLSl/P0picCWnWKFnzZHOJs4nijbVws083hTQ/JNZmHdV22ZlLN7/Tt8nRxHBJZED/ME60KtIlhOtciVWKWlpcaVHwlZCmaKSQcjUICX3GKOzYmc4s3Bzdm9V1uqbOTjNmaw/TwgybmYr5WhS25OOuCZAd51hRM8csp5CmUGRBQ6uto4lCmhUKsqUYp4WGrQa0cruanAlpilamlz76ria+IyzYzD7RtH6zpYTNniw4ObHQoYWM/vkU5qyIMH3mZrs333xTtS6YC0kKabYCUWDPnj3bYVJo7ae1mk2W2tXF4Y6yUggEOQG6VrECy2+XBgSzxdLZrVNIsjxgvuWs5crZsZ6udyWkaSxgfwydZzg6N8UXK9XmcoZCmvdLIwLzGfuJQpqGI3MeZd6HbpqshLNFS1uemacwr2IZu2bNGvPuZ/1PazfFoLt8/ayDXPygkKZlnC2XzspfHk7hy3KC96xdVmnA4XF01aFBgRUoRzONcCwPzYYyR0Ka+TSt8cynWdY7OhfX/f7774oV81/dOk4hzXyb+sORwY73wA7lTK+9MUrj4TPmdhHSmoifLj117eBtsHbKj5bi1NFH6+tbdSak+QGxwxabeZxN2qpIC7BuKtdCmsc6CsTPjmYUnBRi7FzpaNKjLerOdhQ7FPbkYv447Y+lyKT/NDM0Xwlp+2s4+k0hSosDZ0eVB0fHuFvHzJ6ZPjmafYHpO8yM3mxRZqbCihczBWfWDX09dgRh5s3KjG6+1EKaBSMZOpoopOlmQcsSRSfvlQK3SZMmp8/j6DhnQpqZMTNqs8XD0fF8/2hlpuVLW77ZakH/OKZFV/Ro6aEvPy0cnOhSQh7a0kGXDPKk/5/ZAm4W0s78PLk/rVHMyMlKJiEQigTo96t9elmxNFdSXfGgkGR+QTHJMrEkJ1dCmu5yNASYOzvbp4X5EfMltgzrSQtptpQyr7WfWA5SSDOqldnoofejGOS9M//RQlq779HS6qpyzjyJotScHn1eb5YU0nR9ZLniqqxiuEKWE+z4TiMSxTTLYOb5dHUkI0czrcu08rKsNrvzORLS5MIyh/k479HR+biO5R2XZMyAApy0kKaOcJZvU9uwrDK3bJuZsWwSIW0m4qf/F0dIUxCYO/GV1C36Qkjzw2SzGCezkNa1R3PazUKaNU1Hk7dCWlsqS1tIs3MDBRqtLhScvproO0xrhPZb1lZXNpuZxTUzFVp2mRmZo684SgebWWkBYAapKz9aSFOIOupZzvPwvuizzYyL7yZdQFiBYobJMFLOJmdCmk2HzBz1vTk7nu8QhTT94HQhxH1pwWCGrf3maF3hfWnrA608bMbVFm8KbhYAtFKYJ7OQtu9kpPejkGYLgAhpTUSWoUaAzfS0HvJ7ZyuZJy5OWkgz/3AWYs5XPH0lpM0WYC2kKZQdlclaSFNoeiqkWWa4qpyzxY9i0NdCmq2LroQ0ywkKabrIMWoS+zrxuVNIs08My2hnM1uU2an7p59+Ov1YHQlpumzQT5tpYWuis/NxPcscGk/Y6szJLKSd5dtaSDsbwVGENBD0rh1sRimNyZmQZqZAweZKGNL9gMKKL7pu/ikJIW127aCl0dnETJqiix+/LyzSFK60ZNISat9p0pwG3XRHoeXLWNNkTzFIv2den9dhb2lmOrQsmCdGtmAh566Ziu44rOHTkkx/Nk5WhTQzfXPHGFoH+I4wI3TmW+1MSLOXPNNLdwtXE5tNabFg5UhX1nSa+axZuPE50d+Nmbx+Xyl+2XRKyzstKhTcrGjYD3kvQtoVfdkmBID58+erPhT8XunWof1UrbJhZZh5B0WTfacwq+ewup8rIc0OdM78nPX52ZGZFXSGutNTSQhptqAxf2LlX4tDfT3zkgKU+TX7ivhiYrnBTnjMKxkv2tnESCW8LlumWXmgcKWYpSsFeXg6ORLSbOFgJBW2dJpjfls5twhpK5Tc7xO0Qpphy2iFdGXlc4/H+h7OhDSbsdjsYQ6LZ39Wdtpi5mruCFESQprX1Z0NXVUw6CvFpiVfhb+jBZT+3hTIrkbmYsbCDIZiT1t57Vl585vWDYYqomWA1gO6tTBz077j5nMyugi3sfOfvcg276efmTkuqVUhTdHMpl0twJmZ6U4pvK6jnvBaSNtH5qA/Mi3EZsu4OZ36fwpgvmPsWGK2BrFiwWsyE2bTKP3yWEjSh5MT96VfPSsefHbcl24/9gW5CGlNWpZC4FwC7NDM/I95CztteWOgoGCjQYBRenyZP56bWij/Z+YDjsLf0UebLhbmsHjmczD/ohGG+ZJ2IeD2khDSzHdoYaVod1XG6vzVXMaa0+zp/ywbaFlmnsq+Pc4mut5xH7MLIf/nOvaRcTWx9YLhRc0udI6EtC7fqDMclWn6GrSIMw9ndDDtliNCWtMp3jIohTQLf4Z0oSizt5wVD5fzo50JaTbNsOmdPa21L635LHRbYecNiiuzNbKkhDSbEunjRuunI99qijummZUQX0XtYGZHazszD4oycyg1zYL3S+HOfcwdVPT24i5ZgWDTHjMxpoWd7OzFIK9Blwy6ZrD3+OTJkx1elmKcnQpZqJk7mlgV0uzIyUzYHBWEMU/ZG533r90szBdnp0JWbuwt5cxk6WfJTJQdahxNDIdEqw1bPRzdE63QrGTQGs93Ubtx6HORHXmwqZHNylzaP0MR0pqWLIXA2QRoSWaMXpZHbEHydqKIYh7GPNRcGfb2fK6Oc2WRpj8u8xvmF44m+tKy1Yp9eMxW95IQ0rw+WweZHop3liP2E8s8ugyyTPOlkKZxhuekZVobHszXZtnO1gNay3ULH7fzf5b3rKQ4s2bT5ZDb6YNtdt10JKR5TkZaos6gQUVHNDGnhf8zLCErHKwgaXEuQtqekne/g1JI82OiL6Z9bdo7RNaOciWk6dzPDJAClR81RQgzQn4gbDKneGKNWbt18IolJaR5blo3KcooGNncyNo108RIExwSmullpu/LONLMPGjF4HlZS2dzlOZAYao737AJzBxFwxp993uxUwotqRTA7JjC2M32YlCfhYKUGTNdHmjloPWH+5ITI1XQz5jPjOGLzK4qxRHSvDYLBFpxyMkc8ojbmCYWTsy8aQni+8FMkBMzVzYxMnOmyw4LL6aX7xMrS7TwM710M3Jk7WYFjgKZx7NyYG/VoJ8008T3gtsddToRIa0ehfwRAmcRoLWQ+T6/P+Zx7IRMEcP+IPYz+6ZQwOrv+qwTmUK6Ootvb79/cX67EtJ0I2A+xco1hz/X+Q1dv5hf0vLOSjvzM/NUUkKaBgltqKG7HisuzP/Ikfko8z+ml3m6r4U0yzPd34Uug7wuXeSY77IVVpftzB/1xHxZh7wlS7Yq8h54LA1ZdMOjftFljNlf3JmQpuukHk+A7xmjwPA6PCcNeOwszvKMQtpscBEhrZ9K8ZYBIaQpUOgbxogD5o5Szm6doo0FPj8qb5rQnJ3X1Xo9pLKObsB9KbLoQ0vhxl7MrMnzfwoxzsyIWItkE4/Zb5XH8sOgHy0thY4ifrBphhZMCmJntVqdgdtH6KAgZHoo7inOGP6M6WHtl/5v9N+jaPKVRVpzoy84z88Mgq4EDGPE69JCy3UU0RTYJTGx4sJnxKZVPgNHw6/q6zIDoksQfYrJl9ZrppVWDTJjhsyKE5+ReaJrBCtvtEI4C3/HyhOfO9maLdI8DzNbutyQBf25zdYcPmOmmxkhl9yuLQ/MLJk58hvhsbR+Mb18rhTYvGeGOKLV29HEjFZn+hTMLIjME0U7rUs8N+/NUQcppl0H5nc2CBJDVTFdTL+rHvbma8v/QiCQCTCfoUWSYouVVYbGZIXe0cy8g+EmzaJL3zvzCn7zzKPtv0+9jy+XFPuMjsG82dxfhWKR98Gyie6T3E7jBL9rlm/ML3m/w4cPPyc5bB1mHkKh58iiztY95q0sM83iUZ+IfXd4/8yHdeQhvY2VEh0rmvmLzv90vxCWLSxrfSmk+TyY5zKqBgUxr0uNost25rvsu+LIDYcGDYYIZPnLmeyYZrYcUvSTE93wmGeaJ3b44za2SthXuJgva3cT6gbm/zwnyy9azlnusFwzv188B/NtPjdn+TbLTR5vb2DR6fr8889VmuzdDvX2UFgGhJDmx8sXleJDN0m4ejh8WfhB0t+1tCZaWflRmXvYsnZJ/y2+yLSIsomdA2JQ6DDzYacD1kYp3OwnWmVpfaQ/miPRwdo/41iy9m9vvdTnonWZmZq9ZUBvZ82XHySb85mxc39WWijayM9XPtL6elzyWVLEM3ySFp0U/PxIHVlLzccW93/2SqYQZs3dyrVoqWVLgW7dYAbOSg97l1O82k8MQ8SMlKLTkdsI96elgGKUmT591uwnZoZseqPrDZvi9MTMj+8Wnwm3McO1fy8YRou90tnKwfeCmTPdNOifac489TnNS1qWWBCw8mnPhpkto3TwXeIAEo7eV56fGS7Dc5n9Is3XYMWDLk5MF1nJJASCnQDzNbrSMX9lPksDgrOZopQuiY6+VR3bn30YHG33NUdWnumywFZLc6g9dmZjHsfWLRqpGMWH/1Ncc1+KQ2ed/hhejXkI79GRkOa5WJGngHRkAGMZynyP+be9wOT9s0wkbwpxWl8paFnWUDPoPiK+FNLsoM2KEfNslu00rvA5s2ynOGXZ7upZkQFbOKkJmFbmncwbacii0ckRA65nZYIWbXshTQYU7WwxpIWe2oFlLCs93N+RKyfPwXyb5YWzfJvahmljx0lHE0PFMk2lNfidozSU9bqAENJ84WiBZa3c0ctjhkjLLoUIa2P2FkPzfr7+ny89BQitvXqi2GLNmmk3Zxy8D+3sr/e1X/I+9X7mY/V+PDe385psSnI08drk4epj5nHMgHguPVEo0vJZEkJaX4OcmHZe15Eo1fv5csmmRdb+HQ0/6+o6bFlgWh1ZSczH6feUPJ29p3xWfPYU0c7um+8SrcSO3hHNjdscCVqmhxU4pteRUDen1/w/z8VjHGXe+px8l3huZxP58BzO0uXunXZ2XlkvBAKVgP4W+b26m13lMbR60lJpHoW1JJk4+1aZx9mXF8zHeG/u8huWQ8xDnOWjOg/idkd5o85fWWY4y1/JRO9ndrvTHfx8JaR5Hd4v75vX0xPTxnWO0q/3cbTU+sEKQ1f5tD43r8+0cF8zB73dvHSXb+u0OdMR+h13VTaYrxeM/weEkPYEPCNO0C3BHHbHk+NlX6hackkL6dLmzIy3WbNmyhpEy4ZMQkAICIFAIEAXLloq2ULpTmgFwv2URRpLQkiXxX3INf2TQFAJada82HTMpnhHvWj98xH4X6rY3KSFtDPrgf+l+twU0Z+ePtdsdqNFh24djG/qqbXg3DPLGiEgBIRA6RBgFCP2+aErnkzeERAh7R03OcoagaAS0hwKm7465pBk1jDIXmYCCxcuVJ0HGE6IzTX0l2PkBvoMc2l1pk8Wfa69Ea5sRmI0D3YctXo9nUb66LFZiy4q9BOj/x47aLDjhbOhu833L/8LASEgBPyBAMNxso+NOV69P6Qr0NLAjpEsA/RIi+TqadnC8oWdxZ112g40JpJe3xEIGiFNf2h2RtQfiu8Qhd6ZGLSdodDY8YwTO7npCB/sfW51ZsbFjiFmv3GrNI+bdE8AACAASURBVNlBhB032NPa6vW4HztJMu3s1McMjx3v2OGCnT4p6mUSAkJACAQCAbqjMRKCfQSfQEi7v6Xxo48+UlErdIx+dhpnJAodvs5qGcMyLZSjU/jbc/WX9ASNkKZYY7gwV50Q/AW6v6eD1mC6xrDTBCdacdkDee7cuR7NDKfDGryzzpCuONClhBZlRtrw5LrsGc79dXQX+hTqONCurifbhIAQEAL+RIAtecyHnXUA9qe0+ntaWJ5oluTKCEcsnzwpW7gv+2CZo5j4+31L+kqHQNAI6dLBJVcRAkJACAgBISAEhIAQEAIGARHS8iYIASEgBISAEBACQkAICAEvCIiQ9gKaHCIEhIAQEAJCQAgIASEgBERIyzsgBISAEBACQkAICAEhIAS8ICBC2gtocogQEAJCQAgIASEgBISAEBAhLe+AEBACQkAICAEhIASEgBDwgoAIaS+gySFCQAgIASEgBISAEBACQkCEtLwDQkAICAEhIASEgBAQAkLACwIipL2AJocIASEgBISAEBACQkAICAER0vIOCAEhIASEgBAQAkJACAgBLwiIkPYCmhwiBISAEBACQkAICAEhIARESMs7IASEgBAQAkJACAgBISAEvCAgQtoLaHKIEBACQkAICAEhIASEgBAQIS3vgBAQAkJACAgBISAEhIAQ8IKACGkvoMkhQkAICAEhIASEgBAQAkJAhLS8A0JACAgBISAEhIAQEAJCwAsCIqS9gCaHCAEhIASEgBAQAkJACAgBEdLyDggBISAEhIAQEAJCQAgIAS8IiJD2ApocIgSEgBAQAkJACAgBISAEREjLOyAEhIAQEAJCQAgIASEgBLwgIELaC2hyiBAQAkJACAgBISAEhIAQECEt74AQEAJCQAgIASEgBISAEPCCgAhpL6DJIUJACAgBISAEhIAQEAJCQIS0vANCQAgIASEgBISAEBACQsALAiKkvYAmhwgBISAEhIAQEAJCQAgIARHS8g4IASEgBISAEBACQkAICAEvCIiQ9gKaHCIEhIAQEAJCQAgIASEgBERIyzsgBISAEBACQkAICAEhIAS8ICBC2gtocogQEAJCQAgIASEgBISAEBAhLe+AEBACQkAICAEhIASEgBDwgoAIaS+gySFCQAgIASEgBISAEBACQkCEtLwDQkAICAEhIASEgBAQAkLACwIipL2AJocIASEgBISAEBACQkAICAER0vIOCAEhIASEgBAQAkJACAgBLwiIkPYCmhwiBISAEBACQkAICAEhIARESMs7UGoE8nKBjGQgbg9wIBLYtwmI3gLE7ARS44BT2UBhYaklRy4kBISAEBACQkAICIFiERAhXSx8crA7AjmZwNE9wOZFwJJhwKyBwNS+wORewE89gZ96AVP6ADP6Awu+BNbNMMT1iRR3Z5btQkAICAEhIASEgBAoWwIipMuWf9Be/WQGsO9vYPkoYHIfYFw3YGwXYExnY8n/zTPXcx7XFZjQA1jwFRC1HEiLD1pEcmNCQAgIASEgBIRAgBMQIR3gD9Afk39sP/D7OMPqrIUzhfT4t9zP3I9imsdN6A788hWwdyOQd8of71TSJASEgBAQAkJACIQyARHSofz0fXzv+bnAzlXAzAFnLM9WxLOzfSioR3cCJr0LrJ8OiLuHjx+YnE4ICAEhIASEgBAoFgER0sXCJwdrArk5QMQSw4o8qiMw3qIF2pmINq8f2xkY3RFYMQY4nqSvKEshIASEgBAQAkJACJQtARHSZcs/KK6en2eI6EnvGJZoswj21f+0To/tCqwYLZbpoHhp5CaEgBAQAkJACAQBARHSQfAQy/oW9qw/4w/tK+Hs6DxKTHcB1k4FcrPL+q7l+kJACAgBISAEhECoExAhHepvQDHvP/kIMOcjYEwn9x0JHYljT9cx0geP2bW2mAmXw4WAEBACQkAICAEhUEwCIqSLCTCUD889CayaAIx60wsRzegcRbOnYpr+0j9/DKTEhDJ9uXchIASEgBAQAkKgrAmIkC7rJxDA1z+8FfipN8DOgJ6IYR3eToXGY+xoDzsm6hB5m34BCvIDGKAkXQgIASEgBISAEAhoAiKkA/rxlV3iOZz3H5OKXDo8EMIU3RzVcMMsYOdq4O/5wPR+RuxoT8Q4RfjcT4FksUqX3UsgVxYCQkAICAEhEOIEREiH+Avg7e0nHARmFMWLtiqAKaIZE3rrciD7BFCYD6QnAPO/9M6qzevu+MPbO5DjhIAQEAJCQAgIASFQPAIipIvHL2SP3v47MPFtY5hvK0Ka7hxT+gDbVhqjFO78AzgUBaQcBeZ/4YWQ7gaM6QKsHAcwhrVMQkAICIFAJFBQUID8/AIUFhYGYvL9Ms1EWVAACFLfPh7yLCzw7TmD4WwipIPhKZbyPfBjUm4d9I226NZBazSH+47fb4x+OPU9I/JGWrx3QprinRE8Zg8GMlJKGYBcTggIASHgJYHE5HRsitiNmXN/x5Dvp6Pv4LHoPWAkBn46EcPHzMOS5Ruxa/chZGfnenmF0Dvs1KlCHDmUg00bj2PhvCRMmRiPcaOPYtK4OPw8MwFrVqVh7+4sHE/PCz04xbjjE6lA/D5gz0YgahnAfkmcI5cCezYAcXtlXAfiFSFdjJcsVA/NzgAWDTVGG7RijVb7dDN8o3/+xFhSBO9eDxRXSNPfmh+6TEJACAgBfyawJWov+n0yDjUbd0fVfzeHrVJN2CrWgK1C0cz/K9bAeVXD8e/7nsdTLw3AqAm/ID5BLAXOnmtqSi6WLEzCxwMP4NXnd6JJnUg0DItAA9PM341qReDZltvQ5+19mDwhDvv3nXR2ypBfzw78MTuB9TOAeZ+faXmmMYx9k3SQAP6e2AOY9xmwbhpwaBtQEKL1FBHSIf/ZeA4gNdbo6Odp7GhG2+Ax+rhiC+muAEdT3PeX5/cgRwgBISAESoPAtp3R6NrrO9xw19OwlXsStkueMER0lVqwVQ1XwpnimbOtSjhsl9UyBPaFj6n/H6nVEd+P+hkpqRmlkdyAuEbG8Xz8MjcR3TvuRuPwSIQ/sVmJ58a1I5SYpqA2z41rRyoxXbfaFtSrvgUvP7MDI4fF4tBBGdlLP3C6bFBArxwL/NQLGNnBMJbRLVOHqj1n2dXYZ1QHo//TipHA4W2h5/4hQlq/RbK0TOBYNDB7kPfDgfPDpJW6uEKa55nQA6C/tkxCQAgIAX8icCLzJEZPWox7Hm8HW/nqsFWorsTy+ZfXhtXZdlkYbOWq4cIr66Jl2/5Y9+d2f7rFMknLzm2ZGNz/AJrVi0S9GltA8dy0bqTlmQK7Qc0I1K+5BZ1e/wfLlqQgOzu0HX8z04BNC4Bp7xuGLj3wmeUW5yJXS47xwFbiv34GTiSXyetRJhcVIV0m2AP7onSlmDXQ8w6C+qP0tZDeuiKweUrqhYAQCC4CySnpeLffCFS+obES0LQ0WxXPjvazVQ5TLiC3P/wSps9ZGVywPLibP1am4o2Xdynrc6NwzwS0vdhWgjpsC1o33YpxI4+CVu5QnFLjgeUjDauzEtAW+z3p8tx+yXNwXvoDkHgoNIiKkA6N5+zTuzx2wOjkR18p+4/Iym9fCmlGDtm+yqe3JycTAkJACHhNIDUtA116focLr6hrWKE9sEA7EtF6nY2uIOWq4YY722Dq7N+8Tl+gHrjqt1S82Ga7skJTBNsLY29/0zrdvH4kRgyLQeaJ0BLTFNGLvwNGdwLGFrUUWynD3e3DMp4unOxLFQpiWoR0oOYqZZju1KPe+Ugzwgc/rpFvGMOK71oDpMYBcz4CRrxubKMPlruPVG/nxzqRPtJ/lyEMubQQEAJCoIgAw9i99+EYXEh/50o1i2WF1gLavDyvam0lpq+7vTWW/hY6Gd+mvzLQts121K9RPCu0M7HNDoncxigfBSEShZDuHEt/BOjf7Em5q8tfd0uec0xHYMn3wPGk4M4iREgH9/MtkbvjYCqeRu3gR0XRu+ALo8mHzT4MnZOTBfw5G/h1GLDgS6PDgtWPms1H7BTBkHoyCQEhIATKmsDs+atR7pr6qrOgWQD78v/zLq8N20WP46Fab+JwTEJZ33KJXz/h2Cl077gHtZ/c7DMrtCNBTct0q8ZbsWFdeonfU1lfgJE5OKowDVu6hdidMPZmu7JMdwbWzwzuDogipMv6jQ7Q6//xk+EHZVX0cr/JvYG1U4Adq4BtvxmdBPn/9pXG/wyhw0FbrH7YFNKzP5I4lgH6CkmyhUBQETh4KB73PPEabJc+6XNLtL0QP4/RPS59Eu+8/wNOnQreeNO5uYUY9UOsz905HAlprqtbfQu6tP8HiQmngurdtL+ZQ1uN8thb90xPRDXLaUbXOhhhn4rg+S1COnieZaneCQUw/ZOtil794XF/+mJxPh2Tkp0TGGLHAx8tCnOObPj7BCBPRjYs1WcvFxMCQuBsAoUFhRj0+STldkFfZnvh6+i3CnXHaB6XPmlE9eDSg8getvI1cO0drbF2w9azExNEv7ZvPaFcOhgX2pn4tV/PKB6M5lHnyc0q1J0n/tT62Gk/xQftqIhsBV4xyvCLtmoIY1nNiBz0pVZzR+ujGtOlk8fQF/tUkIbvFiEdRJlOad4KOxDMHOh5CDx+uK5mLbjdLZXo7g7sWl2ady3XEgJCQAicS2DPviO4r9prSkg7Es326yi2L7qqLuq0eAf9Px6PAZ9OQJ8PR+GR2h3BbYwpbX+M/W8Vd7pCDXTr/T1O5QafVZrW6B+/j1EROqyK4Ya1ItCqURS+/OQg5sxIwPChR/Bcq20ehcijCO/SfjeOxganVfpApNHyS0uxu3KW21nWctCVv+YBEYuNmYO1TP/AegdFnoOhavcHqVu/COlz80RZY4FAbg7wx2SjpmnlY/T1PvTt4sedEmshsbKLEBACQqAECYyeuAgXsCPgZe6t0UoAVw5Di+c/QOS2fZgw5Vc83/5jLFiyHqvXRaF6w26qoyJ9oe3Fs/1vW/lquPvxV9WQ4iV4e2Vyag6W0rHdLtSvscWSNZrh8Fo2jMKYH2NxLP4U8vIKceRgNjq8vAsU2PaWa2e/9aAujC8dbFN+HrB2WpEBzELHfo5eyHL22H4g+QiwYRaw8WcgPcEYCI1xp622JI960xjshWkItkmEdLA90VK8n8PbgSm9PbdKF1dU88OlK8jmhcHdgaEUH6VcSggIAS8JZGZm46U3P4WtnLUBV2yVa+LqW1th7sK1WLthmzHioe1hPBTWAVt37MeoCYtQ6V+NwdjR9sLZ/jcjg1S4oREmTl2qUn8sKQMbNkdjY0Q0/oo4gI0RB85a6nXm9fb/87eejf2Nc5051jg/r+HTeUs01m/ej2NJRme/5b+m4KkmW9WIhM5Er17PkQsposeOpIjOwbw5CVi3Og1HDmWruNOeCGlavynev/niME6dKkR2Tg4itu7F+r92YOOmXdi4aWfRkv/rmescrXe1vz5W76PP4dvluo3bsXvvYQCFSgDP+8LoZGilHKbVesl3wKEo4PfxRZ0TuxghZ2lM+21skVXagiin8WvWh8Fp/BIh7WXmKYcZvslrfjKs0lZ9rax8vO72ob/VvM+D84OU90oICIHAInAkJgH3P/kaaB22F7qOftMPOrzp29gXHYuPhkw2fKQrVMclV9fHrLm/Y1PEbtzy37bKb9rR8eZ1hntHdbzdd7iCtnz1Ttz8+Hu4+Ym+uK3a+7jtyffPXlZ7H7dynWm9+s31en+9vWgfvV2fj79LYr75ifdw82PvYcWaHepeRg6PtezW0ahWBF5ovR1LfknCzzMT0KbpViyan4TYIzkeC2mKc7p3dH1jNzLSC5Galo7Gbfrgprva4JYH2+KWB18oWvJ/PTta52ib3k8vzftwnW/nm//7PG68/Sn0HTRaMY3dZUTGoiHKXTmrt0/obox4yKhbFNacGRggPxfYMPuMq6be39lSWa67BWenQxHSgZVn+01qC4qCbdK14udPrNdwnX1kVtfzI6avFYcXl0kICAEhUNYE1m3cgWtuf0p1FDSLXEf/qzjQ5avjmVcH4VhCCnr2GwHbxY8r6/Ml19THqAkLsXvvEdz7ZDvr/taXPImWbfshNzcXGzZFo+KtXWCr+jJsV7cLrLnqy6h4Wxf8uWU/GJ5tcL9oFUVDW53dLTlkOAW0FsLLFid7LaQ5fPiLbXYgem8Osk5moV7LnrCd/4hqdVDDvbOTaCDM7MB68eMY+PlE9ZmwTxEFrVV3DFUudzsToYsGM5bBjLSVm2XEoeZvdih0W4az02FHYOvysv5ifX99EdK+Zxr0Z0xNycXPsxIQczhb3ev+v4DJPUteTKtIH52A9dOBvODrWxP0743coBAIRgKz561GlZuaWRqARQvp514bjMTEVPQeMBK2S544S0hHH4zDAzVetxxGj4IurEl3xCckY9/BRNxRvR9sV7XDhf/XIaBmCv87a/bDvoPxSE8tRO8ee0FB605Am7fTT5puHJyLI6R5/DMttuGvPzOQm3cK7bsNUbHBrXQCdVSBKqt1tsvCcPE19TFu8mL16dEdUglpK8L3LTtxXDSg2oIhwIlU4ECEMY6DEtL2+zr5zdbkP+cAweYnLUI6GHP2ErynjON5+OGbI2jZYCt+GBqDnJwCdbWo5cBP75Zc50N+rJxXjgOygj9efgk+QTm1EBACviQwYepSVKRPs4WRDM1COiEhFb36jzhLSI8c/wv2RsfivmoeCOkK1fFo7U6IPngUMfFp+G/dQbBd+WpAiWiKfqb5wfqDEROXjIT4fPTotBsNPBTSFNX0l/aFkG7ddCv+WJmO/IJ8dH9veGAK6cphyod+5rzf1StPEeuNkKYlmiHwZg8GjmwH4vcaLdGeiGharOknvWZq8IWsFSHtyxw1yM9FSzTFc4t6UWhYMwJtmmzD7GkJKCgsREEeoMR0L6P5xmc+00UfMM+3amLwDzUa5K+Q3J4QCDoC46f8ioo3WBPStEzSR7rps33VqIR9B48xXDsq1cTFV9fDpGlLsW1HNO545GWPfK4fCe+I6AMU0un4b70AF9LxyUiIy0P3jhTS1qNtaMu0r4Q03URW/WYI6R59A1tIz5q/Sn13yqeZrh2eWKSLyuC5nwAHo4DYf4C5nxa1QHtyHi2kpwB5QRZZUIR00GXrJXNDaal5+PHbGDSvG4XGtSJPL59uug3z5yQiv6AQhQXA7nXAnMHGYCme1lbtfaxYc2YNliMiMuROZmrJ3JucVQgIASHgLYGZc39HlRubwlaxprXOhpVqKqG8/q/tmDZ7JS66si5sFzyKa25rhVVrI7Hw1w0qqoetYg1r5ytfHTUavYWjcYnYfygJd9Wka0cAWqSvehV3h/XH/sPHkJZSgJ5vee7aQRHNwVvYWXDpIsNH+rW2O9VvbtNi291SuXY034qN6w3Xjg49voatQg1L8b3Lyo3D0XXp2nHptQ0wYdqv6vXetMAzizQFN8vxuZ8BB7cC8fsAunaM6nDGb9q+3Hb1m64dDKEnrh3e5jZyXMASOJGRpyzRzeudEdEU1JxpmX668TbMmZaIvHzDzSPpsGE9nkRXjzdNH5yF2qv6cLuesWr/8rXhi8XOJzIJASEgBPyNwB9rI3H1ba2U0HIkZuzXMdb0BZfXQd9BY3DwcBzad/sK197WCgM/m6DcOl7vNgTnVwkHhwG3P9bRb46M2Py595GdnY2/ow7hynu6w3bFK7Bd93pgzVe8givv7YFNWw+oPjAfvh+tRiZ0J3rN2zkYS5um2/BU4yisXpmKpIRcvNVxD55qvFWtM+/r6n+K8batt2PPPzk4mX0STZ/rC9tFjyv3HYYlDJi5Yg3VAvLpN1PVZ7Pj96IoGxajdigR/SlwdA9wPBH4bTQwsQcwuZcR+pZlvCvhbL+NnQ0jDU3vb59xsdIjFuli4Qv+gymitSW6SZElWotovWwUFonWjbZi1LBYHI01xutmjMnoLcaHN6WPUQvWw4xyyUDv/Eg58zctz5zZoZBDj1NAb/sNOBF8MfGD/6WROxQCIUTgwKE43ElXjHLWwt9RDNNSeOUtLfHh5xOx7Pe/MXnmCixd+Te69xmOCtc3shRDmudR4e/KVUPnd79VxH/9fQeq3NENlW/vhqp3vhVQM9PMtC9dtV3dy/ChMSqes5VRDTmISvP6UfhkwEEsWpCExb8kIXJLBvbuzsJvy1KweEESPht8UMWa5r6uRDS30aLdsd0/SEstRGp6uhok59Kr6uKyG5sE1Fz5X01w8RW18XbfHxTTI9sAHcbOXuSe85vW6M7AitFAcoxhjd65Gti1BvhnHbBnA7B6siGsrUQB0dbt/ZuCL3MQIR18z9Rnd0R3Du0T3STcsEBr8Wy/pJjmugmj49SIUjoR2ZlGbTZiCbB8pOFbxaHFp30ATO1rxKec0c9wB1n8rdGjl72BRUBrgrIUAkLAnwkcz8hC65cHKp9mdiZ0ZDV2tE5ZNS+rpYQZ3TqUn3WRtdPR/o7W8RyXXtMAP45boBAdPJKMuUsisGBpFH5ZFlgz0zx3yRYcjElS97JwfrISvozE4U746u1tmm1F2zbb8eLT2/F0861o3WSrii/9YpvteLrZVjBEnt7X1ZJCmsI7J7sQmVlZWLbyb8xduAYLFq8LuHnOgj/UYDEckCU1Dvj5Y88GUWO4WVqeaYXmSIYsuzlziHC6XZ4jwJ1E7KDBbHo/IJFjwwTZJEI6yB6or24nLcWwRDerG4Um4YZIthfP+nfT2sY+H/TcrywAKDw3FYWFRgcDCmQON8pREQ9GAoe2AnG7gbR44FQ2VPzQc4+WNUJACAgB/yRQWFiIoT/OMZr9LbpjaFFsq1LLcBOoVNNYenp8+Wq4+YEXsGXrXv+EU4xU7dtzEvRv9iQEHq3NFN4coMV+tmKJprimBZw+0r/MTQLLrWCa2Mlv1QTPomtpS7JuQTYvrViitdAe2QFY+gOQG2QdDfl+iJAOpq/ER/eiQtwNPXK6Q6EWzI6WFNH0k+7faz8OHTDiSjtMRqH7DgaF+UCB4Wbt8BSyUggIASHgjwQit+1To9x54t6hxbS3S1vVcDUoyCudPkfWScOlzh/ZeJumnOwCfP35YSWkrbh3uLIwe7KNw4O//uIuHIh2UZ55e1N+cNzejcCknoZbpRa5Jb2kyyYFOV1DgnESIR2MT7UY93TiRL7RsZCWaCc+0VpQN2W8zhoReP8dNyIaQPYJI/LGkuHAuhnApoUA3T22LDLcOeiH9dvY4Gz2KcbjkEOFgBAIAAJ5efl4+/0f1SAqVjsJeiug9XGM6lH1382wePmfAUDIuyT+teE4nm2xDQ3DrLt3eCKa7felYK9bfQvGjIhFQX6QmaOLHgHHYVjyvWdW6eIKbfZ/WvAlcDJIx4AQIe3d9x2UR6V64BNtuHNEFVmiT7rlcTIDWDbCCJvDmqn6MLsby3FvAaPeBGb0B+L2uT2V7CAEhIAQ8DsCUdv24z8PPK+sxFrsltTS6GT4JNp1/hwnMt3nv34Hy2KCTmYZVmn6LJeGVbp+zQi8/uJOHIwOXqZEv/dPw++ZbhrFFcnujqf7B/2s/1lr8aEH4G4ipAPwoZVEktVgK9/GoIUln+hINA2PRP/e+3H4oLXmLwrpFWOMyBwU0mouau7h/4wvOXsQEL+/JO5OzikEhIAQKHkCw0fPwwWMylE5zHKnQ2/ENkPe3fpgW0RtD/4MM3rvSbR/aafHofDsrc3uftO3mp0Rl/ySXPIvShlfgf2R1kwpskprw5aTToLuhLLL7UWDufw+Dsi1JhXKmIx3lxch7R23oDrqeHoehtMn2kGcaO3GoZeGT7Qhog8dsF5rp5D+jUK6s+MaMNdz+FF2RJRJCAgBIRCIBHJyTuHlTp+pUHgMceeNSHZ3DEdGvPTq+pg8Y0UgIvIqzSuXp6BFfQ62ssVS1A13otl+e6PwSBVqb+iXh5GXG5wuHfbg2cF/3hdGK7FLMVwMgc2W5p8/McLn2V8/mH6LkA6mp+nFvZwebMU0YqEWzfZLiugGRT7RVi3ROkkipDUJWQoBIRDMBOITUtDihQ+Ui4etkm/FtK18NZS/uh6GDJsVzAgd3tvPMxPQvH4k6H5hL4SL85uWaJ7zowEHkJqa6/DawboyPhqYNchwrTztclkM4awFOc9FET3rQyBmV7DSO3NfIqTPsAi5/9JSc8Gg9y3qRYEi2V44m38bPtGR6NcrGocOWrdEa6gipDUJWQoBIRDsBA7HJODZdoNx3mVhSlDTp9mdpdnVdo6GSHeOK/7TDF//MBsFBaFhNTW/J4UFwNyZCXimxTaPh/x2JLTpc00B3Tg8Al9+fAiJCUEYl80M0Mn/x6KBeZ8DYzr6JpIH/a4poud+GhoimlhFSDt5uYJ9dWpyLn74JkaJ5ya13ItoCumBfaJdh7hzAe20j7Qr1w7xkXZBUDYJASEQSASOHUvBgM8m4Po7WxuuHpVqqpEIXQlm+20qznT56srn+ol6XTBr3irkh3CMUFYg1qxKwztd9qh40Q0ohGtbG2RFi2kKaMaJZgfGl57ZgamT4sE+QqE8pcQCf0wyOiDqEYa1ddnqkiHueOyE7sDv44GkQ6FDVIR06Dzr03eqfKJPi2h3g61EolFYBPr3jsZhV3GiT5/d8T9ikXbMRdYKASEQvARy8/KxePlGtHyhH6rc1BT0b7YVCWMlkquEK3FNi7WKxFElHGo9B2gpVw20RN/8wPN4t98I7NodhEPCefnojxzKwdgRsWjXdicahxtDelMcU1RTKNvPXK9dOBqERSir9kf9D2Dz38eDNsydp2hPZRmRNRZ9A0x82+iIyL5LjLqhggOwU2LRrH9zG4cRVwL6bWDBEGDnKiAn09OrB/b+IqQD+/l5nHr6RA8vEtGNLcSJblA9Av3etR6dw1mCDCFd6LKz4SzV2TD0miydMZP1QkAIBAeB9OOZmLNgNV7p9BnufeI1lLuuIWwVq4OxoM+a0wnbVAAAIABJREFUK9RQIyRedUtLVGvYDX0HjcFfm3chNzcvOED48C7y8gqxe1cWJoyJQ89ue/H8U9vVaIYUyow7TWGt5rAI0HLdqtFWdG7/D4Z+cRjr16QhMzPfh6kJnlNx9OFda4Dlo4CZA4Hx3Y0gAadHNOxcJJ6LWpe5z7KRwI5VQIYxunvwwLB4JyKkLYIKht3S04pEdD0O6e3enYNDg/frtd8nMTXFtSMY3iC5ByEgBIpDgAO3bN91ELMXrMZn30xFl57fou0bn+C51wbjlc5foGe/ERg+ei6W/vY3Yo+GqCrxAnByUi62/J2BhfOTMHbkUXzzxWF88dFBDPn0EEZ8F4NZ0xKwbk06Dh3MRn6QDrTiBTaXh+TmAAkHgH1/AVsWA+umA6smGkOMr50GbF5kxKOmj3VOlstTBf1GEdJB/4iNG6QPGC3RzepYFNG1IzGgTzQOH/JN8EcR0iHyosltCgEhYJlAYWEhcnJykZ19SqzOlqnJjmVBgJ098/OMOYTd9B2iFyHtEEtwrUxTlugjqmOhe3eOKDQOi8CA99ix0PPoHM7IiY+0MzKyXggIASEgBIpLYMff2fh1xgn8ueIk+P/uyBzs2pyDLWtOYvnsTKxdkonMjILiXkaOFwLnEBAhfQ6S4FpBP7Dh3xwxLNFWfKJrROCDd/eDnTl8ORkWaTc+0ipqh/hI+5K7nEsICAEhEAoE5o0/jtfCY9Gx4VF0bxmHd1rH4e2n4tC12VG8UiMGQ95JQmqS+EWHwrtQ2vcoQrq0iZfi9Qx3jiMqTrQVn2j2fqZPtKeDrVi5JXHtsEJJ9hECQkAICAFvCCycnIEO9WLxWq1YvB4ec3puXztWCemhfZKQlixC2hu2coxrAiKkXfMJ2K0pybkYpi3RbjsWRqoBWRgnuiRENCGKkA7YV0kSLgSEgBDwewKLpmTgzfqxaF8nVglqimo9twuLwbfviZD2+4cYoAkUIR2gD85VstNS85SIbs7oHG7dOaJAv+mB75WciGZaxUfa1ROTbUJACAgBIVAcArRIi5AuDkE51lsCIqS9Jeenx2Vk5GHY19Y7FjJOdP8ScucwI7JikZY40mZi8r8QEAJCQAhYJSAWaaukZD9fExAh7WuiZXi+9HRaomPQot5WNA13P2IhLdEf9KRPtO+iczi7fUtCWjobOsMn64WAEBACQsAFgYWTj7u0SA8V1w4X9GRTcQiIkC4OPT86VvlEf30EzepGWhpspWntKBXi7oiP4kS7QyGuHe4IyXYhIASEgBDwloB7i3Qy0pIl/J23fOU45wRESDtnEzBb0lI52Ip1d44mtaIw8L0DJdax0BE4EdKOqMg6ISAEhIAQ8AUB8ZH2BUU5hzcEREh7Q82PjjmRkY/vvyqKE+3WnSMKDWpEoH/vaMQc9m2caHdIREi7IyTbhYAQEAJCwFsC7i3SErXDW7ZynGsCIqRd8/HrrSo6x9dH0KKutWG/G4eVXJxod6Cs+EjPVj7S7s4k24WAEBACQkAInE3AvZAW146zickvXxEQIe0rkqV8npSkXHzP6Bx1olQM6OZ1o9QQ4I6WTWtHolltunNEo7R8ou1xiJC2JyK/hYAQEAJCwFcE3AtpsUj7irWc52wCIqTP5hEQv1JTjBB3zWiJthAnukm4ESf60MHsMrs/ce0oM/RyYSEgBIRA0BMQH+mgf8R+e4MipP320ThO2AnGidY+0W5FdKTyiR7Qu+ws0fouREhrErIUAkJACAgBXxNYNEXC3/maqZzPGgER0tY4+cVe6Wm0RMcoFw5amR25ceh1dOdoFBaBfr3KXkQTnhXXjlkSR9ov3jNJhBAQAkIg0Ai4d+0QH+lAe6aBkl4R0gHypFKTc1V0DgrlJuHO/aG5nTGiOX9Yhj7R9lgNIV2IMZ2B8W+dO3O9CGl7avJbCAgBISAErBBwL6TFR9oKR9nHcwIipD1nVupHUER74s5Bof3hewfKrGOhI0AipB1RkXVCQAgIASHgCwIipH1BUc7hDQER0t5QK8VjMkxxojmkt3bdcLSkFZpxogf08Q93DjMmEdJmGvK/EBACQkAI+JKAeyEtrh2+5C3nOkNAhPQZFn733/F0o2MhRbMVEd2oZqQabKWsQty5AihC2hUd2SYEhIAQEALFIeBeSItrR3H4yrHOCYiQds6mTLckJ+XiO0bnKPJ5dmSB1utO+0T39S93DjNAEdJmGvK/EBACQkAI+JKAeyEtFmlf8pZznSEgQvoMC7/5jyJaDfttKU50JJqGR+JDJaJLd9hvT4CJkPaEluwrBISAEBACnhBwL6TFIu0JT9nXOgER0tZZlcqedOf4bohhiXbvzhGJhjUjMNAPfaLtYYmQticiv4WAEBACQsBXBERI+4qknMdTAiKkPSVWgvunF/lEWx2xsFFYJPr12u9X0Tmc4REh7YyMrBcCQkAICIHiEnAvpMW1o7iM5XjHBERIO+ZS6mtTknOVJZp+z9biRNOdIxoxh/3XncMMUYS0mYb8LwSEgBAQAr4kIELalzTlXJ4QECHtCa0S2pciWvlE14mE+xELiwZb8eOOhY4wiZB2REXWCQEhIASEgC8ILJwsQ4T7gqOcw3MCIqQ9Z+bTIzjs97dfHkGzOrREu48TTZ9ojlgYKJZoDUuEtCYhSyEgBISAEPA1ARHSviYq57NKQIS0VVIlsB87FhqWaCsimh0LGSd6P44czi6B1JTsKUVIlyxfObsQEAJCIJQJiJAO5adftvcuQrqM+HvrE+2Pg61YQShC2gol2UcICAEhIAS8ISBC2htqcowvCIiQ9gVFD8+RpOJEH0ZzS+4ckeCAK4PeP4CYALREazQipDUJWQoBISAEhICvCYiQ9jVROZ9VAiKkrZLy0X7pqUXROepEWhv2O0xH5wg8dw4zMhHSZhryvxAQAkJACPiSgAhpX9KUc3lCQIS0J7SKuW/G8aLBVmiJrmWlYyF9oqMRcyQwQty5wiNC2hUd2SYEhIAQEALFISBCujj05NjiEBAhXRx6HhybbIoTTVcNxot2NnM7I3gMVNE5AtsSrRGJkNYkZCkEhIAQEAK+JiBC2tdE5XxWCYiQtkqqGPslK59oHeLOuYCmsKaIDgafaHtcIqTtichvISAEhIAQ8BUBEdK+Iinn8ZSACGlPiXm4fxp9onWcaHfuHOGRaFQz0uhYGATuHGZUIqTNNOR/ISAEhIAQ8CUBEdK+pCnn8oSACGlPaHm4Lwdb0SK6sTsRXTsSDWpEYECf/Yg9EhzuHGZcIqTNNOR/ISAEhIAQ8CUBEdK+pCnn8oSACGlPaHmwL+NEc8RCums0CXfvzsF9Br4X2CHuXOERIe2KjmwTAkJACAiB4hAQIV0cenJscQiIkC4OPSfHJiWewvdDrPpEM040Q9xRRAd+dA4nSCBC2hkZWS8EhIAQEALFJSBCurgE5XhvCYiQ9pack+NSUwxLdLM6UZbiRDcOo090dEAPtuIExVmrRUifhUN+CAEhIASEgA8JiJD2IUw5lUcEREh7hMv1zhkZefj2y8OwJqKLfKJ7RyM2yDoWOqJkFtLjugH285hOwKxBQPz+QkeHyzohIASEgBAQAk4JiJB2ikY2lDABEdI+ApyS5KlPdCQ+DKI40e4wUkgvG1mIkR2AsV2AcV3PzGO7AqM6ADP6A3H7REi7YynbhYAQEAJC4GwCIqTP5iG/So+ACGkfsKZPNC3RTTlioduOhZFoVjsKgz84EBKWaI2XQnrd9EIsGAKsHA+snQ5smAWsnwn8MQlY9C2w9Acg4aAIac1MlkJACAgBIWCNgAhpa5xkL98TECFdTKZmn2iORuhstEI92ArD4A0OAZ9oe6yFBUD2CSDvJIAC+61AQQ6QkwHknzp3m6wRAkJACAgBIeCKgAhpV3RkW0kSECENICOtALHRedi//RT2RJ1C9I5TOHowD1knHCg+09NISjiFbz636hMdpeJE050jFHyiTZjO+vfEyUzs3ncIf27agdXrI7F24zZs3bEPiSkpZ+0nP4pPIDv7FPZFH8XGzbvxx7pt+GP9dmyK2IfDMYnIy8sv/gXkDEJACAgBPyEgQtpPHkQIJiMkhTQFMkXzsumZGPtRKr7sloxB7RLRr20C3n8+Af1eTMDg1xMxpHsyJnyeht/nZuLw3lPIOXnG7aCwsBAzJh9D83pRajRCt5bo8EgMVCI6+AZbcfXdZJ3MQdT2/RgxbgFe7fwFajR6C/c83g43P/ACbrznWdx033O485GX8WidTmjz8gB8NGQyVq2NQkrKcVenlW0OCOTlFyjhPGX2KnTt8yPqtuqLB2p2wa0Pv44bH3hFzbc/0h4P1e6Gps8NRJ8Px2PBkj8RG5fs4GyySggIASEQOARESAfOswq2lIaUkD6RXoBNq7IxZnAq+jxzDF0bxqNDraNoX/OoWnYIP4o3w4v+r3UUb9Tk7zi81TgeH7RNwKQv0rB9Yw6yswxBfehgNoZ9HYM2TbY5DXXXtHYUOCuf6JjQEdFZWdlYvmoT3uzxDW55sC3KXdcAtsphsJWrBluF6rBVrAFbpZrGskKNovU1cPFV9XD1ba3Q/PkPMGnaMsTFi8hzl+nk5xdgS9Q+fPDJJDwY1hWVb2qN865sDFvFurBVqgfbZfVhq9LAmPk/11WqhwuuaoqqNz+NsGa98fWPc7Fnf6y7S8l2ISAEhIBfEhAh7ZePJSQSFTJCet+2XIwelIZ3WhwzRHOto+hYOw6d6sahcz3nM7dzPwpuzr1aH8Pkr9OVKwjfkJNZBZj+0zE83WQbGtY820eaA600oU/0B8EfJ9r8tezZdwTden2HG+5sY4hlCufKYTivajjOv7y205nbbZeFnRbXFW9ohKbP9sWylZvMp5f/TQQSktLw2dCZuPvxDrBd3gi2yoZoPu+KxrjgqiZO5/OvagLbFY0McV25Pi6+phker98D46cuB1sRZBICQkAIBBIBEdKB9LSCK61BL6RzTxVi5ZxMvPdMAl6vYViY3YlnZ8Kax1FMvxF2FANfTcTfK9hzDigsBObOSECLelHgACuqY2H4GZ/oo7GhI0zmLVqLB6q3LxLD1WFzI56dCWslqmmxvvRJXHlzC+XycTwjK7i+vmLezZat+9D42QE4v8j6fN4VjZwKZ5ei+somsF3eELbydXDp9S3wRo/vcPBIQjFTJ4cLASEgBEqPwGkhXTsWb9Q9e24XFoOh7yUhLVn6hpTeEwmdKwW1kM7MKMDcUcfRrVG8ct9wJpA9XU9BTXeQt5vHY/nMTOTnAgUFhZg15RhaN9qKRmGRytVjUN/QsUTn5OTix3G/4OpbWyrxa6vi2vrsTEA7Wm8rXx0XXFEbnd4ZivgE6ZTI7OnX3zbj3modDfeNqg29EtCOxLV2AWn4TH9s33kwdHJCuVMhIAQCmsD8icfxWq0YvFIjRi35v55ffPwIhrybiLQkEdIB/ZD9NPFBK6RzsgoxZ+RxdGsYjzdrOXfd8FREm/d/IywO71BMz8gECoGcnAL8MDQGLepG4cP3D+BoTGhYolmJ+HHMAlx9ayvYylfDeZf7TkRrYU1/6guvqI03un+F5OTQ7oj468rNuOdJiug6yhrtSBAXZ51yEanSAHVbvY+d/xz206xLkiUEhIAQOENgxc8Z+LhTIr7/IBkTh6RiyrdpmPxNGkYNTsEnnRMx/ssUpKeIkD5DTP7zFYGgFNIFBcDSaSfQtUEcOoSXjIjWgppuHu+2jMefyww3j5jDOZg0Ng4H9hu/ffWg/Pk8cxeuwXV3tAYtx1r4lsRSiemq4egzcDRyTuX6M5ISS1vE1n14pE53ZYlmh8LiCGZXxyr/6Qp10aztIByVDp8l9jzlxEJACPiGwMkThchKB3KzgYI8oDDfmPNyjDEMMtML1TrfXE3OIgTOEAhKIb3z71N4t+Ux5cusBW9JLunm8WG7RMQeyFNkaaENlWn/wTg8VKsDbOWedNuZ0Bfi2lahBspf2wAz5/4eKohP3yc7Ab7w5hcq4oa7zoSuRLLVbbaqDWG7rAEGfj5F4k6ffgryjxAQAv5I4GROHuKTM7FpeyJ+XXME8347iIWrDmHN5jhExxzHiZO5yA+hstkfn1GwpinohHRaUgG+652iOhZ6LJ7rGlE8PO2MyP0ZKm/cJ2mnQ+MF6wtjvq+TJ3PQ+d1vVTi786rUsmyNPq9qbSW62aHQmJ1H8rAX3+ddXlv5YD9WtzP27o8xJyfo/x8zaSnK3dACFLhWxfD5VzZR7h/skGjMziN5ODono4D8330vY/nvW4Ker9ygEBACgUUgL78QETuT8f2k7Xjh7d/xaKu5uLPeTPwnbBpurD4VN9WcitvqzMADTeagSfulGPDtZixbF4vU4zKEbmA9af9ObdAJ6T/mZ6nOhW/WPuoyrJ1ZZOtoHLQs01WDopjROTwR1Nz/7WbHELk2NPyi+Vr/tmoLrrntKSWk7QWvs9+2KrWMONKMJ12++pm40h4IcYbIu+Dy2vjkqynIpx9PCEwHDx/Dw7XfUuHtGLrOkei1X8coHiocno4nzWXleirsnf2+zn7T8s0OiC++OQSZWaETBz0EXim5RSEQ0AT+jExE10HrcXudGahw7ziUv2ccyt09Vv1f8b7xqHT/eFS6b7z6Xe5uYxv3ue7xn9Ci4zLMWByNk9niMx3QL4GfJD6ohHRKQj6G9kzxyKXDEMvx+LxzEmYMS8e80RmYOSwdX3ZLQqc6cehYx7qPNYX4uI/TkJUR/OKOA65wsBW6WtCq7Ew4m9dTRF96bQPUa9kT3d8bht4DRqJH3+Go0+IdXHJNA9gus27VZqfGR2p3wj97Q6Mz3Hcj5xth7i63FuKOIrri/z2F+q0/QPe+I9Hnw3F4t/8YFS6v0o1PqZjTzsSz/Xq6d1x394tYunKzn2RbkgwhIARClUBSajY+GxmpLM0X3TFGCeWqD05A1Qcn4vL/uZ65T+X7x4PHVf3fRLzSaxUid8mgX6H6LvnqvoNKSEeszkb3pvFqNEKzxdnZ/xTRFMrf90nB0ehc7I06hXljMkAf62OH8zBqYKrabtUyTat0n6ePYd+24G82ity+Dzc/+ILlDoYUyZdcXQ89+41AcspxrFwdgXc++AGzF6xGTGwievT9AZdcU9+ymOYALxdfVRejJi7y1bfgt+dJTslAnZZ9VZxne5Hr6Pd5lzdSLiC9BoxDQmIaVq6OwnuDJuDnhesRE5cErq/4f63A/Rwdb79OWaUr11eC3G8hScKEgBAIegJb/0lB664rUOXBCUUC2rVwdiWsKahpof5f87mYvnC/CmEb9ADlBkuEQNAI6YJ8KEsyRyG0akV+s3YcerU5hqi12Yg7lIfPOibh1SeOYlC7JBzem4v920+h/0uJamRDZ2LcvJ7X7lw/Dkunn1APKy8/H4kpmTiWlIGEpBN2s17HpZ65j/l/fYze1/zbvE4fU3LLY4kZSEw+gVO5RlPYD2MXKOuyrVKYNWt05TDceM+z4IAta//chrsefQW28x9Rw4dHRO3D7r1H8HCtjmokRLMV29n/jFPNYcZf6vgZTp40Ki4pqRkqzvSxhFQcS0yFw6Xeprebf+t1XOqZ28376N8lukxB/LEU0OrP6bfVUbjhnpeKhvV279ZBX+gLr26CNq9+gs+/nY1bH3odtkvDcfXtz2PVum3Ysy9WDSXOIcTtRbOz3xxS/LH6b4MuJjIJASEgBEqbwObtSajz4iIlfi97YLxb67MrEa230UJd/u6xuLX2DIybvVs6I5b2Qw2S6wWNkM46UaDcMd4Mt+YbTSsz9x32XgqS4/OxYmYmOtY2Rj58M9wQwyfSCzByQKplf2mek1bp0R+mAgXAiZM56NZ/Lhq9PBotXhsX0HPjl0ejfa8ZqmLAd/+1Ll+CItqqWwc7CV54ZR3c8/ireKjWm+o4W8WaSozTqpyUlI6nX/nQ0lDiWlwzHN69T7TD0fgk9Tl+PnQa6rfqqYYV59DiJTY/0xdNS3Bu/HQfdf6/N/+j7mvoiHm48Komli3IFMMU01xeeHVTY9TCyxrAVrURRk38FccS01CrWW/YKtSxLqQvb4TKN7XGMul0GCRZv9yGEAgcArsPpKHuy4tR7p5xqPLfCT4R0afF9P8mKnF+S/h0TF8YHThQJKV+QyBohPTRg3l479ljSsiarcTO/leiN/wopg1NR+bxAswcfhyvVTtq+EXXjlO/szMLMe3bdHQIs97xkB0VP+2YiBOpQF5BHuo+NwK2q7vBdn0P2G54O0DnHuoeHm0yFMdPnEJW1kmENekB26XVLFmjtfCl6LZVrqmszozcQSFc+f+aYOa8PxBzNEGJYK6zKs65b5WbmmHjpp3qg+rW+/sznRcr1jCGKQ/EZblqisvfWwwh3aX3D2rwFWfWYmfrKabVSIXl6yiL9JW3PouVa6KwdcdB3F+jk2ULN8/PmNW2SnXxw7iFfpN5SUKEgBAIfgIsc17utQoX3zFGuXRoAezLJS3T7KjI6B7iMx3875Sv7zBohPS2P3NU7GhPLdKzfjiOk5mFSji/Xv2MkJ727XHkZBdi9o/HVedFT/yk6Q5yZA9dIArxes+ZuODGd3HBje/gon/3DMj5wpvewXn/9zae7jgJ+fnA3v1HcH+11y37R2shbV4qUV2+Gqo16IbYuCQsWLLeGBmxUk3L4px+0uWva4ips39T38VXw2bikmsbnLZq8xqBNhsuKzVx35Ov4cChOGSezEHrVz72SPRqYX3+5Y1x9e3PqQ6H7boOxcx5a8ABXV7qOASXXNsc7JCo93W3VKK8Uj30/nAc6LIkkxAQAkKgpAkUFgIjpu1CFdVJ0LeWaHshTjF96V1j8XyPlTh+IjQH/Crp5xms5w8aIc2RBXs0i7fsz6xdO5SQPnGukJ7+XZGQHuGhkA4/qizju7cYfru9Pl6Ii//TExfc9K5a8v9Amy+86V2V/g59ZqnvgJbSW//3orL4msWx1f+VNbpCdfzr7mfAURH3RR9Fg6d6q46G51WxFgGE11IdGK+pj+9GzlXpGjt5CSrf2NSyn7XV9JbmfqqCUbEGajR6CwlJaYhPSEW9Vu+rsHXuxK799vOqNsTN/2uHXgPG4odxi7Dmzx1Y8UckmrcdhEuv80JIV66H9t2/Q2ZW6IR4DNaMX+5LCAQCgd0H0vFoq3lK4NoLX0e/6fZByzKjclx4+xi1rHjvOMuuIOyAWPn+CZg8f18g4JE0+gmBoBHSaxdmoXsTz4X0jO+PIyujEDOGne3awfV07Zg57LhHrh20iPd55hh2bDSE9AdfLMElN1NIvxNwAloLfgppzl37/axe23V/bsO/73/eKyGthGKFGvjXXU9j+Oh52BSxG0+9NEBZoRkezxPRSiF98VX18OV301W6fpqxXLl60OXDk/P4075aSNdu/i7YefJIbBLC6M9cuZ5l67EW1ByMRQ31zdjRlRvglodex+Llf2PH7kOo0aSnijGt93W31Bbplzp+hYwTJ/0k+5JkCAEhEKwECgsL8eXoraj8wARLftEU0Vc9MgmPPTUPbbqsQNu3V6Jlx2W4o95MdQ5anB2Jb/t1F985Bk3bL0VCisTND9Z3y9f3FTRCev2SLPRo6pmQ7hB+FKMHpyEtKR+/TMhQA7Ew4gc7G/I340GP/zTNcmdD+mOzsyF9tXdtMoR0n08XBYVFmkK6Y9856v3b+PdO3PLfFzwW0soSXbEGrr+rDcZMWoRtOw/gmXaDlQXZVtkzEU3xa4TUq49vfpit0jVh6q+4LEgs0vRBT0pOx9H4FCP0XSXPhLQSvhTQl9VXLhy2qnR5qYe+gyfi+PEsFQJPhbWz6N6hz9eu21CcyJQCxtcZsZxPCAiBswnExGWejtJhL3btf1NEX/nwJHQZuA7bdqdi2dpYfDtxO/7emoila2NQ47lfcNkD1mJN0yp97WOTsXBlaIxRcDZ1+eUNgaAR0hFrsvFOi3gwpJ2zDob262k9HvByAqK3n8KeiBz0bn0Mrzwei3eaHwN9ro8dycOnHZNAwW1/rLPfFNL9XkzAgZ156nl07jtH+UVTiGoLb6AtmXb6eLftNgX0Wdv5zwEVfYODsXhizaVP87/ufhqTpi/D7n1H8EL7j2G7+AnYLnrc6CTooSWZIxyWu7YhJkz5VbH+fuTPKH99Q+Uj7Um6/GlfZZGuVBMPhXXAkZgEpB/PQvMXBnnkI8340FVvfhovdhyCsGZ91JDiDH/HgVW+Hj4Xaekn8Ernr3FelQano3tYtUj3eH8UTp0y3m1vMhw5RggIASFghcD83w7h3zWnotJ97l0zOCDL5Q9NxCu9/8BXY7fhoRY/o/w949Gm6wokpmbjx6m7lNCmmLYX4fa/VUi8e8bhvS//wqnc4B9czcqzkH1cEwgaIX1wdy56tzmmQto5E7n26zlyYee6cWDHwrTEfKz+JRPf9kzGilmZSE/Ox/xxGejaME5F8rA/1tlvRu34qH0iUhMKUYB8NHl5jBG147ruRuQORu8IuLk7bFd1Q/VWw5B1Mg8pqel4ol4XJX6tilCK6Gtva4XJM1eoN5IWaXZYvPexV/DfGu3xQPX2uOGuNkqY03Jt5bxG1I/GanAXnrRn/xFFw44/aQxDXqF6YC4veQJX3tISUdv2gc2br3f/1rNQdVUa4I5H38D6v3ZhX3Qc3v5gDKo36om3Pxitfs9esBY3PvCK564dFetiyDCjVcJ1tiJbhYAQEALFIzBo2BbLbh0UwxTAVzw8SQlmDg9+0e1jcHvdmaCf9aJVh3HNYz+pUQ3thbOj3xyopd4rS5Ao7h3Fe4ghcnTQCOmM1AJ8/EYSOtSybpGmGGanQ3ZS/OnLdPy5NAtrF2dhw9KTmP5dOt5ubt1VRJ/rjbCjaqTEgjwgMzsbbTpMwK3VP8E9tb/A3QE6M+231fgEDV8ahcTkTPVpPPvqYGN48Mstit7LaI1+Bl9+NwPzF6/Dj+MWYOiPs/FrOl9nAAAgAElEQVT9qJ8xbPRctWzZtl+RkLbW4ZBC+j8PPI+Dh+NVmnr1H4Gb73sOdzz8UkDPt/3vRdz92CtYv3G7uq9Pvp4Odhy0GmWDbhiMyhHevA+GjfkFE6f/hhHjF2P81OXo98kk3P5Ie9Ctgz7U7izRervt8sa45JpmmLd4Q4hkjXKbQkAIlBWB7Jx8vNp7FS65a6xbC7JZCHPEQ3YupJ/zBbeNRvMOy5CQnK3cPK54aJJy7zDv7+z/8veOwz0NZmHb7pSyQiDXDSACQSOk83MLMeHzNOXaYTVUnbYq0zJN3+iuDeLwVuP401ZoqyMk6vPo/TnMOKfsU7nYsj0G6zYdwIbNBwN65j38HXUYmVmG7/en30xTHf3oXmHFesx9LriCcx01MMul19RXbhh0xdAzhxC3ei7DBaIGmr/QDxkZWYr3jn8OYs2GrUqAUoQG6rxu43awQyeH9+Y0f/EGXHn7c8o1Qwtbd0sV97lqQyWUL72+BSr8qyUuvb65EQ+6akPLLh36OvS1vqdaJ2z/55BKk/wRAkJACJQUgdhjWarDHy3DzsSuo/X0lX6g8Rx0G7QO34zfhqh/UjBt4X7c33iOIaItdjiseN843FxrGn5dHVNStyjnDSICQSOk+UzWLspCl/pxlkPgaQGsrclqeHEOMV7bsFSbt1v5nz7X7zSPx7YNwR8ebPW6rbj2jtbKKm1d/BodBOnm4XD2IGoHOxoyVN4X301X7g9B9E2ecyuHYxLxSN3uHrl3UACrDoKXNzJ8pKs2VCMc0qp9/lXWLdGnz1OpLl7u/BVO5Yp/9DkPSFYIASHgUwJ7DqYjvO1CVPAgdB2FNYX0vY1mo/37q9F/6CYsXxuLhauOoEG7JUWdDd37SPM8dA35V7UpmLFov0/vS04WnASCSkgfPZSn3DvoXmFF+Pp6n/Y1jyofa0YBCfYpJS0Drdr2h61cdVj1abYquK3sZ6tQXcWy1qMaBjNv+kn3HTyhKAKHMfS3thSXxpKjI3J48Cmzfg9mzHJvQkAI+AmBf/anoebzv3gspBkqj+KbcaRtN4/Cwy3ngqJ82doY3F5nhhLIjizZ9usYueOGJ6dgygKJJ+0nr4RfJyOohHRBPvDLhBOqc6DqSFjPM3/p4ghrWrFpDV/zS5aKbOHXT91HiZs6eyUqMEqGh9E2rAhlV/uo0f8q1QSHBM/ONlxNfHRLfnuazVF7cRM7CF7WwLJfsy9EthH2rr4aHTE+wXA18VtIkjAhIASCgsC+wxmo+9JieOLaccVDE3H9E5Nx5UOTlGDmwCwMY7dyQyz+iU5F9WcWoOJ94y25itAifWP1qZj964Gg4Ck3UbIEgkpIE1XMfsMqTetwcYSxR8fWjUP7Gkfx9TvJSE0MnXA5jHPc/Pn3Ybv0SZxnsdOhK4FsdZutfHXc8mBb0Jc4VKb8/AL0++QnnH9FI8udDn0hpGmNvuw/bTBx2vJQQS33KQSEQBkTYAfBVp2Wq1EK7a3Fjn5T+N5ZfyZ+nLoTHw2PwB11Z6LSAxPQ9I2lOBibgZmL9+PfNaepKCCOjrdfR6v2reHT8fuGuDImIZcPBAJBJ6QJfc1Cw1eaA6t4JIi9tGAzdnSvp45h28bg9422f6nXrN+qonHQ1cKqEC7OfuzcSAv4F0OnI78gdCot5B4Tm4SazXrBVrGux50FvRHVasCWinXxatdvkJZuRGuxf/7y+//Zew8wuYorfV/7+2+wsfGu7TXR4LBerzMm2NhGZBuwwQQbiQwGJCGyZUASOZuMyRkJJIQQOUkCIUAIlBFIJIGEchjFUc6jOf/nreGMay7dPbd7pmd6ur96njvdc0OFt6pOfXVu9b0iIAIi0NwENtZssq4XvZn61eBf2aGX/c9e/e22hz+wD6ZU24CBU+2mB9+zV0fNteeGzrB9jnsx9QtZENV4wnc46CmbMn1ZcxdN8ZUhgbIU0uvX1trD1y011kr7kzSKJagR6zwlhDchVmq48fYB9h/f+G3ebzrMV1DzCvF2X/yNHXrMxVZdXRm8N22qtedfnmjvfjArNK8XXh5jW//wmCCmCxHHaa8JSzq+uI/9ZLeuNvED3d6s1L6tcotAaxHgxSpf3+nhVK8HR/zyshXWNe951PP2p1OHWIczXrEDTx5s/7vvY+H50WlfER5eyPKjB4NHfOnyylg62Fp1XC7plqWQpnKWzK+xOy+sDi9oYf1yMYQ0T+lARPe9cZmtXFZZ3tG4A/D4ubN73mH//t+I6T2K4pnmKR3tvry77X1QN/vo48p4dWutmT38+Cj79i/Pt8M732vLVtS9mvvOB16wr/1Px7zedphWQHNe8ERv/jv7351PtoFDxsVVre8iIAIi0CIEho2ZF0Twl36Sbl0zYpofG37hhw/Yv//f/XXbD+5PvS7al3fUvdnwAbvmnndtYw1WWEEEchMoWyFNsedN32h3XbTE8Brn8+rwNKKbF7+cuu9c63PDMluyoPyf0pG7GZlVza+2M7vfbv/23/vWvajlq+leqpLGKx0elfel3W2fg/9mY9/5uLGslM3xfk+Pse/seoG126KT/ce3TrPzrnra1qzbYKyXvuWeZ+3r3+0QxDTPjM5HKOc6tx2Py9v8d/aDXbvo5Stl05JUEBFoewSql62zw06rWyed1pvsYrgpn/wg8Tt7PmpvvT2/7UFTjluFQFkLaYgunLvR+ly31M7Yv8p4fXdTn+aBd5t4uv2xyp66e7ktr65cT3SyxS6pXmGXXtPbvvadg8PrwxHAaYRytnPC0zk2a2//76v7WMe/XG7vf1Q5SwweeWqMbbtjD2u3ZWf71+26Wrututhm3zndrrxloG3YWDdxe6j/K/b9X5wcXvXNjwJzCeTGjvnTOXgqSPs/nGtDXn8nWb36XwREQARalMBDT0+2/94l/au9myKg/VoenXdizzds9Ro9M79FK7sNJ1b2Qpq6Wb+u1t54YbVd+peFdspe8+rXTqd9AyLnIaB5EkjXfebatactsvHD1lqtNHTGpv/iy6Ot/QFn2f/31b3DEz2CR/m/9k71vOnwxkKWcWy2W/Bsf+dnRxlrsJd/9vbCjAmW2c5Hnhpt2+7Y3dp942T7t+1Prd8Q1Zv9zxl2yY3P27r1dUZ+/MRPreNJ19iXtj3E2m22ryGo617/3biXGvHMC1rafWU/a/fl3wUP91k977Hps+SJKbMmpeKIQJskULVwdXjN93/88P5Uj61zMVzoJ68X3659Pxs6cm6b5KVMtw6BihDSjnb2pxuM13df0WlRWDPNGmeeuMHGd8Sybw2PzbMzDqgKAnpwv5W2YLZmqs402+f0mVVBAP9m/zPsC1vtF560wRrnsG2+R+LNhnvU7ec4x/5rL/u/XY6zv/a8w0aP/TBbEmW5v++To+uWc2zZqV5ANxDTW3exL3/vTDv9gv72ybQFgUH10pXW57GhduCRl9rXvtvR2n11//C8aV7rjbBux1sN4419HPvPumPf/MmxdmzXG2zgkLF6c2FZtioVSgTaLoEXX59p2+/+qH0pz9eF5yumeSsiyzrOv3GsbdyotdFtt8W0fM4rSkiDt6bGbNaUDTbsmVX24NXVdsVJC8Oj67odXGVnH1hlZx1Y9/m3Q6qs++Hz7eoui6zPDUttxKDVVjVTAjrfJjpl6hzr89jL1uWvN9kue51iW/7vYfaf2x9kX9r29/bFrQ+wzbY+wL6y3YH23989xH7wi+OtwwmX2c13PmFjx39s69ZtyDe5Nns+by+sXxO9dZewnCMW0PH3f9mmi7Xbposd0fV+m7vgn49nqlpQbc8OGmnnXvKA7XlQd9v2x8fZV7/bwTbf/k+22TcPtS9981Db/Ft/sq//T0f77o4n2gEdLrLLrutnrw6fYEuX6/F2bbbxKOMiUMYE+MHfZbeNN7zF/JgwX4Gc5vyv7tjbvvjjB+z3Jw22eQvXlDFNFa0YBCpOSMcQ16yqtcVVNTZ54nobM3SNvfHcanvtqVXh7YTjXl9jUz/YYNULamzdWs1OY26FfF+zZp3NnbfYxr0zyZ589g27t/cLdus9T9udDzxrjwx4xYa9+a7hxV5Woc8rxhP9zZ16WLut6tZEx8I5+Z1zttrhPLvvkTdtzdrPTzY2bNgYfvzJY+ueHTTK7u/7kt1633N2233PW69+Q2zw0HE2afIsW7h4mSHgFURABESglAksW7HeTrloeHi+83/ukP4pHulE9EPhxS+/PvxZGztxYSljUN5KlEBFC+kSrRNlq8II9H1qtG3z88+viU4K6H/d7tTwBI9td+pufZ4YVWGUVFwREIFKJrB46VrrfMHw4JnmzYNpRHJj5+Dh5lF5v+nwrI0Yr9+GVHL7akrZJaSbQk/XpiawpHq5XX3TI9bprBvtqhv72V33P2f39xlo9/R+0W64/XE7q8cddmaP223C+1NTx9nWT8QZ3OfJuudEt8uyJtrFtIvo7XbpYb0eGyFPcluvfOVfBEQgbwK8IOXSW98Or/vmedG80fCrOz2Ut6hmPfQXf/Sg/efPe1vHs4baOx8uzjsvukAEnICEtJPQZ1EJVM1fYr/v0NPafaG9/dsW+9uXtj3QNt/+IPvydgfZF7b+vbX70h623U+OsNfffLeo+SiZyGvN6n9YyHKO6OkcLp79k2M8sYPH4T00YITx+lwFERABEahEAqyZfvG1mXbwKS/bN3bpEwQxHmrEcS4P9H/t2Ns2/2mvsDxk85/1sh0Pfsr+0es9W1Rd96KrSmSpMjcPAQnp5uGoWBohMH9BdXi1d7vN9rDwlsL/3Nva+fZfe4dH3f3PTsfZ8JETG4mpPA4/8uRo225nXxP9z0fcuXiOP1kTve1OPcJyDl4ZriACIiAClU5gzvxV1uvJT+zQrkPse/v0t6/v/HBY64ynGWHt22Y/fjC87XDzHXrZ9u0fsd2PfN6uuH28TZy0xPQTkUpvRc1Tfgnp5uGoWBohUC+kv7yn/cvX9rX/9/XfNtjabb6nfW/nyhDSiOitfn6etftGJ2PJRiyak99Z8rHNjt2t7xOjGyGswyIgAiJQeQQWL11nr46aa9fdN8E6nf+GHdz5Jdvr6BfsNx2fC6L5gBMH2dHdXrULbxpnjw+eatNmr7QaOSQqr6EUscQS0kWEq6j/SUBC2sK6Zn4k+K1fnG8I5JzLOXib4ZadbPtdelrvASP+CVLfREAEREAEshCotcXL19jUOctt0vRq+2TmUpu7aKVt2KRH12YBpt3NQEBCuhkgKorGCUhIm+GJ/s6uF9Q94i7Fmmgeh4eI1proxtuXzhABEahsAkurzBZ8arZyodmGlWY1q802rjJbvcRs0QyzhdPNNq6vbEYqfXEISEgXh6tiTRCoZCEdns7xxKhUz4n+VzzRW3UO5+K9rtEPCxMtSf+KgAiIwOcJjH/R7KFuZv0vNnvmWrPnbzB79nqzJ66o2z/4drNVSz9/nfaIQFMJSEg3laCuT0WgkoU0T+fgBSrttjg553po1ke326KThedEP6nnRKdqWDpJBERABMzsncG19uCZZvefmthOM7uvq9lLd5qt+ueLYMVMBJqNgIR0s6FURLkIVKqQxqu8/S96hvXOyR8SNvifl61s2cm226WnPfz4yFwodUwEREAERCBB4J2XzHqdbfbgGWa9zmq43X+a2Ut3ma2WkE5Q07/NQUBCujkoKo5GCVSakObV2/98TnQXY8lGA+EcrZEOyzm27GTf3PmzNdEb9ZzoRhuUThABERCBiICEdARDX1uUgIR0i+Ku3MQqSUjXWq31fWKUbbdzz7ofFuZ4xF14Y+Fnz4l++PFRVqvHMlVuJ1HJRUAECiYgIV0wOl3YRAIS0k0EqMvTEagkId3niZG25c/ODeudcz0nOojoLVkT3cP6PT0mHUidJQIiIAIi8DkCrJHOubRDa6Q/x0w7moeAhHTzcFQsjRCoBCHNco6wJnqXnql/WMj66Ye0JrqR1qPDIiACIpCbgDzSufnoaPEISEgXj61ijghUgpB++IlR9u1fnt/oco7wdI7oh4V6y1bUUPRVBERABAog0KiQvlM/NiwAqy5JQUBCOgUkndJ0AuUspPFEs755u116fCaiG/lh4VZdwg8L+zyu50Q3vWUpBhEQARGoe/xdzqUdd+nxd2onxSEgIV0croo1QaCchTSPq6tfEx09jSPTUzp4xJ3WRCcah/4VAREQgSYSaNQjrcffNZGwLs9GQEI6Gxntb1YC5SikN33mieaxdQjkND8sZE00nmgFERABERCB5iMgId18LBVTfgQkpPPjpbMLJFBuQtqXc+SzJnr7z162skmv/S6wFekyERABEchMoNGndmhpR2Zw2ttkAhLSTUaoCNIQKCchjSeap3Nshyd6686NvGzl1HDON3fqEa6pkYhO01x0jgiIgAjkRaBRIa3H3+XFUyenJyAhnZ6VzmwCgXIS0jyubiueE81yjhxrouvfWLhTD3v0mbFNoKdLRUAEREAEchHQ0o5cdHSsmAQkpItJV3HXEygXIY0netsdu1u7b5yc9ZXf/MgQgY3Q1pro+iagLyIgAiJQNALySBcNrSJuhICEdCOAdLh5CLR1Ic1yjocGjKx/TnSmJ3L4Pn9jISKax+JpOUfztCHFIgIiIALZCKTxSK9alu1q7ReBwglISBfOTlfmQaBNC+laC4KYHwu226pz7uUceKK36mzf3Lm78YIWieg8GolOFQEREIECCaQR0qslpAukq8tyEZCQzkVHx5qNQFsW0niiw3OiwyPucr1spW45By9m0ZroZms6ikgEREAEGiUgId0oIp1QJAIS0kUCq2gbEmiLQnrTplrjh4XbhDXRnXKvid6ua92a6F16Wt8n9ZzohrWv/0RABESguAQaXSOtx98VtwIqOHYJ6Qqu/JYselsU0g89NtK+9Yvzw1INX/+c6TOsid6ik33rl+cHEc16agUREAEREIGWIyCPdMuxVkoNCUhIN+Sh/4pEYP6CJXboMRdZuy/vaf/ytX3t/339tw22dpvvad/b+TgbPmJikXKQPlo80fxIsG5NdJdGnhPdNQjt7XbuaX21Jjo9ZJ0pAiIgAs1IoFGP9J21tmqZnBzNiFxRfUZAQlpNoUUItCUh3XvAiM+eE83LVk7NuqTDPdG8mKX/s3pOdIs0JCUiAiIgAhkIyCOdAYp2tQgBCekWwaxE2oKQ9td+b/3z88JzonOKaJ7OsUXdc6IfeWq0KlgEREAERKAVCUhItyL8Ck9aQrrCG0BLFb/UhTTLOXpFa6JziujPfljImug+T4w2BLiCCIiACIhA6xGQkG499pWesoR0pbeAFip/KQvpWp7OMWBkeAtheE50juUc/NiQc7bbpafhiUaAK4iACIiACLQuAa2Rbl3+lZy6hHQl134Llr1UhTQyuPdjI2yrHc4LAjmNJ5ofIeo50S3YeJSUCIiACDRCQEK6EUA6XDQCEtJFQ6uIYwKlKKRZktF7wMg6Ef2Nk7P+qBAvdN0PC08OT/Lo9/SYuGj6LgIiIAIi0MoEJKRbuQIqOHkJ6Qqu/JYseqkJ6bo10SPsW7/oae227Ny4iN6yk3171wvskSe1Jrol243SEgEREIE0BCSk01DSOcUgICFdDKqK83MESklI44muWxN9vrXbOvcj7uI10X2fHG01NZs+VzbtEAEREAERaF0CEtKty7+SU5eQruTab8Gyl4qQRkQ/+Ohb0Zrorlm90WE5x1adw3KOx54dp6dztGB7UVIiIAIikA8BCel8aOnc5iQgId2cNBVXVgKlIKR5dTee6C1+dm54TnSm1337vn/97BF3PJ1Da6KzVqsOiIAIiEBJEJCQLolqqMhMSEhXZLW3fKFbW0jjie7Vf4Rtt0uP8HQOF8yZPoMnmjXRv7wgPOKu5WkpRREQAREQgXwISEjnQ0vnNicBCenmpKm4shJoTSHNDwt57ff2/LAwrIlOt5yDHxZqTXTWKtUBERABESgZAhLSJVMVFZcRCemKq/LWKXBrCWn3RG/tz4ne/tTsa6I/e9kKglvPiW6ddqJURUAERKAQAhLShVDTNc1BQEK6OSgqjkYJtJaQ7tX/Ldvip+eENdG5XrbCEo92W3YKXuvHnhvXaHl0ggiIgAiIQOkQkJAunbqotJxISFdajbdSeVtaSG/atMl6PfaWfXPnHuE50f+ayxPNDwu36GTf4TnRT+llK63URJSsCIiACBRMQEK6YHS6sIkEJKSbCFCXpyPQ0kI6XhOd6QeFvs9/WPitXXraI0+PMQS4ggiIgAiIQNsiICHdtuqrnHIrIV1OtVnCZWkpIR2eE93/Ldv6593D0zl4jJ2L5uRneMTdVp3tW7843x59ZozxeDwFERABERCBtkdAQrrt1Vm55FhCulxqssTL0RJC2n9Y+I2f1K2JTgrn+H+WerCcY/tdetqAZ7UmusSbj7InAiIgAjkJSEjnxKODRSQgIV1EuIr6nwSKLaR5xB1vLNx2J9ZEd8rqhUZMBxG9Zd2a6H5aE/3PStI3ERABEWijBCSk22jFlUG2JaTLoBLbQhGKKaRZ14yIDi9bCc+JzvGIu8/eWMhyDkT0phqtiW4L7Ud5FAEREIFcBCSkc9HRsWISkJAuJl3FXU+gWEKadc08nWObHX1NdHYRjTe6Xf2a6LHGUhAFERABERCBtk9AQrrt12FbLYGEdFutuTaW72IJ6Qf7v2VhTfQWncKSjXgddPw9PJ2DNdG/6GmPP/92G6On7IqACIiACOQiICGdi46OFZOAhHQx6SruegKxkG731X3sX762b4Ot3eZ72vd2Ps6Gj5hYf02uL3XLOd60bXfqHn40GIvm5HcX0Twnut/Tek50Lq46JgIiIAJtkYCEdFustfLIs4R0edRjyZcCIf3HIy+wdv+xmyGa231lr4bbF3azb+9wtL3x1oRGyxIecRfWRPese8Rdzpet1L2x8Nu/PD+IaH6UqCACIiACIlBeBCSky6s+21JpJKTbUm214bxWLVhiR550hW37o4622wFn24FHXGB/OvZSO/joi22fQ86x/93peNt5r1PszZHv5Syli+ht6p8TnX1NdPyc6P7PaE10TrA6KAIiIAJtmICEdBuuvDaedQnpNl6BbSX7a9eus48nz7TJU2fbwkVLbOXKlbZmzRpbtXq1VS9dZjNmzrMPJ023JdXLcxaJNdH//eO/Nb6cgx8Wbqk10Tlh6qAIiIAIlAmBdwbV2gNnmt3X1ey+Uz/77Gp2/6lm955iNviOWlu1THcky6S6S6oYEtIlVR2VkZkVK2pt3vz1NnPOWpszd50tqa5ptOBr1q63e/sOt212PK9xEf3ZI+5YE40nWkEEREAERKC8CYwfVGsPn2P22CVmz1xr9twNZs9db/bklRb2D76z1lYtlZAu71bQOqWTkG4d7hWT6qZNZlUL1tqrwxfYnQ9OsZ5XTLDO3cbasV1H2RGdRtpRnUfaSWeOsW4XvWM33PGxPTNwjn06baWtX9/w+c7PvTwhvMq73TdObvxlK1vwspXPnhOtNdEV09ZUUBEQgcolsHSeWdVks6VVZquXmq1dYbZmudmKhWYLptVtG9dLSFduCyleySWki8e24mOePHWF3fPQp0E073nwq7bDni/ZD3410H74m0H2I7bd6j75n/0/bj/YfvP7oXbIscPtyhs+tFHjFtvatXXe6klTqqxrj372le+fHX5gmHwyB/+Hp3N89pxoPNH6YWHFN0EBEAERqDACK5bX2Px5G2zurPU2b/Z6W7J4o9Xg0VEQgSIRkJAuEthKjnb5ig32QN+pduixb9rP9hhsP/j1IPvxboPC95/v9ZJl2xDaP2nP+QODyN7rkNfs0uveNwQ5Ye269XbTva/YV75/liU90+GHhVt2Cl7rJ18cX8n4VXYREAERqBgCq1Zssg/eWWPP9Vtqd1+zwK45b55dcvocu/CU2XbRqbPtqm5z7JbLqqz/fYtt9OsrbWHVBtO7uCqmebRIQSWkWwRz5STy7ntL7czzx9d5n389sFHxnEtUI75/8KtB9qcT3rQXXp5bb/zu7vOGfYMfHG7ZOSzz8OdEf1troiunoamkIiACFU1g6ZIae33gcruu+1w77c/T7LjffWodd59sHXefYkfsOcWO/Gw7Yo8p1qH9ZDtq7ynW6eBpQWA/0bvaZk1bX9H8VPjmIyAh3XwsKzom7py9Mmy+HXLsm8GjjCc6m0jOZz9e6h/+epD95g+v2N29P7U1a+qWetze+/W6Nxpu3SU8neO7v7rAHmU5h1wNFd0OVXgREIHyJsAq5/EjV9nV58wN4vmI3SfbkXtNsWP2/TT8j6DOtB3720+DmEZYc363Y2fYC48ttVUrteyjvFtM8UsnIV18xhWRwpBh8+3AI98Ia50Rv/mI5TTnsqZ61/2G2B0PTLaaGrMNGzbaRdc9FzzS39y5R3g6B8+YVhABERABEShPAmtW1dqABxZb54OnWYf2U+yYfTKL5kxCOt6HqMZzffTeU+zGC6tsxhR5p8uzxbRMqSSkW4ZzWacyfkK1HXT08OCJLoaIdqHNjxN33neI9RkwI/CsWrjMTun+iD38xKiy5qvCiYAIiEClE1i+tMbuvnaBHb1PnUc5FsaFfkeIsxzkwlNm2aQJayodscpfIAEJ6QLB6bI6Aour11uXbmOL5ol2Ee2fLPPY44+v2qhxS0IGlq1Yo6dzqDGKgAiIQBkTWLWixu65fkHwIB9doBc6m9jGO8166gu6zLIpH64tY4oqWrEISEgXi2wFxLthY63d/sDk8IPC5loT7YI51yePyut67ts2f6GMXgU0MxVRBESgggnU1NTagAcX21F7TQne6GyCuCn7EdOsnb6q21yrXryxgmmr6IUQkJAuhJquCQTe+3CZHdDxjbCkI5fwzXbsp7sPtv/bdaB9f9eB4bF32c5L7v/J7oNsl31ftn5PzVRNiIAIiIAIlDEBflh4yqHTgte4KWbAKC4AACAASURBVGK5sWv5sSJi/dF7FhviXUEE0hKQkE5LSuc1ILBhwya76a5PwvOeC1kXjQd7r0Neta7njrOzLxhvfzjyjbx+oMizpk86a6zNrdK6tgYVo39EQAREoEwI8Ii7v583Nzy+rjEhnDyOl5kfE7LxPXk80/8IaR6R997bq8uEoIrREgQkpFuCchmmMW3mKjvs+LfCWwqTHuPG/kdEs91458f165uvvW2S7bj3y6mfO41Xetf9XrGBQ+aWIV0VSQREQAREgOdEH7//VCt0XXTnP04NT/g44YCpqYQ04vrw3SbbHVfNt3Vr5ZVWC0xHQEI6HSedlSDw7KA59qv9X7Eftx+UlycZkc0rwY/oNMLenrDEqhastaXL19u1t36Ul5BGiP94t8F25Q0f2Pr1eg5oonr0rwiIgAi0aQL8wPD6nvOs4x5T7LiUHmWEsP948JbL5tv8uRtsxpR1ds15c4MYT+OZxivd9bDp9vFE3e1s0w2oBTMvId2CsMspqatu+jB4j/Nd1vGT3Qfbzvu8bH0HTA+v/n564GxbtHidXXtrfh5pBDmvE0eQc72CCIiACIhA+RDgtd+nd5geXp6SaRlGtn28wfCMjtPt3dGrbf36WluxtMZuubQqtZB2If50nyX1d0zLh6pKUgwCEtLFoFrmca5avdE6dxtX0I8M8Uaf/NexNmPWKnv06Zl23e0fW/XSwoQ03vDd//iqfTBpWZkTV/FEQAREoLIIPP9odViOccy+U1Ivy+AHg8f+dor1u3uRVc3aYCOGrrSF8zbYLZekF9IIdJ7gcV3PeXrrYWU1uYJLKyFdMLrKvXD6zFXW4eQRea+P5ikdLAd56dWq4I0+pusou+Ta9235ig0FeaSJ75fEN7SqcitDJRcBERCBMiOwqcbsnusWGK//zuZ5zrSfZRnnd55lUz9ea68PXGGP3LXYlizYWJCQ/ttxM2zerA1lRlbFKQYBCeliUC3zOCd+uMz+ePTw8MSOxn5Y6MdZAvLj3QZZ98sm2JLq9eFV3yzxuPyGD2z5ygKF9B6DbZffDrFH9Ri8Mm9xKp4IiEAlEVhWXWPX9pgXPMOZBHOmfXiuT9h/qj3/6FKbO3O9XXL6bOt18yJbujh/IY0gP/XP0+39t7VOupLaXaFllZAulFwFXzduQrX9/ohhQRi7UG7sk6ds7Hf46zZ85EIbP7Ha9j3sdfveL160y677wJat3GBX3fSR/bj9YPvp7ul/vPjTPerWW/d6dFoF14aKLgIiIALlRaBqzga79Iw5eT07mh8lXn7WHJszfb0NfHypHb3XFOtze4FCeu8p4WkfI19bWV5gVZqiEJCQLgrW8o50/ITq8NxnPMyNCWiO441G9F5984e2qdbsxVfm2l/OGG0nnT3G+j4+w1av3hi8ykd1GWW77j/EfrbHS6niJU5ezPJQ/+nlDVylEwEREIEKIjBnxnq7qOvs1EL66H2m2MkHTbXXBy0PT9vAm/yHHT623v9YZNWLNtp13efan38zxVhDncmbndzHs6c7HTTV3nhpRQVRV1ELJSAhXSi5Cr7uo4+X26HHvZV6aQePqmMJRo8rJtqgofPsucFz7JlBs8PnxA+W2oaNm+z9Scvsrl6f2u8OH5b6LYeskf7Fb4fYk8/PruDaUNFFQAREoLwIzJu13i45Lb2QPnLPKXb1OXNt2ZKN9tGENXb3tQvszr8vCD82XL2yxoY8s8wuP3uOnfj7qalezoKQ5hnUb70iIV1eLas4pZGQLg7Xso51/oK1dmzXUXk/tQPhy1M7eNoG3mz+//s/PrT1G2rs+tsn1Xmudx+cyhuNp5vH3/3qgFfszdGLypq3CicCIiAClURgyaKNdtU5c1OvkT5230/tnONn2r3XL7Dety60h25dZL1vWWhjh6+ytWs22bBBy8OzpBHSabzS/izpd0bpDYeV1O4KLauEdKHkKvi6jRtrrduF79gPfzMwtej1JR7+VkNENN+7XfSujXp7sZ176QT7+Z4vpX6zIfGxpnq/w4eFR+lVcHWo6CIgAiJQVgQ2rK+126+cn9dTOxDIPLaOjfXSh+82xfresdhWLquxmy+sCvvSvJCFZR7EcdZR023GlPVlxVWFKQ4BCenicC37WO96cIrtlMcrvRG+mTaWfPz696/YLr99OePxTNewj3XXeKS7nvO2LV+xsex5q4AiIAIiUEkEBjyw2I7ZZ0qqpRgN1jj/tu7thgjri0+bbQ/fvtDOPWGm4bVO+4ZEhPTlZ86x5UtrKgm5ylogAQnpAsFV+mUjRi+yPf74aup10tkEcXjVd/tBeXmiiYvreEvi3b2nhB8wVnp9qPwiIAIiUE4Exr6xyrocOs1YZtFAKP8u3Q8GuYa1zh13nxIEedo48FojpPvescg2bqgtJ6QqS5EISEgXCWy5R7t4yXrreu44++Gv81vekU1Q57v/R7sNsv06DLOx7ywpd9QqnwiIgAhUHIHFCzaGHxwiatOK4OY47+h9PrW/HDDV3n5zVcUxV4ELIyAhXRi3ir+qttbsiednGS9VYb1zvkK4KeezrONHvxlkF1/zvq1apWUdFd8YBUAERKDsCDDGPNOn2hC2YVlGHp7opgjqDrtNtqv+NlfLOsquRRWvQBLSxWNb9jHPX7jWTjxrrH1/15b1SvPkD17oMmKMntZR9o1MBRQBEahYAjxPuvtJs6xjnq8KL1RI8zxq1lYPG7y8Ypmr4PkTkJDOn5muiAi8+uYC2+3AoXm95bAp3mhe1sJykpvv/tg2bNT6tagq9FUEREAEyooAXunBTy0LSzvwTBcqkNNc52ujb764ylav2lRWHFWY4hKQkC4u37KPvba21m69d7LtsOfg1C9SKVRIs6TjB78eaCeeNcbmzV9T9mxVQBEQARGodAKrV26y2y6vso7tJ+f/BI88loOwFrvbsTNt2ifrKh25yp8nAQnpPIHp9M8T4IeHPa+YWP8kjUKFcq7rEOqsiz78pBH27vtLP58J7REBERABEShLAizxuOT02XbEHsUR00fuNcW6/mmaDX9ZbzIsywZU5EJJSBcZcKVEP2vOGut+2YTwOLyftB/UrD8+ZDnHD3410A4/6S0bMXZxpSBVOUVABERABD4jMPXjdXbxqbPtCB5nxzOh8/A25zq34x6Tg4ge+vwyYymJggjkS0BCOl9iOj8rgQWL1tnl138QRDQ/CORZz7m8zI0dYykHrxJnOccJp4+28ROrs6atAyIgAiIgAuVNYObU9XZt97nh2dJH7lnAy1oi8R2eMd1+sv31mBn21pAVZhLR5d14ilg6Cekiwq3EqNesqbEBz86yQ49/M7wwhdeII6gRxY0JZ45zngtolnLw0pdrb/vI5szTmuhKbE8qswiIgAjEBHjb4BO9qu20w6dbh/ZTDEGNhzrN6785BwHdof3k4NG+5dIqrYmO4ep7QQQkpAvCposaI/DBpGV2wx2T7JBj37Qd9njpsyUfg8MzpxHWyY1nUbPhgeZlK/sc+pqdd+kEe3X4fFu3Xr+gboy3jouACIhApRBgCcakiWvt/hsX2plHTDceW8c6Z34wiLA+au8pQTDzyZsR2X/EZ/s7HTzNrusxz4YPWWFr9HSOSmkyRS2nhHRR8VZ25DU1tfbeR8vsgb5T7Ywe422/w4fZTvu8HDzT/HiQtc984oHeca+XbfeDXrUTThsdBPgbIxfa8pV62UpltyCVXgREQASyE9iwvtamfLTWXnys2v5xSZV1P2mmnXHEDOv6p+nh9eKnHDrNTu8w3bodOyO8ZOXRexbbO6NW2fLqmuyR6ogI5ElAQjpPYDq9MALLlm+wKVNX2hsjFlq/J2bYHQ9MsZvu+sRuvfcT69Vvmg0eOs/wYi9YuLawBHSVCIiACIhAxRJYs3qTLZy3MXiqx765yka+ttJGD1tpE8etttnT19vKFZusRu8eqNj2UcyCS0gXk67izkqAW3ObNtVa7Sb9wiMrJB0QAREQAREQAREoaQIS0iVdPcqcCIiACIiACIiACIhAqRKQkC7VmlG+REAEREAEREAEREAESpqAhHRJV48yJwIiIAIiIAIiIAIiUKoEJKRLtWaULxEQAREQAREQAREQgZImICFd0tWjzImACIiACIiACIiACJQqAQnpUq0Z5UsEREAEREAEREAERKCkCUhIl3T1KHMiIAIiIAIiIAIiIAKlSkBCulRrRvkSAREQAREQAREQAREoaQIS0iVdPcqcCIiACIiACIiACIhAqRKQkC7VmlG+REAEREAEREAEREAESpqAhHRJV48yJwIiIAIiIAIiIAIiUKoEJKRLtWaULxEQAREQAREQAREQgZImICFd0tWjzImACIiACIiACIiACJQqAQnpUq0Z5UsEREAEREAEREAERKCkCUhIl3T1KHMiIAIiIAIiIAIiIAKlSkBCulRrRvkSAREQAREQAREQAREoaQIS0iVdPcqcCIiACIiACIiACIhAqRKQkC7VmlG+REAEREAEREAEREAESpqAhHRJV48yJwIiIAIiIAIiIAIiUKoEJKRLtWaULxEQAREQAREQAREQgZImICFd0tWjzImACIiACIiACIiACJQqAQnpUq0Z5UsEREAEREAEREAERKCkCUhIl3T1KHMiIAIiIAIiIAIiIAKlSkBCulRrRvkSAREQAREQAREQAREoaQIS0iVdPcqcCIiACIiACIiACIhAqRKQkC7VmlG+REAEREAEREAEREAESpqAhHRJV48yJwIiIAIiIAIiIAIiUKoEJKRLtWaULxEQAREQAREQAREQgZImICFd0tWjzImACIiACIiACIiACJQqAQnpUq0Z5UsEREAEREAEREAERKCkCUhIl3T1KHMiIAIiIAIiIAIiIAKlSkBCulRrRvkSAREQAREQAREQAREoaQIlI6Rra2ttwoQJ9uijj9rQoUNt9erVJQWO/FVVVdmwYcPsiSeesAEDBoTPN954wxYsWGAc9/Dhhx+GYyNHjrT169f77vrPWbNm2aBBg+zTTz+t3+dfNmzYYB9//LENHDgwpEE6L774on300UcN4pozZ044p3///vb444/bY489Zv369TP+5xo29r399ttGnJkC+Xj22WcDc7/GP4ln3LhxDdLMFEdb2jdv3jx7+umn7ZprrrGePXva9ddfH+pz5cqVjRaD9ki9n3POOWE799xzje28884L/59xxhnheFzfS5YsscGDB9tNN90UzrvyyitDvbM/VyCfDz/8sPXu3dv4XsywceNGmzhxoj3wwAN2ySWX2AUXXBC+0wY3bdpUzKQVtwiIgAiIgAi0eQIlI6QRMwgHBAmCY9q0aSUF94MPPrB77703iNN33nnHEMtvvvmm3XXXXXbnnXcG8esZfuWVV6xbt252+eWX2yeffOK76z+5/u9//7shtOOwZs2aMIm44447ggB7//33jXSZWNx99932wgsv2KpVq8IlK1assClTpoTjiGzOueyyywJD8uYb4j+bIBo/frxdddVV9tRTT9Wf79eRLiKupqYmzmKb/T558uRQJ3/729/sueees9dee82eeeaZIHBvu+02q66uzlk2jiOizzzzzDCBgTf1zGefPn3sD3/4g1199dW2du3aEA+TK+r49NNPD5MbzqP+LrzwwsB89uzZGdObOXNmELOnnXZaapGfMaIUOxHRsDjhhBOC2CePcLnvvvsMTkOGDMnadlJEr1NEQAREQAREoOwJlIyQRnDecsstQaxee+21QUQ0J328sosWLQpbNg9ttvQQowjZhx56KHif4/MQu7feemsQHS46ESMXXXRREER4eJMeTzzvN9xwg40ePbo+KsTuqFGj7Oabbw5lX7duXf0xBM+YMWMCn+HDh2cUt3iXuRZxlza8++67duONNxrCvtQDbJcvXx4255w2z7BFxCJOX3/99QaX4fk96qij7NVXX22wP/kPXmSENO0gGbgr0alTpyCw/Rj11bVr1zBJifPLnYjDDjss3AWI93MdaeC97tKli40YMcKjKton6eGdxxM9d+7c+nSYBPz1r38NG3c+FESgnAhgT7HpTGZxXpRawPaTNxwlOACYXCfHEC8Dzo5M4xnH6cc4AOK7pV5WrqHPx2kk7wKTJg4txmbywR3UGTNm2NSpU8P/7Gff0qVLM6ZBuhzjGk+HeNi4dvr06SXJ3xnl+7ls2bLgkMJBhv2PbWq+cdEGJk2aZOgLxr1cgbrkDiLjObwzBRxwONwYV9Ad1Ely/Ml0XVP20beoZ3QNG/Vd7DSbkt+mXFsSQpoO99JLLwWhyHKC+++/3x555JEGnYxOzqCeNCgUnn002tgQUIk0FhoYHZ8lGXi88cAtXLgwNTMqHvGF4KRRJwMGa/78+UYncoOFZ49lA5QBcTt27NgGl2US0uQJTyDLNNyrGV/EkoHnn38+eL8xrMlAGRFhcPR8JM9J/u9COpm/5Hn8D0/KSafGQMMV5vAhbxzDaFMODCUDQbzMgevpSFznxjeZDp2dAQ5vO5+cS7yUh0/4IGQ5lm8gbwwKSbYsa/jLX/4SJnDUZbZAnrjz8OSTTzYYuMgzQvSUU04JZfbrOZ/0ku2VNoygx3vNOR4whrSXzp07f07s+znJT9o7dw6YXDEZaszgJq+nvOQnafDhTV/BU83SIAURKCcC9EucNSxjYoAvpYBDBDvPXS6W5rHUEbvHJ3bVhQh29vbbb7dLL700oyOE4w8++GBYFpgU2jiUWDqIY4glfGzYHu5MkobfwUwu/SMf3PUkXfLGdVyDWMo05iAGcWBwZ460fLmhl4tj2PW2Hig7YynlZMlgjx49Qtvifzgnx4A05cUZt//++9sBBxxgOGpyBdrwIYccYr/61a9CfSfPpb1z5/ziiy8Od2DPP//8cNefsSyb8E7Gke//6BEco6TFBhdWGpAmY3G5hZIQ0ohQxDPrNBFpND4EaLyGmIrhFjwNzDs6lcF39rEcAqFGWLx4sb388sshPuJlSQZCmFvVNOr4+sYqlLxhBIgnbQPAK0z+WTqBQeRajJeHTEL6vffeC17q5HIPv4ZPrqNzsqQkGYotpDGwGFDWCVM/lAkvLmIZrwgik7Lice3Vq1f4hB0Bo059YNgxxmwYYCYEsQHGGMGNyQ4b7YGyIvioWwQrnTJuF0kO+f6PED3xxBND/pMDThwX+USEU944z9Qb3mjy6oNcfF3yO5MAhDTLfmIhjbcADzbtOE1AADO4IgZOOumksGwFvhjNOH9p4kqew/UMrAjpNJOs5PX6XwRKlQC2H6cKgzoilD7ky+VaO8+ISuyq92Pyiu3Dm4sQ+sc//mGIWwLjJP9jS7A9yd9dcJxrWL4W2zXGIfo2NhiPJ8dIB7uEbcfGY+sJ2AGO+Yat9LvFvo/PbPYGIY1wuueee8IYEF/j37NdGzLQRv7gNGIpHMv+YMo4gOOob9++duSRR4a7xPmUE8cGE5Zjjjkm2GAcc9kCQpg6wVYjphk344AWop1zh5Flm+SNeuG3O1xDnedyIMVxpf1Onq644go77rjjwvJV4mfcRH+RJr/lip1saeMt5fNKQkgjIhCIVC7Q6bB47BBldDgC3jYMBkYmFiDsZx9iFw8dFYTxwIgguGg0GAkaNd7MpPetscrhfGZWGJ+0M0uENN5hRA2N97rrrgueYhdaSSFNGTHulBnxnS1QHs6hfB6Xn1uokCafCNjGAgaC9dR4KjEciEo30Bh3yogRxuj7MYwHkw86Dvw4j/rAmOONQHD75If08X7S6fFcUGec650cUQ5XBHlzzqKZFGCwaHv5BvJGGfBo49lOEyhjx44dw3Veh9Q/XFnSgfcBDzNtGs8N3JOBiQl3PGgLeO0RAnCkDzHZQGQ3JRAf9cD6bu7qKIhAuRBwxwgCGtGBbY9tUJpyJkUR/9OH+cQ5gC3BnsfjVGPxYku4m4g9diEbX4Pt584oApnAJ5NubADLBHFquK304whYyuh2muPYT9LATicDdpVxFFud6e4Wtoi0MjlyknHxP/abH3dnEvqZzo/3wZMtU8h2zOsh23VxXH4unwQmMQhWHCMxx/iabN+5lnIyrseBdnXqqaeGsTG+Wx6fk/yOfqFt4jBCs/Bbq2xCmnLikOJH74yxOGKSQprxZr/99gvjSZwWbZPf63BtprsCcGF88jEqvrax77Qd8sFYFtcF+/GKI+qL/SP6xvLY3MdbXUgDms6NSKMRExAKeCYRvt6hqViMBbPw2AhgYNjna19pFPxPY4w7BJ411oPmEqqZ4NIZmPFhXNJ6LhB8eMARIRgT8oIBclGSFNLkE+OLlzJX/hCilIH4iDcOhQhp8kHZMJ549WHIJ5wZCBDMHjCiGGBEXjKQLwYkbknGzDmPNVnUB5OlONCREN4YIL+GZT0I8pZas40XB+bciitEfFJuDB3egzSDJl4KGOJFinkwuGM4jz766OAhwCvFrTDiZj9tg2sJ9ANf7w2vONDGiZsnscQGLD4nzXfiwUuPuPdBOM11OkcESp0AIhVb/NZbb4VJKvYGYeiCChuP5wz7l7Sx2EOcGHHfZfxBzDCh5o4cnl5sGvbS+2waJoxbOH9Y2pfmOoQ09pOxgGuwsT6+kB7Hk0IaBwZjKudn69es7YVPUhQSJ+XmWKYxIFMZXUhjz/CM5goITcYeRCN2jXLBmuuIh/pgXOIYohHmfpcXW8fyErzfOCAQoNiwuP44BwcdYxTjC0/C4vcx7qVl3fDZZ58d7l6nseWZyuJtyI/hREKsMr4k7xj4OclPGCO+aUO0UfKUTUhT34hSJiqUieWF2P44cId7zz33DM6peD/1j0bh+uTYx7hGnOQDoY0oLoRJkgdpcuf65JNPbqDh4ny11e+tLqRpbDR+OjgCmsCsjPVX3B6gg3hA1PLDPoQFMyUqis6FQcH7S8CDjAinI8bGgo6C0cxkIDz+TJ/Ei3jN1yNNI0XcEjDe/I9hoGy+jMN/bEg+0whpvB3FENLwZ/DwjYkNnTdei83AgLHO9CM4F9LcQYiZY8jwLlNneJjjgOGkjjD2vmQGI4mnNa13N44v3+/UAwMKhgKjm+z0aeLDwHA7DV5pAkzPOuusIIR98sB1tFm82sTFIOUMEdiwQ2BjVAkMskx+yLfP6j3vGFaWedBvYM9+RAK3sVkCwsaEBy92toBRpY3Rh9z7le1c7ReBtkSAPofXl3EA24zdYWBnwugOG/oNt7tp/96/KCN9CUcD1/qYhAhDJDKxZVyhj7L8ELuS1gPp/BBQ9GvGszSTYPomtgHBhWOJ74hL7Bohk5Am39jXXPaKuMgH57hdifNYiJBGlGHLcgWOswQTW4Wd5C4pdgp7h4gjDo7hpOIY4xGM0QGMoz6GcYx6wDnEmOr1AFOEOjaQMQmHFeMMYpxy+rIVGKaZyOQqix9jXGS5Bzw9H34s0yd1BwPySP0xLnF9JiFNW2bC0L1799CWaT8sMUwKacYE7nSikbxtkDZjDj+ep924gxAOTKRwLjEhZLJB++KuB3c/XJ9lynuafdzRZ2zCQRT3rTTXlvo5rS6kEZV0EBowoBERVDgzULxyiDvv0CwZYDaK+MLw0fnwBHAL3Bs/DZaOQsPBW0B8NEoaHefyPZ+AsMCL2BQhTaPHMGHE+MEiZUZYu5Cmk2OkabC5PNKUh3No3LEQozyFeKQxOuQjjQc4jZBmmYSLQPKEAWSQQrwluTNg4UEgfZ8Rt5SQhh1GlttM3H7y9pVPu6BseKJZ8xV77jPFQfwIZIwIk43YoHE+gxdr6VhnlxxwaC+kQXtm0CBdPBy777578EBgDPEqcC0/VPz5z38evCCkwfmw32abbeyLX/xi2HbeeecgJjLlkzpCWCAiGitTpuu1TwRKmQDCGYeNjx/YXcYdlkRhWz0gsLBL2CMPiA3GEDbGGuwXYxHxuSOAc7HjxOd3V/36xj65BY99YNzLV0jT1xGYjC+IewKixz3SPlZg57nzy5iaLSD+iIfJRNJOFeqRRqwx0UDU4Qxjw0GFF97z5mM5Ai7pvcbm4T1GZCbHEcY96gA77nFRNtJjUuNjLDYYttmcaZQVUU1azRUYY3giFJO3NIH2hnCmLgn8iJDHAWcS0rRRbD7CmbIxTmQS0jCBDW0LXUQaOMMYTxD48d192DImosfi5ZPoBNJCd6Rpm9nKSjzc6aQuk20r2zVtZX+rCmkqGfGFd43BG7GKccJTyW0u9iPEYnHBbJPOwGyVDaGQ/IEeHZXKwpAQJ98xmHTefEUTRpLZLiI8bly5KpiOgCF2jzTnukghL4gqyuudnON0DGb7ybLE6WAc8BZmurXWFCHNzLexUIiQZmLE7U7qKLkOi0kRxjo+1hJCmnS5veciGrFZSGBQQuDSTnMZBQwP9UV6GL1M59JeEcEMcknPBXcF8GJT71zLgM6jFVlnjdeFOLnTwcZ3jDd3QEiXtk6bx8vFfjb6TybPAsIZ40p9xHciCmGja0SgFAkwXiByuZPk/R6xwu8BEMA+NiCo8IAiPNxBQx9FmCFKCIwFCDv6oJ/DfsQCaaSxqTEj7L7nI41YYTxxLzT5Js8ISjzk2F3EaFJIu7cxl5DGqYGQpuxMFuJQiJDGJvG7DSbojKNwZUMwY4/cG+pCmjvR2Og4uJBGF8T2EU6UhTul7ozx62DAWIue8Pqhjjm3Jewb+cHmwzKeaHn+kp+UH/uPo8x1Bm0ik5CGAXWPQ8UnFkzcMglp0uEc9AtLKo499lg74ogjwnpqtFfMmvT4XQwTjmRAXJOe5432htMPDcOGNvFjyWv5n2M4JJvjNzyZ4m/tfa0qpOnsdDAGb2bSzFgZ+DFaeAjoVAgIOrAHOgHn0wjw8iJk4k5E56fD+C0vjvkP1zwO/8SY0igziZv4HG4J0QEz/QiEOEgDoeiGOJOQJj5EDGKZRo3QjoU0jR3DzG3BpAHjWjy9CECMOXySoRSFNBMl8kx9cSspDhhQJkkYV4weBatWPAAAIABJREFUIZeQhi2dHqPonOP40nwnP4h3DA63rbIF4icd8phpUKPOGUAxSrm8+cRDW2SdGwY9U72SB/oBd1+4peZG3/NGvWJMubVG/kmbPsPtvzQG2uPJ9Un/YPDHUMaeuVzX6JgItDUCeAaT4wl2mwEeO+QijT7G2BJPKhkD6HcuwujLfufTb1NzHSIdJ0nsREnDCdtXiEeau3qkS2BSQByMK4wniFXy43cJETuINfd4ZsoX5cNRhePJr/PzChHSjMMIeibq8I03GLotdyGdFMuk7UIaG+rCm/2MB9QB9ZdcOsgx2FBniD6CC+lM42c4oZn+kB66hHaAhz9NwNnBjwVjJxn1iYeaY3FA8LI/nhDhkcYZQ33HgfRp8zCi/hC05A8twh1V7rC4F55rDz744HBHk/GN8ZlPdAk/WOzQoUO9Qwxt9v3vf9++8pWv2Oabb2477bRTmBjFaft36oy6Y5LAEppyDK0qpBHPzHQQxZkCjQPDwMzVjQWVQufByCEq6fCxQKFR4IWmAXDbApFLJ8ZA0Nli0cwsDoHM7fY4jmReiIPZPukmZ114aumsrJPzOLIJaZajsAyFH5AxW8V4ekCwccuFcrGu1ePiOAYNDwfHMAYIqmRoipDOJQY9nUI80lxL58XTiSfH65D91K3vd2OaS0gzMFCneDP4nm9ArNNWuEVFe8oVEKgMJiyZyDR5wjjhJUZ8+uCbjI92xuDLGjaMTlz25LkcYwAhb/EtYbiQZzwJ7gnjWtoCryZnkhK3BQZK4kk7UBA/k1cmdfSzfAf/ZDn0vwiUKgH6P4KAH38h7rCjeN6wBbR9BCZ9wQPea79D6CIP+x/bZSadeIC560ZfZxzDSYLQSYpQjzfbJ/YVm8Nt/EyT9+R12EC8kohFtwGML4gf8oRg4TMW0vRv+nqupQaUm1v+lCcZChXS2OzkuJmM2xnnK6SxrYjE5B1P6gnbiUbw8aIlhDQiFa1AXaYV0eQdUYuOiNsXdxAQzOTbA5zwciNK3QHFMbQUQhod4gH7juOIu5cI52RARPP7G19Oyl3NfffdN+xjNQDLBhmT2FjXTDv3NBmD0DA4idjIjy8ritPhfPpNOYtoyttqQpoGQ8UhRjAimQKeOjoCBsM7A42DBoaQwItHhcaBeBGyiE5mhRhPNho3M2NEqt/OwFgwC2Tm7rOyOC7/TpoIHOLDcPEdg0PjZB/eQowM5xEwVJQrXn/kcVFWbuHR+ChHHMgXeafMGHgaJvFiXOlkCCdvyPF1fCctZp4Yc89H8pzk/3QgBhAGFsrjG3lkY+LhRp280IHjGbPHxySFQSc22n6MAQXOGHWuJQ3qDFFMXuPy4EkhP9weTQbuVHBbiDovxGsKzz322CP8GA9vE3XHQMqGoaJO3RuM95y1bb/85S8/Z4DgQRtghk59ZAss1WF2/+c//zm08zg90oQ9RtEDXi3aORypb4QzPGkrTAxjwc7AySCBISMvcKXd4NGGHxO/NAH2iIhdd901pEvfIF1nwnfERdr2lCZNnSMCrUEAe4a4QdTRV9jw6NHXEGM4dPjuE176Jufi+GCCSt/EQxgHbC5jGLbF+yyT2EL6C2Odpxf3dU+PiTl5ctGcSUhzLvaV8YMyMTZho1zUcz2ed1/n7XHHn/R5PKnwSoZChTS2n/LlCuSNSUg+QhoW3FnEGeZ3BTwNGOIFZXmHjzHFFtLkAVGPzc7HKUG74m23PIYVQc31fCKM27dvH5YQolEYl6hfxC/LMxgP/Vye1vTrX/867Ef7ePpon+OPPz6jyIXdn/70p3qPN3xY2sFEsDkCEzvaG86kNM665kizteJoNSGNZxmBxeYNPQmBjoK4QujFHYVZHwICI5Zc78kvkxEeCBniJR02KpW0mJFjGAk0NgwODdmNTTIP/j/GEc82xpdr6PDMtIgzXtbB+YgyDFhylswxhD5ChTxmEoTkA9GKiCINNr7jYYhnq54v/yQtZqOI0LSGHJHEjBVj42nxiQEifwh99+Ajzuh4dORkoD4QxYhDN/TxOcRBmagv4oYbcVMvcYAHZY09Q34cjwZpwLWQJQ2IRGbWTJzwNPtMmk+WTjDJohwE2g35ZPCkzuNA/cCBY7k8DpSXGT3GME4PTzYb7ZDJQRwoF5MwxC0eAF9H7xO/+FzaAh58Bk3SYcYPH/pD2vqnnAxePDYJz0ecT/+f/GSq0zgv+i4CpUwAcYxdQUi7wIjzy6PJ6EfYAMYJAhNm2j79HE8cojQeg7AD2DNEKf2WPsc1pOXOB+JhPzYTQc6YlC1wHiIWIYbtSAaECH3V7S/9nLwxDsb9k+/YAQQWE23GBB/bSIO7njhE3AsZp4M9w2HDJN2dCvHxQoU0EwSEcq5QiJAmPr+zmXS+YFu548kEh/qg7LmENGVnWSUiMuaZK8/xMSY2OLIac/RQF9RJvPyHuiSfpE87YeM7TpGDDjoo/CaGiR/tFE7oB8ZtdAjnMp7igMG5gyeZ8cm1B22UJRnolDjABJHLS1Nc5OIQY3kf9QUvD4w1jNeZ9Iqfk/xkbMdZhsMz6exMnlsO/7eakAZeXFnNBRPvALOwTM9tpLMgYFhz1JS0MZZJg9lc+fd4yJ+n05S8eny5Pn0A8PT8Mx4Qcl2f9pin09zxpk2f80gbQ4lBizfKnJZzPudlS488ZIuHY2zkqbHg8ac5N1tc5IPrYx7+vTXrKlt+tV8E8iGAyEG4ZLvzSF9DcOAFjEUsThmWOSAGEKzxhJY+g/BFzLKcwp0PCGtEDqKTvkO/QpDzTF7206+yBUQSAgohg7OHiT15x5mE0Ef4+G9NEEqIbkQU+Y8D4xzH/JnycZpMnhHaTAwQ1dx1JB0cNThUED+eRhwn32GDWETIpQkIMLiRd5bI4ZX2jTSZgHjecJTguYZf0iPP3WImEUxoks4XBD9LM2GDA4v4uSuAwMQp5I426oJxH8GZdGBQlzDGwYF2gFE+gbJwR4PHl1If8McZRD7Y4Olth/zj+GBNMe0iV2Cyg4c4013g5HXw5dGn1G0cyAvLmZhY4XghX5QfnYQTibbmd+NpqziqENMc51wmnrRJJmUuuOP4M32n/mhfTALocwh0NufB93wZZ0qnlPa1qpAuBggaHUaExwnF4oIOR0fCoDKLVRABERABESh/AogMlt8hHLNNXlnKgOBjCZafw2CPIEN8IdJ8P8QQbHi58fQhVrhjx8Z39pMewoFrGIsYkxib4jgykUfUcPcMUevLERGYeCzjO3GkzzmIsXicI05EI55VPPCMeUmhjajDS4gwxQtPOkwG8NjGaSTzh0cS4RX/tid5Tvw/dyLJN/zggUglPTY83whdF+2wRnTjrXXR6XEhPpnoIPKSIptzOE55nRniDS6xMw0meFUpZ/IuI3FQ/0yK8ObmuvPreYo/EZyI8L333jssrWDpBUsD2Q4//PDgJfYJGnGTPyZWfmc8jiv+jpedu5Npllow6eMH6Hiuk4HJEncZENT8QB7BzR1M6iYpaKkz6pc6490G3MFl6QxtOC0XuLPsZK+99grlZ8mK88A7TrxMQssplJ2QphLpRHRaOhbGglkunyxXwIBkum1VTpWqsoiACIiACNQRQBywZMO9n5m4IEYRscmxAeHGtUkxirhBgGb6PQLCinWqLtxJl7jJR5pAXvDQ4k3F24mnOpk+5yCCkvn1+DmffCNKM4l39nGc+EmH9JJpeFz+yXHSTFsO0iB9xLmnQ1q+MVZ7nXAurClPMr+5jnneYmZMMjKJPvJN/jk3GSgbdZQU8cnzMv3PtZQFgc7kCS9uvLHf4/WypOFNfqn7TGVJ5oM8EKenkzwOZ+5i4I2mfcIoyTm+hjqjLHiPyUM+gUkLeWGSlIkH+2BdTqHshDSVQ2dkhomxY3aPl4FZFg06V+Mpp4pVWURABERABIpDgKUALBPMtNaYcQcvnu58Foe9YhWBUiNQlkK61CArPyIgAiIgAuVDAI8eLxth7S4/QGdZBGuHeSIQd0JZY5q8bV4+pVdJREAEYgIS0jENfRcBERABERCBFARYm8vaaQQ0a5HZuAPKY/HS3I5PkYROEQERaAMEJKTbQCUpiyIgAiIgAiIgAiIgAqVHQEK69OpEORIBERABERABERABEWgDBCSk20AlKYsiIAIiIAIiIAIiIAKlR0BCuvTqRDkSAREQAREQAREQARFoAwQkpNtAJSmLIiACIiACIiACIiACpUdAQrr06kQ5EgEREAEREAEREAERaAMEJKTbQCUpiyIgAiIgAiIgAiIgAqVHQEK69OpEORIBERABERABERABEWgDBCSk20AlKYsiIAIiIAIiIAIiIAKlR0BCuvTqRDkSAREQAREQAREQARFoAwQkpNtAJSmLIiACIiACIiACIiACpUdAQrr06kQ5EgEREAEREAEREAERaAMEJKTbQCUpiyIgAiIgAiIgAiIgAqVHQEK69OpEORIBERABERABERABEWgDBCSk20AlKYsiIAIiIAIiIAIiIAKlR0BCuvTqRDkSAREQAREQAREQARFoAwQkpNtAJSmLIiACIiACIiACIiACpUdAQrr06kQ5EgEREAEREAEREAERaAMEJKTbQCUpiyIgAiIgAiIgAiIgAqVHQEK69OpEORIBERABERABERABEWgDBCSk20AlKYsiIAIiIAIiIAIiIAKlR0BCuvTqRDkSAREQAREQAREQARFoAwQkpNtAJSmLIiACIiACIiACIiACpUdAQrr06kQ5EgEREAEREAEREAERaAMEJKTbQCXlyuLatWtt+fLltnHjxlyn6ZgIiIAIiIAIiIAIiEAzEygpIb1s2TKbMWOGLViwwDZt2tTMRS08ulWrVoV8ffLJJzZp0qT6jf8XLlxYeMRNvBJGI0aMsHvvvdemT5/exNia93LEPXlKMoPfxx9/bIsWLbLa2trmTbREYqPcH374oa1cuTLvHFVVVdmYMWPsjTfesPfee89oe9kC/KZOnWqjR48Onxs2bMh2av1+zqEOJk+ebOvWravfX6wvK1assPfff9+GDRtmb731lk2bNq2k+naxyq14RUAEREAEKoNAyQhpPKovvPCCnXfeeXbnnXfakiVLSqYG3n33Xbv88svtuuuus7vvvjtsd911l91+++3Wu3fvIExawyOMkH7llVfs73//exBGxQaGKJo7d67hBW8sDB8+3C6++GK78cYb7Z577qnnRt0i/BGLpTRZaqw8aY7TBhDAZ5xxhl111VU2c+bMNJeFcxC4b7/9tt100012yimn2PHHH289evSwJ554IuNkDRE9btw469Spk+2000521lln2fz583OmR709/fTTduKJJ4b6KGYfI3+IZvrLmWeeaUceeaSdcMIJoU0MGTIk5wQhZyF0UAREoMUI0I9xDIwfP96w/woiIAKfJ1AyQhovNIPuRRddZFdccUXwxn0+u62zZ+zYsXbNNdcE8YcXzzeECELnlltusSlTprR45hCir776ql1//fUtkj5CjwkEAqmxQL6uvvrqUI/r16+vZ+bsampqGouizR3H64pYvOGGGwzPMoNQmsB58EKA9+vXL3jr8UTjbUZY076SopeJCOKZ/nL22Wfb6aefbvPmzcuaHEKdtopAZ/K3dOnSrOc2xwH6M5PiLl262KhRo4J3njRdyD/55JNWjm2gOdgpjuIS4G4ZE96XXnopZ58pbi4axo4t507Riy++GBxK/olzCWdJa93JIV/kBZs2a9ashpluxf+wL3B5/vnn65nBiv8HDRrUIuNhSxR/zZo1YRLz0EMP2bXXXmu33XabDR06tCD7zTjDXc4+ffqEOJP2l9UAOLnQX4zd8ca+vn372uLFi7MWG4cj49Xjjz8elptmPbGJB7ibTd+99dZbgy6jPNzlTjveNjH5jJeXjJDGu3bzzTfbs88+a//4xz+CMWlOjyXeOrykI0eONJaQ5BPIG2J14sSJn7uMfXir6dStUZGvvfZaiwlpxBuiLo2QJl948FlCUOoBkUod0xkR/YWEDz74IAhajF2+y30Y2BHEf/3rX4OIjtOnvZ522mnBeLIf48dSDs6FLxO4O+64I4hw7hZkCvQj6gNP9P33328Y52IHJhJMjOkXcaiurg4e6lNPPTUs4YqP6bsItAQBlhpdeOGFYSL68ssvl8SdMfo1k0wEC3dssLW+sZ+7eow1zTkmpmFNeoMHDw5j8uzZs9NcUvA5jMuIRJbFNVZOH3cfe+wxw9HlrLCN2PJstrDgzLXChatXrzYENA4WbCkCFUfLBRdcEARrY3cgk1nGWXPSSScFQc64kWQMexwtTJrg6tujjz5qRx99tHXs2DHr2M+YR5/aYYcdwl3SYrUVlopypxsGCOgBAwaEvsHdW8R1muWNSS7N8X9JCGnEC94ylkogvKg4Zkbx7IcZKB6/TGuBEXZ4GDiHgKDltjoN47nnngsz1EceeSQ0QtYU5+uNcyHNjCsZ8CJceeWVNnDgwAYNk9vodHb2k4c4f3EcnEe8zPo5j8aerREiQt58880w2cC4TZgwod5bkPSIU0Y8gczQiZfvyXIjIIkv2akwaAg4DBos6dBMQvBGX3LJJfbwww+HRptr6YILacRpYwHPK/F/+umnIZ+wYLAj+ASIeLi9iNeBT+8wDEB0LjoRkzAGIeKLjQRl4BzKSvsiLeqFfQTiwwggSPMVwVwPV2bviNtcTEJiGf7MmTMneJRpR7COA+39b3/7W1juRFnpK7169QqGFA80HPBS4JHONnjQP8gbE740k0iWqNAm77vvvrBEhfrO1O/ifGb6Tt6SS57YRxs67LDDQj1luk77RKBYBOg/9H2cNXi0Hnjggc/d7WlK2tgdJsZs9Ne0gXOxXyx9S9pp/mcCnBwT08bd1PMYa3CgZBuXmhq/X4+nkfK//vrrvivrJ55VBJ+PE1lPbOUDtAfGeLZ8HW20VcYzxu94XGAfghcRmbaNoUVwyDBRc52URMOksmfPnp+z9aSNo4cxLtPvfigXbZdx6pxzzrHzzz+/oHEwmZ/k/4wl/fv3D3d90XEeuHtLuf7yl7+0muOuJIQ0goCOioBmHRZCh6UUCFgPdGLW23JL2EUUx/jOPq73W9s0mgcffLBeQGIIuOWAqKRx5htcSBNvMiBmESgIYA+UATGI4EHM8yMrZpPcUo+FJQaSBsh+hCfnIfgxmojKOCC2mIERJ4aGmTcdisGANdLx+bDy2SQs2WiATFbiWSyCE0970ivDLTwGGjwhNF6YOdPLLrss5Bkm2Tok+aY8aZecwIhZJmWHAaLfhRt8L7300jCIUA4EPmLYDRQs4AcLjsGd/9955516w8W57Ecsw4VOiAfDBwbSoFxwjydvMf9c35ngsVYZg4dhyyQgc10Pb9ZFI6ST3mJutyGS6Q8cw2gh1j2fLJWhDWQT0pyPwcXIUGewIH/ZDDBpcD488IZQJ0xwaeNwy3cwSJYbo4z34LjjjjPatIIItCQBbBbePcYCnBuIsY8++qg+C/QLHAyZJpzYQcRe/ANg+hI2lX6KPcEGYaeZ8CcFcX0iGb6QLmMBk/mkXaXPPvPMM8HOJ+8Gkj53f7CXpB8LrjgZ9nOc8xr7nQtl9PgoQzYhTZ4pO+diw5JrqLEVsIIn+fTAfgRZvB/e2GzGccYdxiaOZ7M3LqS5prHgaWHbYIX9ZKJD8PxlOubxkg/qly1TnmgX2GPiwtnFedQheed8lkTQJlyfeLxpPmFM/ceBMuClZlyM22J8Tvyd+mbsw4ZzbbaApmAsgX0cGFsZPxinMwXuxrKMD/3GmJFLSMOHyQ/1RnvMVr+Z0uFcxgwcfEkdR3/bc889g0Mt07XF3lcSQppbM4gIPIYEjAXCAdHjwBAMiFG8orHXkAbLPjofjY7OjIjGm+aGDDGIFwIhHgvZtHARINxGx0gSPxsNmLTJI8YPY0IgDzQ4DELswSbP5AkhTGMi0PkQeLEhp7Nh6BG+3tkxgk899VQQt7HnmU5KB42FNHljYkGDjj2UGDq4wMk7H5wRzOQ37qw0cMqEMHT+5Bchy4QkjdcVIU0d0mHIk3tp+MSwxZ5KJiH8OA9BGhtc0kTAMxNm4MPYxYG4yScCz/NPO6E8eG98WQkdkHVzpIGATnZe8se5dNI4X3Fa2b7DB4adO3cO6VIfGBUmBrCO22q2OBhE8AQgxqmnODBROOSQQwJLvBrJAJNcQpo+QN/iVhh88V7jNWAfEyjKHgfYIcrh7ZyoMwQHPxpkkGhKoK0zaSDPmcrTlLh1rQg0RgCbzPIrbAdtmXaNbXC7g23CpnMLne9xQDBgb7iWgF1mzMKr7T+oJj7ujtGn3SbFcWT7zrjhQjppM4jHhbSPM8RDGvRp7DpjBnnAZsfOEvowYwr9GZvIeYyXlNnHR88TtgynAvFRThwSnMcdKcYzxgUPsMHuco6nzRgV2y/yzWSFdONJMzYWm8946OKSMZY0sIPYe67BqZLNHqcV0pSftCgPnzgJKJ97sskfx7B71DvHiJsAD77TFigjG44FhFycL8ZRmFJ+Jh2UizbA9ZQbpwQeXe5eN0egHrDRjPvJMTEZP+2KciGEvd0mz/H/6QO0aa7xQBvB23vuued+boLHOZSRuwj8Toe6R0zjKElqBOKk/3AunnEcKdyZpP02xzjAWNa+ffvQzj3vLfnZ6kKaikBwIFTdq8rATcNE+MZGwZ9qwKcHDCNrq30fjQxjRuOJGzsGAgNKh803cOsfYUTDJV90PPKGUEQ40ZHcaCKOESuk7/s8PYwu13gn5jjlTwaMHkLDhTBlcg9x3Mi5DuMQe37prIhdn5TEcdNoYeWc8xHSGCTEMeX26+O4k99Ji5kpeXNmcIMNhjme9VIG6iyeJHh8CGni8Pr1/XR4JhsYPgaUOGCcSYeByXkxIFD2pgrBOB2+U9/dunWzQw89NBgR2pkvQeHHgBhRHyyS1/r/sMWQY1yoO5ac4DlAdNIvENIMLHF79msbE9IwRaAjXuEBT/oABu/kk08OdeNimgkWXg6EdtK4Mdklf0xICeSZ85nMwYCNenDenr/4k8GXwZJlJr6sJj6u7yJQTAK0aZwx2AFsKzYE+8EdFxev2GTW9SftHO0apwd2xfszNo5r6fP0BcYqxgMEl5+TtjzET//EVrqjxa/FQ0z/J69+jL7EHUbSwjlE+ggZbCt5oD8SEEeIOpwrjCOchxAkHdKDAYFy45HE/mCPEVCkwVjFWAQPF8M4K7ADTCCIizjhh1cQYe1imjjxZsI7FlbYMa5nv59LPrF3pIMoQgMwNmJnMgUELue66M10Dvu4HtuPHYYD+aTMbktJC5vHOX6MvHAdNo/JCXdIyQ8b4h6hjCj1vGFj0QbwYEyFG4wIXEO6CGxsZVMDaaKX8EjT/hoLjCOIXMZXbD91xLjJJMjtfq44YHD44YeHCYSXNz4fDthz+gb1jfc9k5BGp+FgwpFInmjTsGfsRO9wbaGBa+kbf/7znxs4LwuNr5DrWl1I05EwTsz64tkVDQ/xGgtfGjoNG5FKQ6WjMVOnYbvg5hwEGxVGByfQADCOGIlCPNKIODoKRgFjhBhDiCAU8VLHAYHIjBqDhuDkXN/wFuAZjEUueaNRcQ7eBq7BECI4XEhjrBDgyR9u0YCSSyjoIHgbY26eP/fG0DkIxRTS5AsPMF5smGFI2SgnBjmuaxfS7kH2/PLpQtrz7Me4G+DtxuvZjzEI0E4w6j5QuJCmzM0ZaL/HHHOMHXvssZ9rW9Q3P9BgwGvMUNCWaUu0M2bstBMGOgwT3gT6Q6bQmJCm7bIemVt78W09BhIGZ4wPXhkCx7t27RqENwMG19KO+KRNHnTQQcFgcS5GmDa566672o477mg//elP7YgjjsgqkCkf5WEdHW0ik1HOVD7tE4HmIkD7xiHB3TqfKLrIcucGaWGDsb/cDfJ+i4Bl6ReClL6DzWHwRjy5jeFa7BT2nz6TT3Ahje2mn5A2dpFPvKiMZ4xd3m9cSCLy4oCoQ6B6HyP/2Kik99mFrAtcJsGUJR43iZfryQ9xYscJ2GnEdTJtxjHi4HzGZ/KKg4BzXTBzPfywZ+z3ONnPOXB3exQSy/KH+mJ8wS7BiHTYGCOxXeSFQB5Ii3qP8+DRMqZzzDn4fq6nfhGeCGsPlIvJGOX0SQ3M0RaMecUI2Fp0DvmkbbFEwz3ejaXHHVjsP+0KAc7kA68/Hma8w64xMsVD3dMecBKhHZKBfNEu8FgzYSBQH0khzRiFExO95PXCudQNWo28xO0gmU5j/6O5EOS0nTSTg8biK+R4qwtphB+AMW6IJkQjG5XOoMvtEm/IGBtmLzQohDOzfhoDRsFnmHwiVPEU0NiIy2eRdKjY6KUFhphgRhfPfhFkCAmMnM8+iQ9jR8Nic8NEY2RD3LFxi4OAMSavGGg2zuGTRo+RceFDI8ZoYFjjQENnHx5b9xJjhOhoSeHJdfClI7qhKraQjvMV5zv5vRAhTd1jvLjVlhTSdGo4461xb3WxhDRG9Pjjjw8ej2TbYmLE0ykwIvHEIVn++H+8GdQ7EwXKgeeIZSOkkyk0JqRpXwcffHBoW8nraSP77rtvaHMcw6jy+L5ddtkleJ/5hTdP+mDjV9uxoCef9LEDDzzQfve739nee+8dRLi3wzgt+gceC19nTbtVEIGWJsCdIuxoLHiw6dhbxhXGFwL2BMcO9tgFKDabibvfHqdvYt8RW7H9Qbj40pF8yudCmnEDsY4gZAzEmcTYE/crxjjGPIQDAhBBwkbAkcR+vI5MXuPg5/HpNtfvDOLgwJ7STz0uruU74yhxukcafuQp6fggX4hoxmTsF4F00gpp7CVjO8LY6yLOf/wdIU29UUd4NskjG3ae8c3TJ/8u2jPdJUBIkz8vm6fBXQbGL7z0ycAkBQHp7OLJS/Lc5viftobOQG9wh5J6wjmTxsPNRGD33XcPeiQuI5oIe06bxpZnCowHCFR0Ln2iAAAgAElEQVQ0QyaBSj3h9IEHAdY4EJNCmgkMd0RhRpvkPB8DaOOMOehAArqOPsWyD+4U0P6pV9d34aToD2yoP5bONLeTLEqm0a+tKqQRAXR4vGUISIwXHjjEEd5EjAozlrgDxB5KBC4QXZhSWiqJDklDQ5wTHx5sDFxs8BolE51AOnSqeFaGR4M0aNjx2ifSpsFjDKlkyojAYqMRYSDII5t7IGkozG45lwbLtZTLZ4uIc9LBYHCdBxojRo28udCi49PwMwlpBhLO9cGAhkfjZibvDZu4mR3CPV4jTbqkxYw2Nuqel+Qn55LnNHcA3KgnDTNxxvUdp8HMFpFJ/SbrFZaIaGbHPskplpCmjljCAfOkkMaAcNsLDsljcVmyfceYsxYO45QcFP2axoQ0/FjCQZ+K2w7X0w722Wef4JnmfwZhbgN27949tD0mIbBkoy3DMh7gyJO3bT7pE3E7Ik7yx2QYDhheBRFoDQK0W+w1/ZQlBAzMbExaEYkIChfN5A+hgVjEfnEtApE7n+5RYx/2GPuJGCcullNgcxDYLuTSltXTQIS6QMKBhIDCZiN0PfjYw7jJ+YhJxIevV+ZuFv3dve70X2w84yHnsjFGES/jFQEmftfV0+GT/owQjYU0Ip7JQnIcwL5gZznmoqZYQto98ti3XIE8uZD28TQ+34V00iOKOGTSlenOAp54+LkegAPtwB1UcfzF+E76CFPqPNu44Oly53y//fYLEy/fxydtizrFWZJtmR3cuNOayW4zVqDP0ClxHtBwtD93ApIWfYjlIaxhRrwzHpEu2/77729/+MMf6sU49Ypj5gtf+IJtttlm9u///u/B0erjeFwGxhbGRvIRa7D4nJb63qpCmhkSxgoYCEiMCQaJTyoHMYYXCxHsgQrkljQVhkDGeGAoPDC7Qpwz03FD4seSn8SF8KQjJAVAfG4mIc1xhB9Gg1s9XtEIDvKHwPN9HheGmg5L+UjPhXiyg3MbhwbqEwhmaXj/6BRxoyVeDAFCzYU0hpFBAcMZBzeIxOu3uEiXeJm1kicPHOe8pJDGKCKkfSbu52f6dCGdrZPG1xQipOHA4AZr6jEOMMCzwUBHud3AY+zcwMfn034wmOTV737Ex3N9R0DCnxlxPBBzjYtYBlfnizjFMGEMc7VPyoCI5m6Nt4NM+YAD9c2audh4+bkM6MzuGXDpW3GAO+uvGfwIxAUj1rIly4LRoo3lynMct8dHG0dEM/g6g+R5+l8Eik0AAUw/oZ8iJLGlbNhpPJuMM9y99ICnFxuCZ5j+x8Q8aSfpb8TBhB7hSlyMO/Td5KTV4832Sd/AnuHAiEW4L2GIlxjQT0kHMUcfZkLsG5NvRDF5Jg+Um/GQO3QIPcQf52KTGHvdHmL7sGPYzDj4uBELaRw/8Zjj53Mu/RyPqY8x5C8eczgXO+TiNhawbrexj43ZCgQX+acsuUKhQtqdXIz9ycAxyu/tpaWFNGMOXl9+s5LJ5sf5pZ2w5M69xvEx2itx0GaSAR3DunI80nF79PMYM7gTS5tFx1GPTPZoJ4xb6CrXZYwbpMOyQZwqXIPGYeMOCE4/H2/QbzCn37Ghb9BZtK04cL6LaK+H+HhLf281IU0DR0wwm4jXDMcA6OTMkpmV+wCOEaESuY4Zo4slvw7vJJWFQaJTe2VwHh0gFl14HWgoVAiNM1ugouk4PgP188gTgh6DFntTOR+BSrk83xg0ykHePC3ELh4SRBw8aCyIVIxeLKQRdxgvNxxuZDBWCEkGAhfS8OFcvCcYR+Ikbowr58KDcwiII4QOA4F7PDhGvulECOlYWGKI03qkMaBMMtJ4pOGAdyRm6IwRo7CPJ1N+jPNhRXndK03npaPiffEJSmzgfeDwOPiEv3t34vYRn5PrO0aKdV4Mdj55wjtFG2B5UsyA8rDUgttZPtgk46Yu4M/sPZNHJD6f9Ggr3GLLJLgpO7etEccYN287CAXSoP357wuIl/TwSCMM/HYe4h+jS/vLZFTj/Ph36oMBnGUhtDHaoIIItBYBX3LBwMygT9/zzY8hOtzeYRux7ThqsHsIBEStB/oV4wl3DxFS9CFsfHKyyvmMAdgD4swWsglphAV9EbvropO+xA/NmBj4vjhe7+Pso2z08aT9dFvuThFsB3aE8YmyxQH7yqTC0yIuxDJjShywRYxxTFR8SR35hJ2PL5xP/KUupKlTeGTSJmgJjvn4wtibzSNNXcAC4RfXS8wt23fako/V8Tm0J7y+COR4uQbtC2HtdptraKOI2KRjjTaEHmDcyDTuIq6PPPLIcHclabv5H9vO2mnywDjFhrBmid/OO+8cfhuEx5y8MiYz/tBeM4Vke8t0TrwPkY9jiLunjY2P8XXF/N5qQhoDgaFCbHiDTBaUwdgH8LgjIkzwsiGmY5HC9TRYhAODNwKHjsBGh8YoMhP3WRxCngomH7mMHDMkxFym2S/iGkGCeHMjjEGhgkkLkY4hRNjhuUbceofC8GK8Ef2cixGiwdNRMVx4O/w2H50REYxw9Lg4z2/TuZB2BszqSRt+bFwDA7jHgcGE4+5VYYbIRAVhmxTSdDg6A42YY3EnjuPkO+nT2TmXcsCYDRbcSYhvyeUS0nTobEIaQ4Mxhxv8nDODW9xe6KjuKckkpKlD1mNhWPzX7sny5PofY8HARJ0hyOngxIcXi8E3NkQsQ+rQoUN4dXaSH+ex/AbxzUbZ42s9D3hjaPvM/DGErHNmXTO3zHhEnd++9vPpE5SfwRhPBk/l4HpuQeMFigNMEdyUhfVp5IP2zWCIUfaJQnxNpu/w54eWP/zhD8MtPLzS5I2NfMMpObhnikf7RKCpBOif2B7Ejtv+OE5sP32BNh9PpHG00Gdo+xx3W8y19BMmzjgs6I/YFUQpdhibSpoEbA/9yb3H2UQDYwJjSNIjTRzYJ/o0kwDSJZAGNhs77GmxHxvN+OeTasYu0iYPHhhXGYuYGDOhJhAHIjopet3zh3B2Ic1kGh7k1x0YxIFtw+ZhJ7yc7INh7BFFCDHmUB8eJ9e7Rzo+N2Quwx+YEy+fuQL200V7Jp0BU0RxnA/io03gMWVciR0NxOFld+65hDTtiWWrjC3JNHLlm2MsV2DcjsdK9jMu8CQm+MW6hXGUH74z7ns7Ie/YcXQW3D2gQ7DttKG4DjlOW0RXII6TzkO/Hh0BC2/33vZpJ3ie6TuMpfCnLTDm42yK48OhCGPGJtdOHn+2T+KEJ86eTHos23XF3t9qQpoBmQZI5/FKTxaWSqCyECNxI6ABI6BoaN6Y/VrEMTOhTJ2GTo1R8VkmRoK4ETSZBIvHyYyKtPxWhe/nk8bArQUaVFwO4qPjIBZYSE8DynQ95cIY0PDwZGPoYUN6NJR4dsnslIkD8XEu+eZ89sXnkS8aJp0Fo8b5fM80u+VcDCPCn/NgROenYxC/G0TO43rqjDg5Px5YOB4H4iD/1Afxxhv7MODOnM5OeZNlID7qiGO50iL/DBgwRIhmEsMMLHBKGg3SIF3aE3mK6zAuT5rvtAEGF4wvBjqT95b0ySPtLlkf8KA/MEHCI5ItMIgyAfOJIUaKgdEnTOQh2f6pR9JkgomooA9k4u1p0nYxcExO8EglRb+fl+2TuJlckDfiwLjDhc0ngu4NyxaH9otAcxCgXzJxZEKfHC+In36HCEk+hYk2j0OByR9iLLYN9Cf6EAKJeOl/TOhp7wz09GFEDufRf/jRMedkEwyIF/omQiQWbuQPG0ic3J31iS/nY18RPPR3xCc2h7EPcc01BMYc4sWhQZ7IM04OF9KIbvceU176KnHCA5vNEj0EG+MmdscDYx72BjvkadPHuS62sdgB8oeQw0HD2IFd4H/uWMZxukhickKc8TFP1z8RkwhE7Al2n/PZiJv/fYJA3VJG6jGTkHWnkZ/v8fMJDzhRpzCDBbaTCUds2xlbfaIUX893ykDbw/HHefkExj2WHNEuaWfYe+oHbpQntp+UEy/xz372s3CnPnZ40E6YNLkTjnhoZ7SJTEzoL3ix4RvrrjR5J27u8ifHC+qWCQh5x/6zkR9WFdAmyX9jgb4Ef15DTv6Ij7ZKm/fvaItsfayx+JtyvNWEdFMynetaDB6z+qSQ4BqEFLNYKk5BBERABESg/AkgZhBTmW5he+lxSOBhjr1/THQRZXjNkoIDEYOo4fxYBPAdscg4w8SV/zkXcZtcCuFp84lIwNmCWMs0wUW4IkjjO21cR77IN6IWIY/n2ZcOevw4IbibyTmILZwO7EN4Igrde835iGrEMAKVO3uUgXyxVC/pCIIZ4y3xIjZxriSdA8SJGEOIIoIQpgg7hDD74jhhQHrkkY3v2QLjO/VCHcQb+U5ei3OI/PvkIo6TOslUNj8HHtzJJe9sfE+KS0Q1fDO1L+qScrL5hMXjTvOJQ4pyIsSZ0CGsmZgl7ywTF2VBnCImYRkHhC0ilzuDCHPaTLIcfj5CGg1FO47bth/P9ultnzaVyfGFuKd9c7cWb7gvP80WX3I/k0c4ckeVH/j73U2/M8s+Jo2ZJsvJuJr7/7IT0nh3WX6A4WSWiZFgo5HTwZi5ZJp9NjdYxScCIiACIlCeBPB8ZlujjNjlGB7dfIRIeZJSqUSg/AmUnZDGrY/nmVtOzJR9nTAimtkQs+jkbK38q1klFAEREAERaC4CeEtZT8xyCTx7eNvYuIWNE4fb5r4Mo7nSVDwiIAKlSaDshLRjRlCzRo3bXHzi7peAdjr6FAEREAERKJQA4wm/deB2Pw4blhfwnfXSOHFYihGvqS40HV0nAiJQ+gTKVkiXPnrlUAREQAREoC0TYN0rSwdZg8q6XX4oGP/Yri2XTXkXARFIR0BCOh0nnSUCIiACIiACIiACIiACDQhISDfAoX9EQAREQAREQAREQAREIB0BCel0nHSWCIiACIiACIiACIiACDQgICHdAIf+EQEREAEREAEREAEREIF0BCSk03HSWSIgAiIgAiIgAiIgAiLQgICEdAMc+kcEREAEREAEREAEREAE0hGQkE7HSWeJgAiIgAiIgAiIgAiIQAMCEtINcOgfERABERABERABERABEUhHQEI6HSedJQIiIAIiIAIiIAIiIAINCEhIN8Chf0RABERABERABERABEQgHQEJ6XScdJYIiIAIiIAIiIAIiIAINCAgId0Ah/4RAREQAREQAREQAREQgXQEJKTTcdJZIiACIiACIiACIiACItCAgIR0Axz6RwREQAREQAREQAREQATSEZCQTsdJZ4mACIiACIiACIiACIhAAwIS0g1w6B8REAEREAEREAEREAERSEdAQjodJ50lAiIgAiIgAiIgAiIgAg0ISEg3wKF/REAEREAEREAEREAERCAdAQnpdJx0lgiIgAiIgAiIgAiIgAg0ICAh3QCH/hEBERABERABERABERCBdAQkpNNx0lkiIAIiIAIiIAIiIAIi0ICAhHQDHPpHBERABERABERABERABNIRkJBOx0lniYAIiIAIiIAIiIAIiEADAhLSDXDoHxEQAREQAREQAREQARFIR0BCOh0nnSUCIiACIiACIiACIiACDQhISDfAoX9EQAREQAREQAREQAREIB2BkhHStbW19sknn9igQYNszJgxtnbt2nQlKOJZGzZssPfee8+ef/75sL3wwgv24osv1m/8z7GhQ4daVVVVg5wsW7bMhg0bZs8995y9/fbbtn79+gbHm+ufiRMn2k033WSXX365XXXVVXbllVfaFVdcET5HjBhhNTU19UmtWrXKxo0bZw8++KBdffXVduutt4a8L126tP6cXF/mz59vffr0CXGTjm+kS/q33HKLTZo0KWsUy5cvtwEDBtjNN99s48ePN+pcQQREQARakgB2h/FlzZo1tmnTppZMOmNa5AHbzJjBhp3k/5UrV9bvY//q1as/ZzM3btwYzuVYbOszJtSEncRdXV0dxrmFCxcGdsnoGC/9HMbDeOMaypSWN+VZsGCBMeZQ9jRjhadfCtohyUb/lzeBkhHSdBxE2mmnnRZE3qxZs1qdPEZq+vTpQdgj7kePHm333nuvXXrppUFMjx07Nux79913gwHxDK9YscKefPLJcF7Pnj3t/vvvD0bRjzfXJ8atV69edswxx9g999wTRGr//v3t/2/vvr5lqarvgf87PuuDPvDyfVGHAxQFJEjOSM4SxURWlKiIAhJEkGBAkoAEwYgoQSQJEgyAOWCs3/jU+K079i06nXPuPefe7rnH6Nt9uqtq7z2ra6655l7V9+qrr+48P/744+uIi1g+//zzuwMOOGDdtvA+/vjje2E7TARGjZH43W233fp5XXPNNV09iONjjz2222KLLbpbbrll1K49Ed52223dO97xju6tb31rP+5ZSXXkAfNmEAgCQWAZCLz00ks9JzMgHnnkkWUcYcPugptvv/327rLLLutj4KWXXtqbHOedd153+eWXr3vcd9996wlYcYbxdPbZZ3cXXXRR98wzz2zYgf3/oxGzuF7cE5+POuqo7oILLugefvjhToysdvfdd3d77713t+eee/ZxZv/99++f99tvv27rrbfuzZZXX321Nh/5TATfc8893VlnndUdeeSR3cEHH9wbROZJUI9rjis2n3jiid1DDz20Lu6N2z7vB4ENicAmI6SRwLnnntsTyKmnntrdf//9G3Ke/YUlI/ZYSeaO8M4555wOGY9qMvLrrruud4nvvPPO7pJLLukQI9IbNlm2LBp5LGdM9uUuI51pWbj+b7rppl7gc2Kq3XHHHb0Qv+qqq/qx1PujnrnZhx12WO9qDz83R4RJvI9qzz33XCepQMII9oorrljWnEcdO+8FgSAQBGZFgClywgkndEcccUR3ww03bLTVwlnHg/u5z2IHUc28sVp48cUXdy+//HL/ns9aR5fxdOONN3ZipRU+q4NWTzd0My4rjQceeGBHyIt7YrU+99lnn/ViAfPm0EMP7VdgbVePxx57rBfghLF5jGuMFUbMlltu2cfPp59+uj8GA0ZfYumoOMfBP/3007tdd921s20b38b1lfeDwIZEYJMQ0gQl0UmgKkfgrroo23IIopEY9Dxstht+JlNGSpaUXnvttf6C595yii0ZLae50GXGSATZDZuL/Oabb+7OOOOMjluNhAhU/Y4S0i54xMGxRjZLbciUM4B0Rx1/eDyYDAX7K6+80h1++OF9Jj+J5BwLUZ9yyin93NpjP/XUU70T4fwZ07Dpl7NCRMOPoPb3cCzD/eDDhWhdD9u8/vrrPSG33496X+B59tlnuxdeeGGjrAIMx5i/g0AQ2HwQIEatoDEgrrzyyn6VDmdsqIavrFByupcr6HC5mDDO3CAclRVy1K2S3nvvvd2ZZ5451l3H8QwOsXCWEokWiwceeKDbbrvteke6fR/n77XXXr3ILn62EmqFUz9tEwtte+211050ih3HvMRX/F3N+1ZT99133zfESRiLr7vvvnvv6i91ftVHnoPAShDYJIQ0wcnRtDQji1VXLAt+/vnn182No4n8HnzwwfXIwIXjYrd/bY9oZM9KF1xkHsSm+makORRg6zqZ8mKakHZRIzU10bYlrGsMo4Qu0iWECVl11kslAfOEk8RjuXOybHfIIYf0y26Tls5AYz6SkDZAGLPkZJdddukxHwXho48+2jsVzqsa6qOPPnomIS0psZyodr5tzq1SEkt41QQLKwGcJu6FJUHkK0FxLtKCQBAIAmKEhJ9xgz+YHvi6Go5jGOCpYaLPmLHtiy++WJv3Jg0xa6Xyrrvu6jlIiYYyB/y8nMbQ4EYT+i3X1rFw2oUXXtiLaO9x2M1jXJmKsTEvONhLjRM4Wzkezm2beKaMgrEifmsSiGEJBtODMCZ0OczTGqPM8Yax8NZbb+122mmn/ry1x3AfkmNff/317dtTX4sJzr+V79b8cc7Ng6HXvm9MYjuNQksQ/LOUQ04dSDaYCwQ2CSEtu7U048Y9F57aKzfDteKSq6wODEm1X3AOA3cT8SAu2SuXt2q4kJILWIZPUE+r0Zp0VqcJaRc/IijhZpyThDTSNkdlDkOxOGkc9RlMlHUg3CeffLK/0JEmQnXsWRqCUvcM+2HgmGV/eBK1SHUUtjAQuBCu8XLyLfHN4khzZDgZbqhsG4G94447riN3c/XdILrVcQt0yFCCoZxlqcGj7Suvg0AQmA8E8DIxRHQSykwERoT634ophCveET8k520jmO1bfMQ15W7jXyYNMade2WtxbLltmpDGs2JaOcHMpUlCWrkDjl5OGYtyPiYJ4dg2HMusgNOoVeLaVmx3Xw4xvRIelgQo3SBwq0lsxJWTTz55XcnIUIDXtsNnYxE7rZK2gth5cw7h5fuhMZiskLuJ32fKacQacyrzbnj8/L1YCKy5kPbFl8mr8SqH0RfYF1ZNFKGsIUGiD/G1ZRVee4+A1CwryRiJ0/bCdQGedtppvUjvN1zGP9OE9PCQ04S07R2TgJ2VANo+zLVErPmedNJJfZ2yOmbBgHAdNk4Cd8EyGxffr20IJMt1T5A4UWtZz1yGzedqp4lfTQCYVUgbl3rqYe2fRKklVd8XN7lwoNtGYDsHy8G2PU5eB4EgsPkjwFVkpriJDzcSgHhLWURbSkAwE1mtwyuW4EwxibAiYglTnGMVVfMeEe14TzzxxLIBmyakhweeJqQlBFxsq4lL5ULx10owseoYcICd2EGEMr0mNRjtsMMOK7rnCYcTr1YyC2t9Wh1w8yNThtAXC4l756hdNRg1PvMghFvBbLty0JWoVAko7aCf1pX3feGGD8tYRvWV9+YfgTUX0oQd19aNhlWrxhUgDP2sWnsnMteVaObilmjjMBDO5ei6gIhwIqx1WF10hHSJ9eWc2o0hpJczjtoHyXFBuO0EqsAAT6KVy4wAh0uD3AzEowRCNs/JsH0tz9WxZ3kmVNXpEcqjAgfHwDlEguVWcyg2tJCWBCA+JTKjxjHLXLJNEAgC840A0wXfEcTl5hJD3EXiuRqxpnSCOCu3VWzivjJziFFi2jI/Qdmu/lkJs5qqLni5bUML6eWOo/bjuuJ5NcoHHXRQb1ooBxSHC8fatn02DzGGWB1l6rTbTnrthniutjhVcd/2Sgq32WabfmxKdRgs4r7YppRFSeG4RkhbKbVdOc+2JaS97xglpJl0jJq2BGjccfP+YiKw5kLaEhuBK3NtCclP4BBH3OrKoglHolvGSfh5+NvSWglBQpJQRIQlzL2HPC3/T8tUJ30NNjUhPW6syMAylLIIyce4Blck5Y5s9cX2W0ojijnDHJj23NUxHBvhtstxEiNOhkRpWpvVkXYcJR1WNRC3REqpj+A4TCSm9ZnPg0AQmE8ExBRJPbFbzc+sEtec6eI/IktJGOFcIovry+wpw4ZLKs6IKQyDagSd44379aLabtLzpiSkudlcfEKaoFTq4Z4kcxe31WdXfB7OCe/vvPPOfWwffjbr3/QBHcAUgnk1JpkY//a3v70X1K2gt5KgXzGwVrRrv3qeRUjXuZdIWO0lrsU0LjxHuhX1ddw8LyYCayqkfRHVb3EoLbMQTmrOiF4kxmEklEskO0UcBMKNA+vBjeZKt43Ac/FzDByTaFPqgNxal7rdZ5bXm4uQNhfzRSYCwKQGW4TDaVhKvRfydJ4s23Emhg3RIB7nVWDg7CA758B5RYzE9zgSdrwS0u0Sq/eHpR3VNwdB4uU7Y2nWTzF53RJwbZvnIBAEFgcBXOP+Gu6zeCFGeFihdH8O8dvWyhLb4ozPq256GIs4lMpEOKUMC9syedxv0saspaK8qQhpsVKC4Xehh3GEI09IDx3dmiu8rR67ERDOy2lWF52X1iir44gnPnvve9/7htI/IlkZyLbbbjvWOFuKkNanHzuQPDCBzMnx1W23SVSNLc+Lh8CaCmlfQs6hC4JbILt1wXISZb1IiSBqXVWOpuxYZkg0qVHzJa/mApM1c7gdw2sZ5PDGEdsTccTdrOJ6YwhpfRvDJEFZcxv1PG4/S47KOzi1kxpCgSdyaMsiHBeW47CxVGfJThLUBqDqy9Lm+9///u4973lPX7dGqBO2xvS2t72te+c739k7Dc75uEaoj6qRtrza1kiP2p+7JMjpV8KVFgSCwOIiIEZYqRJP3DgmSa8HnnCviNhTfKr2lZnDmSYEudF+iaNtSkDEGQLbsZQa4L1xLmi776TXm4qQLpNFfXCt7rbjZlCJG0OjwzY4d4899ujxXs6qoETmuOOOW/cjAm2/XovFzBgiX+1228Q0At9/AtPWvg+3YfLoo0o4fC5uSACYQOVI137itAQCFgy/7bffvk+i6jtT2+V58RBYUyFtmUwNrZ/YGdVcTAiO41lfVmUadVe1X2UgttoLVb0sYrONCwEZeI9ot68LsJplI2IdQbr4prWlCmlCVDbNCRlV+uA9CYFMtxWx08ZRn7uoLbcNlxEJW5lzW+flt5X9NNFQ9Fra9B8TcGraZMMx/RKHsY9yV9x4gUQRSotpjQ3eHBrJjjl6OI/ODRebCLe6MIqg6xiSK7VxHOhqvgfOrdq4KhlBfvpqEyrbK1cxt1qOrWPkOQgEgcVBAGfgHs5z/eKG9+pBbDET8HCtXhFNRLTSDc+ENA6t5nNONFE+7UZtcYihM2tZ4VKFNOOJGTWuJhjnc8/1b86zNvGJ2FQf3M7d/o7DBFM3PcpxVl/OSMHxoxr8xHelMMP6acKYEJb4DD9rjyVuD0sHfS72uOGecTPu3DCIrFiLD+1KrFgCy/YmRHF8mByJW+buOzPObGrHmtfzjcCaCWlfTkRESBe5DaGWKbqQkVldUEQbAeWLLpvkOreNIFYu4iLkVhPb9ldPpdzDxesi1og8jqcLisie1vSNIFxoQ2KpfV1wxo083dyiXyQsQ0donA4Xq0YIcz1c9ITmUkjO/ohR7dYxxxzTExbByB0wXwTR1q9ZzvT7ypYrkbptERZ89N+6MY5NoL/5zW/u66yHmd9kXhIAAB2iSURBVLlgoxxE6chSRSrhrrRjlhppwt7yoRo544O57wqBv9VWW627E9wxJQ7I1++CWsHwvXCnOXxHJQL9Ccg/QSAIzD0CeBbPiQcVR9pJixlKGHBN+4tQuAbXMxkk762YEguIQNzOifZrHR7KOgi8MgiILCIe5ykFqNjT9j98TUiLSTiyNYna7SoJ8B6uM/b6daNhHLGCpxTBOCv2tMea9FoMqRgpdjm2Y4jBTA78OhwjISsuic/jftXCOcHZ//d//9evRtcYCH79MdDK9NEnvD3aubmBnT6QBFWSIDa5Ad+vdzgP7fbVRz3XHGzvO+BcSUbcPG9sNXbbiZuwMHfjYPJww2mNtCCwZkIaKXFIEY+LalQjtoldhNJm80hK6YL3i7Bqf0RomY3wIgCJWg/bEe6WbcrB5UjLqvUxiyPtonRcLmxd5NVvPROnSFmm6lEinrPrgcwqA5bxE6zeN5alNqRMyOoHcSEgYlLCYI4u+Grw5lwQ9khVNk2QcswdY5hVmwcidKw2gDgeXN2041jDz6q/cc/cHwGNy9yOb9z2XGa/SoIYjdc5lMy4M76WFH1PEKDtJFjKOQQ/WDv3aUEgCCwuAvgNX+COIc8VKswFNypzUEt8EbQ4jlFBTNX79iEemR84xme41UMiX9xfwpPowkuE9rj+axye9YvLcPNQpPqcy0oc68cKHzGJq4l679lPSV+Nl5BnRlj5nSXOtWMRY8yPWHUMZR6SAkJX38P4a1/bW3UUB2sM7TG9ZlxZMX3Xu97Vx1TviQfi5Zve9Kb+fTfBE+vimnilb6K3TQbEUjrAuRMjxDYmmhXTaUkLbCU3TCfiWdJEj4ihYk3FDt8fGHO4jcn8xRcrnpKGtCCwZkLaBeaLPk1M+ZxQGm5n31GkJEMkjkc5Dy46NXKcBP3POob2a2Ic+h5HED5zgcqMPSMuj3qPeG7H7Xj+Hne8tu9xrx2DoJWQICh4jWs+sw0C4NQa76hmPLZtx1rb6Q+Zjdu3thv1POm4o7b3nn6MueZWxzCOthmrOcEBHsPP223zOggEgcVAgPC0SjVJ9OAL27Srb/hD4k9IDVe1lJIRu6NWJpXpEZ6ENa7CR8of6idAp6GOd62yqcEexb9iiDERyx6cc0aCe4H8bdXVvvrWCPPqv96bNobh54wj4lSZCxOE0TJOlNtWYjJpvrCtFcbC1ti8R/gzS/RF6NbD3+Y5jDvOL6yJYMnNsMRvOJf2b3EMfpIMq7bGTifAtxXsYg+3XDIkIeP+j5t/e/y8XgwE1kxIbyx4LecgMRdc21x8iEC2igTTgkAQCAJBIAgsBwGiS5wZVR9sddHKJzG5XOG6nDFlnyAQBNYGgbkT0paa3ICoJEH2KHu2DCZbtewlYx13A8LanIL0GgSCQBAIApsTAlxLJXnKFziaXGgPJo33PNqbtzenuWWsQSAILA2BuRPSpm8pzRIX0UxEq0NW+2bpblLZw9Kgy9ZBIAgEgSCwiAhwmpUBKENwz4xf7/Con11VTpEWBILAYiAwl0J6MU5dZhkEgkAQCAJrjQBRrebXI6Uca3020n8QWH0EIqRXH/P0GASCQBAIAkEgCASBIDAHCERIz8FJzBSCQBAIAkEgCASBIBAEVh+BCOnVxzw9BoEgEASCQBAIAkEgCMwBAhHSc3ASM4UgEASCQBAIAkEgCASB1UcgQnr1MU+PQSAIBIEgEASCQBAIAnOAQIT0HJzETCEIBIEgEASCQBAIAkFg9RGIkF59zNNjEAgCQSAIBIEgEASCwBwgECE9BycxUwgCQSAIBIEgEASCQBBYfQQipFcf8/QYBIJAEAgCQSAIBIEgMAcIREjPwUnMFIJAEAgCQSAIBIEgEARWH4EI6dXHPD0GgSAQBIJAEAgCQSAIzAECEdJzcBIzhSAQBIJAEAgCQSAIBIHVRyBCevUxT49BIAgEgSAQBIJAEAgCc4BAhPQcnMRMIQgEgSAQBIJAEAgCQWD1EYiQXn3M02MQCAJBIAgEgSAQBILAHCAQIT0HJzFTCAJBIAgEgSAQBIJAEFh9BCKkVx/z9BgEgkAQCAJBIAgEgSAwBwhESM/BScwUgkAQCAJBIAgEgSAQBFYfgQjp1cc8PQaBIBAEgkAQCAJBIAjMAQIR0nNwEjOFIBAEgkAQCAJBIAgEgdVHIEJ69TFPj0EgCASBIBAEgkAQCAJzgECE9BycxEwhCASBIBAEgkAQCAJBYPURiJBefczTYxAIAkEgCASBIBAEgsAcIBAhPQcnMVMIAkEgCASBIBAEgkAQWH0EIqRXH/P0GASCQBAIAkEgCASBIDAHCERIz8FJzBSCQBAIAkEgCASBIBAEVh+BTUpI/+Mf/+j+8Ic/dH/961+7//3vf6uPxqDH//73v92f/vSn7je/+c26xyuvvNK99tpr3W9/+9v+vV//+ted915//fX19v7LX/7S/e53v+u3efXVV7t//vOf632+If/44x//2D333HPdk08+2b344osdHMe1v//97/02tv3lL3/Z2Xc5DS72f+qpp3osYDWumftLL73Uj+9Xv/pVf37HbZv3g0AQCAIbEwFcjf8ee+yxZfPfhhwfvv7FL37R/eAHP+h+9KMf9Y+HH3648/D3D3/4w/752Wef7f71r3+t61p8+dnPftZ/9uMf/7h7/vnnu0k8vG7HZbwQ87773e92N954Y3fbbbf1fY07jHHdf//93fXXX999/etf7x555JGZ45/5OS/2u+6667qvfvWr/bPXd99998jzJb7q74YbbujuuOOOiWMbN+a8HwRWgsAmI6T/85//dN/+9re7T3ziE92XvvSlkRfMSia6nH0JwPvuu6+7+OKL1z3OOeec7vTTT+8uvPDC7vOf/3z32c9+tvvyl7/cC1l9IIKf/vSn3RVXXNF97nOf6/e75JJLultvvbVzwW/IRqx/5zvf6c4666zuwAMP7HbffffuqKOO6i699NI3kEkRlDHbZrfdduv3MR+EDf9ZGqL++c9/3p1//vndAQcc0Pd5yimn9AQmARo2iQaCO+GEE/ptjznmmO7KK6/sRfhw2/wdBIJAENjYCEj+P/rRj3ZHHnlkz+9rbdr8+c9/Xic8v/a1r3XXXHNN97GPfaw77bTTehF500039QKWqCa6cTABLS7hc+L22muv7b7whS90d955ZycubMhGCH/qU5/qx/Pxj3+8O+OMMzpx45577llP2Ovz0Ucf7T//8Ic/3H3kIx/pcT7xxBP7cc4S/4jw4447rtt11127k046qXMczx7iqHjSNrHrvPPO62MyzM4888zuM5/5TD+2tT6v7Tjzer4R2GSEtIyX8CS0XICPP/74miPvQiQOjc2D8ywzRnAu4N///vf9+1x0QtX23//+9ztkc9VVV/Vi1n5I74ILLugFpL83VIMRvBCJ1y+88EL34IMP9kJZQsI1r6bfc889txe03/ve9/ptn3jiiX7fQw45pHc9attJz9wColgCwUXRpyTh0EMP7R0IOFRDekS+sQgCtuUEIUQYcrTTgkAQCAKrhQDDgNjESYSXpJ6Q3dBtJSLOap9YaGyjVjKtkDIyLrroop5Tjf3f//53b2acfPLJvXO8kv5bLKxwHn/88X1Me/nll/uP9EXcM2S45dWIYP0fe+yx63H7N77xjW777bfvE4Rpho3+jj766E5CMa2JH2IR8VyxztjsS4yLOWlBYDUQ2GSENGEq65WNn3322d0tt9yyQcs7kBMRyE0d5ZzOCjbRKBtXojBsLuJ77723d6MRQtssS0kQCN1qnAVi85lnnlkWmZsHt4CgbxviktFb5qpmbPqxPNg27swee+zRC96//e1v7UdveK0shBN/xBFH9OUhtYFjc0cOPvjgvg/vI3Lj2H///Xu3pbb1DDsuBUHdCu92m7wOAkEgCGxoBJgeX/ziF3sH9+abb+5jDl6shrfw8jgh6jOPthGHBC8uYxQwW771rW8te1XVGPEpIT2qTE85HgE7NCIIbMaFFd12P4aJMguxYjj2dh6jXiuxsNLJIGqbMTCMmDhV1qj0Q9whstsm9jJ8DjrooKmrsk8//XTH2FE+Mq1Z6dxrr73eMDb4EdhWHcSscW3cuR73vvPseB6JW+NQXcz3NwkhTYi5+DimloYQAZHV1u9aFkIelRW3p8t7ss/W7ZWhPvDAA93tt9/elz+otVJuwY1ot2uPM+01EkKQBP+QxGpfF5iltWHmzTF2Ydu/SJoTctlll/XLV0hoQzW1drvsskt39dVXr+tr3LFhwVngOkxbejNnhOjcDOenRu0DH/hA707rS2BBskpO2kBVn5166qm9yB51PmusgtJdd931hnGpB3deh/siYUucvkfKW3xfJhFp9ZPnIBAEFgMBopLYZGhYUVOmoDyuBCZzgohTZtiKUeioQSaSa7UUBzJmiFQxi/DlEttGP8P9Z0WYMVJCein8RUBa+bRv67IzNJgc4kGJ3lnGAhPlIsRqzbn2w+9ccfGg3GAxgCmDm9umT8J2n3326Vd128+Gr5ld++23X18PPfys/Rv2XHsi3z5tE4P1t8MOO7whRtR2NIeSGElVa0TZ1/vicvs+A0pM4ZaLacw+36HlnuMaR57nA4FNQkhbEnJRIiNkQOwiOLXG1Yg4SziWbVwE1VxQsmbitlxigkrdMmIj0BGIfbnJK8kkZxHSNa7hs/IOQppLXEJapq7GzTKUerMN1Yh1hCYYVF/jjk3kIkr4TXPqlYTYFtEMm8DBfUZAGvIUsNRRD5MO58Cy6nbbbdc7OMNj1d/KY/RntaJt3/zmN3uSVL+umaObbaqMBM4cb2RqZWMl57ztN6+DQBDYfBHAA1xoPIGTGDWELw4u08Y2+A0fKkWrhmPwKQFVxsBDDz3U7+997+EpK3YMG9y+3LZcIc1YEDfFvlYw4211wxKGNnZOG585X3755b0pI361jYB0r9AHP/jB/kZyn4m/yjqI+ZZzxQZCHtajSlXa4+qHI43b3aDORZes1PmpbUvkc8BbneBzycfhhx/ebb311m+4V6j2Nw6awOpqW3cNN+8TzPW+BMpcGUPMOQ+4wNqKbloQ2CSE9E9+8pN+mUj5gwvEl1MNrUy/LnwXB0EsC20dZXXL6nU5kS5eYpAg9x6BrrnokaOSDCJ7uW25QtpFWwTeZvbmZjwIeZobPGnMxqUP8+Tou/nPXGEzbMgRTggDUdTNh87BtCZgyPKHS3f2E5iQJbIxL2OSyOy555793ejtsS1BEt2E9CQiUubDnRiSOHHMcS8XH8ly1LncRbi+LxwS7nx9h9ox5HUQCAKLhYC4QeThPKuGuFBckNRb/aqGQwlmArSa7YknyT3uxLXijHjUimalfeqvh8l/HWeW5+UKaeJT+SDOaxu+V7bXitv280mvua4439xbHsXJ3GA8js+rEZluEGSo2JdBRIQqAymjq7Yd9Qxz/YnfzDWGEK6X/BDkbTNfQtp5EG+qOX/vfve7u2233Xa9EsT63LN4KUZ+6EMfWm/8zq33mTDltHPY99133/Wcb/uLn74HaUFgzYW0i5OjTDjXhcKVJsg+/elPrycGXZif/OQn18tAXTTeK9JTm4wEibD2widW9dHeHLHU079cIW1eHA5u+sa48IhgGTjCsXzGFVH+MKohPWPxqx3cXqJ71psyEIqbRsYJaTVwzkXN0dKpZTCkxFUQjCQ3zveWW27Zj4HrMK45h4h6lJBGoCWkEZ65+L4MS07GHTvvB4EgsFgIMDEk21a0SngRnfWrQ4S1Rsha8ufs1iodw0NMkpxrEnYi2nJ/W35hZUwfK4kzyxHSXFPiUwljW9bRD3YF/xDgRDSXWBLi+AwVphaRKwlp++PMiz9iAWPFQ+mg/cT1aU1C4xc6uPpiA4MJ/3vvsMMO68tx6hj6lRQZmz4Zb1azmWrbbLNN33cZK7VPPS9FSIsze++9d398QjstCAwRWHMhLatzEchg64JEaMSWzLbN7C1duZhdMC4EogkpWjIqQUYoWsZy8ZegM+n6mbhhPdUQkEl/L0dIE3mcWVlzOeST+ljOZ/pAIEo63IAhe0dEo4hLYEDytuWSq6cTIIjeCiTjxqAsZZKQRpqy+SIb50dfHAlkZxlNzZ1zZluJzaQbHGcV0vozD8ck8iUuEqpJxx43x7wfBILA/CGA2/AOkSupr1bGAv4o0YzncR3DwUqbfZkIYk/dRC7+EIfuxyin1Xv4V/wZlrNVf7M8L1VImwNhqzZ7FOfP0uekbSQKVovxuJU/CQbnnUkikaikRLJRNyDCpFY+mVycX9xfMX5SfxXb223c7LjVVlv1x2jNkhqbfpXzOSfGRnQT2e227fH0Mc2RhqtGjBu7hMA+EhZlou3KeHvsvF48BNZcSLtAZJuySGKY2CQMEVn9DE5dDBxmIhp5KVuwrS818VTLVi6Q+mUNDrZjEc+I0kXWLsMt9XQvVUjLpr/yla/07vjGEtGj5mD+HGe4FMmN2s57HAQ/XUfUTiNhyYgbCkc50o5DLMO5zlf1CXMkK4AhpyJhgW1Sm1VIOwaClhgg7B133LF35yUIbhKZliBMGkM+CwJBYPNHAAcxXAhBohNXeIgnHGnOKg6rxhm1sql8gGAipMSPMglsRyxzrt187YY+x2KYWP2seFTHW8rzUoS0+GY+4udKygOXMj7bEu1t2R7Oh4WVwtb8quMydkbd71KfT3tWr66UxHmaZpCIue7NcR7GNTpBojSptKOEtGMQ7FYvzFGsdJOlsUwqTRzXd96fPwTWVEgjJeTky8yVdrHVQzZJYCO/VoRaOlPkr5zBBWs5f3jhKmuQNTsGYuMIy6gR1EraUoS0i1A9nf6Hvy6xkjHMsq9lPmKSo18uy7j9nAM3VyDFtk5w1PbKaLi+BO6wOR+IDsFOagIa90B2397MM2qfcUK6EoUq7ah9kbnAQrQT/RIxNYPeSwsCQWBxEXDTGkeV6CSIGDgeXhPBOMmvdZQJIDEnmnC4mCPODMs1GDQcaOUetnHTWxurlov2rEKa8UTgW31dTY6z4qeEUA1zlbVUHFFeOMqNl7Qwd6o0ZqnYcLh33nnn/hxWn6OO4RyoZ1Z2QyyPaxKdcqRb7LzvXCtHbIX08Di+C1Zn6YxpZtVw3/w9fwisqZBW1iErlNFzmGWahJ8HIiOYZH1IqpovtyU2gg2J1b71uX3dQOJBtHGxixxrm3rWh4zShTSLazmrkEamCJg7O4pUqn/HgwEnxFiW2sxvlFB2PEJa5lzlLZ5HJRJIyXIn8ml/Y9qxJSjeK/ycIwFnVEmGYIREh8GmnROMBTKuhRWHaY3zrUa6Pf/2UZay0047rauR9t4o0pSkqdWTAKQFgSCwmAiIAeKBkrdR947gOjGFmVM1tbgKRxFVxKqVT1xdzTHxk5JEMYmQxLH4WBwrceU4arMZRBzSWeLMNCHtGEQ0AW1skwSf8UoiKiEoLq95LPUZfkQmI6SNF+bLFcftTIy2wYXoxuVVVgMvRolYwvioRjAroxneKK8um3B1HsdhKNZacfDLIVVuU8cdPjsGEcwYass9fRf8pzJMmBLY4rltKpY6FhPIjfBwrXM97CN/Lw4Cayqk3eTmp8q4xaMakesOaIK5hJIvs/pp4o8zrTygJQdE5oJGfO4YVp+lxMPdxLLVIkr9+axqvqYtF9neBUPEVe3cqDEjOHVj+ucMT2puvuNYw8AYl9IQEVwEgHZJkjDmpHCYlVBUgzW84NBe+Poloon+FgPbqUlDmiXA7ecXM9TGqcmuhlzhaCm0tq3P6tl4nTfkA5+2r9pm+OwmE+Ui5iNwaTBT2uOnjYxRs6QpoDk3RXb640oY1zRS7Q+Sf4JAEJhLBAhgq25E5yjjAa/hJiug7U+pEXiEnhu5cS1OaRt3ldDG9TjKg7FD4Fqhc9ziTCJSycEsJR/16yI4bZT7iu+s1FptE+OseKrd9iDwzLfdr35HmugrfmznMctr/IuPCWg/eTe8AdwxjIPR4udciWni03YEK0PD/CuOKyNUfvGWt7xlPVMFp7uxD8fDUBLiWHhc7fmo8hXH1I/zRwBLHGZp7guyvRvkJTn0Bi3COXc/T60uEPEEt7hlTOYlbotNs96oP8t4ss3mi8CaCWmExp30JR7lEoCUS6s8g5NQYkgm6UJRDuLmguFFQ2hZRkJmfiUDiXh47VhcyrpJQP2biwFhjSLY4WlFio5FkLbZeG3nc30jDWNGzv5ux6Acodxn2S8Bq94KIY7LtOv47TPy8J+VIC04SDgsXVquIsy5JS1pcgIEBX0hO9vY1lyQ/7D8BKFsscUWPYG07oCxS1TUFUpmPBC6+Y4rDUFI5qn0AwHV/Nv5jHotcJkH8jZHrgYs9fm+971v3TKh8Uko1Hobl3nCwhwJ/jbRGtVP3gsCQWB+EWA04DhlHOM4logSH1pDQ0zggOKdclILJW4lcc2swJ3+9vCaueP+jDI4rOwRvo4tRkxr+FG/TIuheLcvoSwpKLecgPe3hzlwetv4ZEWPqUCkliExbQzDz2slGL9OWuGzHc4WEwhipos4I+618YjQd07EoxZbBosEhS4Qmxkv+sT740wamOtDXCOOZ22+C86NWKF+W1wR94xLclQ6gei3Om5OxiO+68++y8Vz1jFmu80DgTUT0i4k2R0hXFnqEDKkg+BchG0mSiwjBTVuXrcNacgcR5VU+MxFUz+V56InpgnAWQjOhYccEXLrbFf/juFYlgTV2yFCLmk9ECwyLSHpIkQi3qvst44167MkBOkiVWJW9m8MowIGIkIURCfSQLqwaN2L6hc2kg8YD10U5G7MlkK50PqfNH4BBrkio1mc6BqDZ305/9wI5KZ0BGYwrTvobYekzUXAgIPkiEsxy3lt+8vrIBAE5gsBiTR+mJRQ4wnbDLlObPL+kEeIPTxqBXLYmD74SmzBw/rFY5P6b49hH/0ayyger7HiUvFPPGkfEoBW4C21/3Ys9dox9DUqVtQ29WxbJhGDQ9wex/nm6HhDbB3H+4SsYzjWJOx8Zv7j+qlxjXu2n37EdJiPOufOg/mbj8csxtu4/vL+/CGwZkJ6Y0FJYBF4LoxhI4IJv2EN13C7/B0EgkAQCAJBYBwCzBSuqcS+FbuEWCX+k5zbccfN+0EgCGx+CMydkOY6c2fVNckcZbMenAPOKZFdS26b3+nKiINAEAgCQWCtEeBeWnVUVqHEQxmfh9d+JYpZM4t7u9bzSP9BIAisHIG5E9KW4dwA4C7pqhnzbKlfnZXasXbZa+UQ5ghBIAgEgSCwaAgo1/BTcBxoZRweSuGU200qRVg0nDLfIDDvCMydkHbC1Fy5QcBNCOpoudFqflPXNO9f58wvCASBIBAEgkAQCAKrh8BcCunVgy89BYEgEASCQBAIAkEgCCwqAhHSi3rmM+8gEASCQBAIAkEgCASBFSEQIb0i+LJzEAgCQSAIBIEgEASCwKIiECG9qGc+8w4CQSAIBIEgEASCQBBYEQIR0iuCLzsHgSAQBIJAEAgCQSAILCoCEdKLeuYz7yAQBIJAEAgCQSAIBIEVIRAhvSL4snMQCAJBIAgEgSAQBILAoiIQIb2oZz7zDgJBIAgEgSAQBIJAEFgRAhHSK4IvOweBIBAEgkAQCAJBIAgsKgIR0ot65jPvIBAEgkAQCAJBIAgEgRUhECG9IviycxAIAkEgCASBIBAEgsCiIhAhvahnPvMOAkEgCASBIBAEgkAQWBECEdIrgi87B4EgEASCQBAIAkEgCCwqAhHSi3rmM+8gEASCQBAIAkEgCASBFSEQIb0i+LJzEAgCQSAIBIEgEASCwKIiECG9qGc+8w4CQSAIBIEgEASCQBBYEQIR0iuCLzsHgSAQBIJAEAgCQSAILCoCEdKLeuYz7yAQBIJAEAgCQSAIBIEVIRAhvSL4snMQCAJBIAgEgSAQBILAoiIQIb2oZz7zDgJBIAgEgSAQBIJAEFgRAhHSK4IvOweBIBAEgkAQCAJBIAgsKgIR0ot65jPvIBAEgkAQCAJBIAgEgRUhECG9IviycxAIAkEgCASBIBAEgsCiIhAhvahnPvMOAkEgCASBIBAEgkAQWBECEdIrgi87B4EgEASCQBAIAkEgCCwqAhHSi3rmM+8gEASCQBAIAkEgCASBFSHw/wDkI1xAiIizdAAAAABJRU5ErkJggg==)"
   ]
  },
  {
   "cell_type": "markdown",
   "id": "bb1978d5",
   "metadata": {},
   "source": [
    "<a id=\"discussion\"></a>\n",
    "## 2.5 Discussion"
   ]
  },
  {
   "cell_type": "markdown",
   "id": "b100fc0d",
   "metadata": {},
   "source": [
    "**Gate fidelity**: From the slope of these graphs, we can extract average gate fidelity, which is the average probability that a gate produces the right result. What do you think - which circuit has higher gate fidelity?"
   ]
  },
  {
   "cell_type": "markdown",
   "id": "24b21991",
   "metadata": {},
   "source": [
    "**Connectivity** : In which computer (yorktwon or belem) is it easier to apply a gate between qubit 2 and qubit 4? What implications does this have for error rates?"
   ]
  },
  {
   "cell_type": "markdown",
   "id": "857fa38f",
   "metadata": {},
   "source": [
    "<a id=\"challenge\"></a>\n",
    "# 3. Challenge problems"
   ]
  },
  {
   "cell_type": "markdown",
   "id": "ee0bcc0a",
   "metadata": {},
   "source": [
    "**Problem 1:** Using only Yorktown and Belem, try using the noise models to simulate the circuit in question 5 of the homework on each of these computers (as we did in lab). Which computer has a better error?\n",
    "\n",
    "**Problem 2:** Test out randomized benchmarking by using noise models from other quantum computers - try out ibmq_lima, ibmq_rome, etc. How do these systems compare to belem and yorktown? Feel free to post your results on Piazza!\n",
    "\n",
    "**Problem 3:** Test out the randomized bechmarking circuit with 4 and 5 qubits. How do the results differ from the 3 qubit case?\n",
    "\n",
    "**Problem 4:** Test out a small (length =1 or 5) benchmarking circuit with 3 qubits on an actual quantum computer. Are the results similar to the noisy simulation we did here?"
   ]
  },
  {
   "cell_type": "markdown",
   "id": "7f7d531b",
   "metadata": {},
   "source": [
    "<a id=\"extra content\"></a>\n",
    "# 4. Extra content (strictly optional!!) - Qiskit Pulse"
   ]
  },
  {
   "cell_type": "markdown",
   "id": "passing-roads",
   "metadata": {},
   "source": [
    "# Overview \n",
    "1. [Introduction](#introduction)\n",
    "2. [Calibrating and using a $\\pi$ Pulse](#pipulse)\n",
    "    1. [Backen with Pulse Support](#pulsebackend)\n",
    "    2. [Qubit Frequency](#frequency)\n",
    "    3. [Using the $\\pi$ Pulse](#usepipulse)\n",
    "        1. [Determining 0 vs 1](#determining)"
   ]
  },
  {
   "cell_type": "markdown",
   "id": "adjusted-movement",
   "metadata": {},
   "source": [
    "<a id=\"introduction\"></a>\n",
    "# Introduction"
   ]
  },
  {
   "cell_type": "markdown",
   "id": "hidden-convenience",
   "metadata": {},
   "source": [
    "[Qiskit Pulse](https://qiskit.org/documentation/apidoc/pulse.html) is a pulse-level quantum programming kit. This lower level of programming offers the user more control than programming with `QuantumCircuit`s.\n",
    "\n",
    "Qiskit Pulse provides a language for specifying pulse level control (i.e. control of the continuous time dynamics of input signals) of a general quantum device independent of the specific hardware implementation. With Qiskit Pulse, we have unprecedented control over the waveforms used to control quantum computers, including architectures other than superconducting qubits, to study and mitigate noise in these devices.\n",
    "\n",
    "Quantum computers are noisy devices. Even the best superconducting quantum bits forget their quantum information in less than a millisecond due to noise from interactions with the outside world. Much of today’s hardware research focuses on how to mitigate the computing errors caused by this noise as we pursue [large-scale, fault-tolerant devices](https://www.ibm.com/blogs/research/2020/09/ibm-quantum-roadmap/).\n",
    "\n",
    "Noise isn’t always random — some sources of noise exhibit patterns caused by their underlying source, such as drift in the hardware or ambient fields. Pulse-level control offers a way to handle these less-random noise sources.\n",
    "\n",
    "To review this topic, let's see how to implement typical single-qubit calibration and characterization experiments using Qiskit and Qiskit Pulse. It should be noted that all units are returned as standard [SI](https://en.wikipedia.org/wiki/International_System_of_Units) (ie Hz, sec, etc).\n",
    "\n",
    "Each experiment gives us more information about the system, which is typically used in subsequent experiments. For this reason, this notebook has to be mostly executed in order."
   ]
  },
  {
   "cell_type": "markdown",
   "id": "second-assurance",
   "metadata": {},
   "source": [
    "<a id=\"pipulse\"></a>\n",
    "# Calibrating and using a $\\pi$ Pulse"
   ]
  },
  {
   "cell_type": "markdown",
   "id": "polyphonic-memphis",
   "metadata": {},
   "source": [
    "A $\\pi$ pulse helps us bring the state $|0\\rangle$ to state $|1\\rangle$ and vice versa, as can be seen in the following Bloch sphere:"
   ]
  },
  {
   "cell_type": "markdown",
   "id": "fancy-gentleman",
   "metadata": {},
   "source": [
    "![zero_to_one_X180.png](data:image/png;base64,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)"
   ]
  },
  {
   "cell_type": "markdown",
   "id": "impaired-firmware",
   "metadata": {},
   "source": [
    "This is the bit-flip operator, or $X$ gate that we have already used before. Now we will do the state change with a $NOT$ operation, but instead of directly applying the $X$ gate, we will apply a $\\pi$ pulse.\n",
    "\n",
    "But first we must know the device in which we will execute these pulses, so we must choose one and find out its frequency, in such a way that we can use this information to generate the pulse we want."
   ]
  },
  {
   "cell_type": "markdown",
   "id": "static-cambridge",
   "metadata": {},
   "source": [
    "<a id=\"pulsebackend\"></a>\n",
    "## Backend with Pulse Support"
   ]
  },
  {
   "cell_type": "markdown",
   "id": "heated-facility",
   "metadata": {},
   "source": [
    "We'll first get our basic dependencies set up and ready to go. Since we want to use real, noisy devices for our calibration experiments in this notebook, we need to load our IBMQ account and set the appropriate backend."
   ]
  },
  {
   "cell_type": "code",
   "execution_count": null,
   "id": "backed-study",
   "metadata": {},
   "outputs": [],
   "source": [
    "from qiskit.tools.jupyter import *"
   ]
  },
  {
   "cell_type": "code",
   "execution_count": null,
   "id": "blind-analysis",
   "metadata": {},
   "outputs": [],
   "source": [
    "from qiskit import IBMQ\n",
    "IBMQ.load_account()\n",
    "provider = IBMQ.get_provider(hub='ibm-q', group='open', project='main')\n",
    "backend = provider.get_backend('ibmq_armonk')"
   ]
  },
  {
   "cell_type": "markdown",
   "id": "behavioral-entrance",
   "metadata": {},
   "source": [
    "We verify that the backend supports Pulse features by checking the backend configuration. The config provides us with general information about the structure of the backend setup. To know more details about the backend you can check the [Qiskit documentation](https://qiskit.org/documentation/tutorials/circuits_advanced/08_gathering_system_information.html)."
   ]
  },
  {
   "cell_type": "code",
   "execution_count": null,
   "id": "theoretical-guide",
   "metadata": {},
   "outputs": [],
   "source": [
    "backend_config = backend.configuration()\n",
    "\n",
    "if backend_config.open_pulse is False:\n",
    "    print(\"Backend doesn't support Pulse\")\n"
   ]
  },
  {
   "cell_type": "markdown",
   "id": "burning-killing",
   "metadata": {},
   "source": [
    "For instance, we can find the sampling time for the backend pulses within the backend configuration. This will be a very useful value to us as we build and execute our calibration routines."
   ]
  },
  {
   "cell_type": "code",
   "execution_count": null,
   "id": "corporate-darkness",
   "metadata": {},
   "outputs": [],
   "source": [
    "dt = backend_config.dt\n",
    "print(dt)\n",
    "\n",
    "print(f\"Sampling time: {dt*1e9} ns\")    # The configuration returns dt in seconds, so multiply by\n",
    "                                        # 1e9 to get nanoseconds"
   ]
  },
  {
   "cell_type": "markdown",
   "id": "domestic-bhutan",
   "metadata": {},
   "source": [
    "The backend defaults provide a starting point for how to use the backend. It contains estimates for qubit frequencies and default programs to enact basic quantum operators. We can access them with the following:"
   ]
  },
  {
   "cell_type": "code",
   "execution_count": null,
   "id": "polish-calcium",
   "metadata": {},
   "outputs": [],
   "source": [
    "backend_defaults = backend.defaults()\n",
    "\n",
    "print(backend_defaults)"
   ]
  },
  {
   "cell_type": "markdown",
   "id": "emotional-monitor",
   "metadata": {},
   "source": [
    "<a id=\"frequency\"></a>\n",
    "## Qubit Frequency"
   ]
  },
  {
   "cell_type": "markdown",
   "id": "southern-tuition",
   "metadata": {},
   "source": [
    "The qubit frequency is the difference in energy between the ground and excited states, which we label the $|0\\rangle$ and $|1\\rangle$ states, respectively. This frequency will be crucial for creating pulses which enact particular quantum operators on the qubit, the final goal of our calibration!\n",
    "\n",
    "Now it is necessary to determine this qubit frequency for the particular backend, in the following lines of code this information is determined, if you want to know more details of what is being done and why, consult [this tutorial](https://qiskit.org/textbook/ch-quantum-hardware/calibrating-qubits-pulse.html#frequencysweep)."
   ]
  },
  {
   "cell_type": "code",
   "execution_count": null,
   "id": "phantom-diamond",
   "metadata": {},
   "outputs": [],
   "source": [
    "import numpy as np\n",
    "\n",
    "# unit conversion factors -> all backend properties returned in SI (Hz, sec, etc)\n",
    "GHz = 1.0e9           # Gigahertz\n",
    "MHz = 1.0e6           # Megahertz\n",
    "us = 1.0e-6           # Microseconds\n",
    "ns = 1.0e-9           # Nanoseconds\n",
    "\n",
    "# We will find the qubit frequency for the following qubit.\n",
    "qubit = 0\n",
    "\n",
    "# The sweep will be centered around the estimated qubit frequency.\n",
    "center_frequency_Hz = backend_defaults.qubit_freq_est[qubit]        # The default frequency is given in Hz\n",
    "\n",
    "print(f\"Qubit {qubit} has an estimated frequency of {center_frequency_Hz / GHz} GHz.\\n\")\n",
    "\n",
    "\n",
    "# scale factor to remove factors of 10 from the data\n",
    "scale_factor = 1e-14\n",
    "\n",
    "\n",
    "# We will sweep 40 MHz around the estimated frequency\n",
    "frequency_span_Hz = 40 * MHz\n",
    "\n",
    "# in steps of 1 MHz.\n",
    "frequency_step_Hz = 1 * MHz\n",
    "\n",
    "\n",
    "# We will sweep 20 MHz above and 20 MHz below the estimated frequency\n",
    "frequency_min = center_frequency_Hz - frequency_span_Hz / 2\n",
    "\n",
    "frequency_max = center_frequency_Hz + frequency_span_Hz / 2\n",
    "\n",
    "\n",
    "# Construct an np array of the frequencies for our experiment\n",
    "frequencies_GHz = np.arange(frequency_min / GHz, \n",
    "                            frequency_max / GHz, \n",
    "                            frequency_step_Hz / GHz)\n",
    "\n",
    "print(f\"The sweep will go from {frequency_min / GHz} GHz to {frequency_max / GHz} GHz \\\n",
    "in steps of {frequency_step_Hz / MHz} MHz.\")"
   ]
  },
  {
   "cell_type": "code",
   "execution_count": null,
   "id": "irish-coordinator",
   "metadata": {},
   "outputs": [],
   "source": [
    "from qiskit import pulse                       # This is where we access all of our Pulse features!\n",
    "from qiskit.pulse import Play\n",
    "from qiskit.pulse import library as pulse_lib  # This Pulse module helps us build sampled pulses for common pulse shapes\n",
    "\n",
    "# samples need to be multiples of 16\n",
    "def get_closest_multiple_of_16(num):\n",
    "    return int(num + 8 ) - (int(num + 8 ) % 16)\n",
    "\n",
    "# Drive pulse parameters (us = microseconds)\n",
    "drive_sigma_us = 0.075                     # This determines the actual width of the gaussian\n",
    "drive_samples_us = drive_sigma_us*8        # This is a truncating parameter, because gaussians don't have \n",
    "                                           # a natural finite length\n",
    "\n",
    "drive_sigma = get_closest_multiple_of_16(drive_sigma_us * us /dt)       # The width of the gaussian in units of dt\n",
    "drive_samples = get_closest_multiple_of_16(drive_samples_us * us /dt)   # The truncating parameter in units of dt\n",
    "drive_amp = 0.05\n",
    "\n",
    "# Drive pulse samples\n",
    "drive_pulse = pulse_lib.gaussian(duration=drive_samples,\n",
    "                                 sigma=drive_sigma,\n",
    "                                 amp=drive_amp,\n",
    "                                 name='freq_sweep_excitation_pulse')"
   ]
  },
  {
   "cell_type": "code",
   "execution_count": null,
   "id": "fifteen-wrapping",
   "metadata": {},
   "outputs": [],
   "source": [
    "# Find out which group of qubits need to be acquired with this qubit\n",
    "meas_map_idx = None\n",
    "for i, measure_group in enumerate(backend_config.meas_map):\n",
    "    if qubit in measure_group:\n",
    "        meas_map_idx = i\n",
    "        break\n",
    "\n",
    "if meas_map_idx is None:\n",
    "    print(f\"Couldn't find qubit {qubit} in the meas_map!\")\n",
    "\n",
    "\n",
    "inst_sched_map = backend_defaults.instruction_schedule_map\n",
    "\n",
    "measure = inst_sched_map.get('measure', qubits=backend_config.meas_map[meas_map_idx])\n",
    "\n",
    "print(measure)"
   ]
  },
  {
   "cell_type": "code",
   "execution_count": null,
   "id": "medium-technique",
   "metadata": {},
   "outputs": [],
   "source": [
    "### Collect the necessary channels\n",
    "\n",
    "drive_chan = pulse.DriveChannel(qubit)\n",
    "meas_chan = pulse.MeasureChannel(qubit)\n",
    "acq_chan = pulse.AcquireChannel(qubit)\n",
    "\n",
    "\n",
    "\n",
    "# Create the base schedule\n",
    "\n",
    "# Start with drive pulse acting on the drive channel\n",
    "schedule = pulse.Schedule(name='Frequency sweep')\n",
    "\n",
    "schedule += Play(drive_pulse, drive_chan)\n",
    "\n",
    "# The left shift `<<` is special syntax meaning to shift the start time of the schedule by some duration\n",
    "schedule += measure << schedule.duration\n",
    "\n",
    "\n",
    "# Create the frequency settings for the sweep (MUST BE IN HZ)\n",
    "\n",
    "frequencies_Hz = frequencies_GHz * GHz\n",
    "\n",
    "schedule_frequencies = [{drive_chan: freq} for freq in frequencies_Hz]\n"
   ]
  },
  {
   "cell_type": "code",
   "execution_count": null,
   "id": "chicken-comment",
   "metadata": {},
   "outputs": [],
   "source": [
    "from qiskit import assemble\n",
    "from qiskit.tools.monitor import job_monitor\n",
    "\n",
    "\n",
    "num_shots_per_frequency = 1024\n",
    "frequency_sweep_program = assemble(schedule,\n",
    "                                   backend=backend, \n",
    "                                   meas_level=1,\n",
    "                                   meas_return='avg',\n",
    "                                   shots=num_shots_per_frequency,\n",
    "                                   schedule_los=schedule_frequencies)\n",
    "\n",
    "\n",
    "job = backend.run(frequency_sweep_program)\n",
    "\n",
    "#print(job.job_id())\n",
    "\n",
    "job_monitor(job)      # So that you can see the status of the job you sent to run\n",
    "\n",
    "frequency_sweep_results = job.result(timeout=120) # timeout parameter set to 120 seconds"
   ]
  },
  {
   "cell_type": "code",
   "execution_count": null,
   "id": "refined-london",
   "metadata": {},
   "outputs": [],
   "source": [
    "from scipy.optimize import curve_fit\n",
    "\n",
    "\n",
    "sweep_values = []\n",
    "for i in range(len(frequency_sweep_results.results)):\n",
    "    \n",
    "    # Get the results from the ith experiment\n",
    "    res = frequency_sweep_results.get_memory(i)*scale_factor\n",
    "    \n",
    "    # Get the results for `qubit` from this experiment\n",
    "    sweep_values.append(res[qubit])\n",
    "    \n",
    "\n",
    "\n",
    "\n",
    "def fit_function(x_values, y_values, function, init_params):\n",
    "    fitparams, conv = curve_fit(function, x_values, y_values, init_params)\n",
    "    y_fit = function(x_values, *fitparams)\n",
    "    \n",
    "    return fitparams, y_fit\n",
    "\n",
    "\n",
    "\n",
    "fit_params, y_fit = fit_function(frequencies_GHz,\n",
    "                                 np.real(sweep_values), \n",
    "                                 lambda x, A, q_freq, B, C: (A / np.pi) * (B / ((x - q_freq)**2 + B**2)) + C,\n",
    "                                 [-5, 4.975, 1, 5] # initial parameters for curve_fit\n",
    "                                )\n",
    "\n",
    "\n",
    "\n",
    "A, rough_qubit_frequency, B, C = fit_params\n",
    "rough_qubit_frequency = rough_qubit_frequency*GHz # make sure qubit freq is in Hz\n",
    "print(f\"We've updated our qubit frequency estimate from \"\n",
    "      f\"{round(backend_defaults.qubit_freq_est[qubit] / GHz, 5)} GHz to {round(rough_qubit_frequency/GHz, 5)} GHz.\")"
   ]
  },
  {
   "cell_type": "markdown",
   "id": "breathing-photographer",
   "metadata": {},
   "source": [
    "<a id=\"usepipulse\"></a>\n",
    "## Using the $\\pi$ Pulse"
   ]
  },
  {
   "cell_type": "markdown",
   "id": "liable-heaven",
   "metadata": {},
   "source": [
    "Once we know the frequency of our qubit, the next step is to determine the strength of a $\\pi$ pulse. Strictly speaking of the qubit as a two-level system, as we already mentioned, a $\\pi$ pulse is one that takes the qubit from $|0\\rangle$ to $|1\\rangle$. This is also called the $X$ or $X180$ gate. We already know the microwave frequency needed to drive this transition from the previous frequency sweep experiment, and we now seek the amplitude needed to achieve a $\\pi$ rotation from $|0\\rangle$ to $|1\\rangle$. The desired rotation is shown on the Bloch sphere in the figure above, you can see that the $\\pi$ pulse gets its name from the angle it sweeps over on a Bloch sphere."
   ]
  },
  {
   "cell_type": "markdown",
   "id": "complex-delight",
   "metadata": {},
   "source": [
    "We will change the drive amplitude in small increments and measuring the state of the qubit each time. We expect to see oscillations which are commonly named **[Rabi](https://en.wikipedia.org/wiki/Rabi_resonance_method) [oscillations](https://en.wikipedia.org/wiki/Rabi_cycle)**, as the qubit goes from $|0\\rangle$ to $|1\\rangle$ and back."
   ]
  },
  {
   "cell_type": "code",
   "execution_count": null,
   "id": "pacific-melissa",
   "metadata": {},
   "outputs": [],
   "source": [
    "# This experiment uses these values from the previous experiment:\n",
    "    # `qubit`,\n",
    "    # `measure`, and\n",
    "    # `rough_qubit_frequency`.\n",
    "\n",
    "\n",
    "# Rabi experiment parameters\n",
    "num_rabi_points = 50\n",
    "\n",
    "\n",
    "# Drive amplitude values to iterate over: 50 amplitudes evenly spaced from 0 to 0.75\n",
    "drive_amp_min = 0\n",
    "drive_amp_max = 0.75\n",
    "drive_amps = np.linspace(drive_amp_min, drive_amp_max, num_rabi_points)"
   ]
  },
  {
   "cell_type": "code",
   "execution_count": null,
   "id": "stuck-actress",
   "metadata": {},
   "outputs": [],
   "source": [
    "# Build the Rabi experiments:\n",
    "#    A drive pulse at the qubit frequency, followed by a measurement,\n",
    "#    where we vary the drive amplitude each time.\n",
    "\n",
    "rabi_schedules = []\n",
    "\n",
    "for drive_amp in drive_amps:\n",
    "    \n",
    "    rabi_pulse = pulse_lib.gaussian(duration=drive_samples, amp=drive_amp, \n",
    "                                    sigma=drive_sigma, name=f\"Rabi drive amplitude = {drive_amp}\")\n",
    "    \n",
    "    this_schedule = pulse.Schedule(name=f\"Rabi drive amplitude = {drive_amp}\")\n",
    "    this_schedule += Play(rabi_pulse, drive_chan)\n",
    "    \n",
    "    # Reuse the measure instruction from the frequency sweep experiment\n",
    "    this_schedule += measure << this_schedule.duration\n",
    "    rabi_schedules.append(this_schedule)\n"
   ]
  },
  {
   "cell_type": "markdown",
   "id": "blind-cookie",
   "metadata": {},
   "source": [
    "The schedule will look essentially the same as the frequency sweep experiment. The only difference is that we are running a set of experiments which vary the amplitude of the drive pulse, rather than its modulation frequency."
   ]
  },
  {
   "cell_type": "code",
   "execution_count": null,
   "id": "alternative-stephen",
   "metadata": {},
   "outputs": [],
   "source": [
    "rabi_schedules[-1].draw(label=True)"
   ]
  },
  {
   "cell_type": "code",
   "execution_count": null,
   "id": "native-fifty",
   "metadata": {},
   "outputs": [],
   "source": [
    "# Assemble the schedules into a Qobj\n",
    "num_shots_per_point = 1024\n",
    "\n",
    "rabi_experiment_program = assemble(rabi_schedules,\n",
    "                                   backend=backend,\n",
    "                                   meas_level=1,\n",
    "                                   meas_return='avg',\n",
    "                                   shots=num_shots_per_point,\n",
    "                                   schedule_los=[{drive_chan: rough_qubit_frequency}] * num_rabi_points)\n",
    "\n",
    "\n",
    "print(job.job_id())\n",
    "\n",
    "job = backend.run(rabi_experiment_program)\n",
    "\n",
    "job_monitor(job)\n",
    "\n",
    "\n",
    "rabi_results = job.result(timeout=120)"
   ]
  },
  {
   "cell_type": "markdown",
   "id": "polished-kidney",
   "metadata": {},
   "source": [
    "Now that we have our results, we will extract them and fit them to a sinusoidal curve. For the range of drive amplitudes we selected, we expect that we will rotate the qubit several times completely around the Bloch sphere, starting from $|0\\rangle$. The amplitude of this sinusoid tells us the fraction of the shots at that Rabi drive amplitude which yielded the $|1\\rangle$ state.  We want to find the drive amplitude needed for the signal to oscillate from a maximum (all $|0\\rangle$ state) to a minimum (all $|1\\rangle$ state), this gives the calibrated amplitude that enacts a $\\pi$ pulse."
   ]
  },
  {
   "cell_type": "code",
   "execution_count": null,
   "id": "alpha-finland",
   "metadata": {},
   "outputs": [],
   "source": [
    "import matplotlib.pyplot as plt\n",
    "\n",
    "\n",
    "# center data around 0\n",
    "def baseline_remove(values):\n",
    "    return np.array(values) - np.mean(values)\n",
    "\n",
    "\n",
    "rabi_values = []\n",
    "\n",
    "for i in range(num_rabi_points):\n",
    "    \n",
    "    # Get the results for `qubit` from the ith experiment\n",
    "    rabi_values.append(rabi_results.get_memory(i)[qubit] * scale_factor)\n",
    "\n",
    "    \n",
    "rabi_values = np.real(baseline_remove(rabi_values))\n",
    "\n",
    "\n",
    "plt.xlabel(\"Drive amp [a.u.]\")\n",
    "plt.ylabel(\"Measured signal [a.u.]\")\n",
    "plt.scatter(drive_amps, rabi_values, color='black') # plot real part of Rabi values\n",
    "plt.show()"
   ]
  },
  {
   "cell_type": "code",
   "execution_count": null,
   "id": "announced-hepatitis",
   "metadata": {},
   "outputs": [],
   "source": [
    "fit_params, y_fit = fit_function(drive_amps,\n",
    "                                 rabi_values, \n",
    "                                 lambda x, A, B, drive_period, phi: (A*np.cos(4*np.pi*x/drive_period - phi) + B),\n",
    "                                 [3, 0.1, 0.5, 0])\n",
    "\n",
    "plt.scatter(drive_amps, rabi_values, color='black')\n",
    "\n",
    "plt.plot(drive_amps, y_fit, color='red')\n",
    "\n",
    "drive_period = fit_params[2]                  # get period of rabi oscillation\n",
    "\n",
    "\n",
    "plt.axvline(drive_period/2, color='red', linestyle='--')\n",
    "plt.axvline(drive_period, color='red', linestyle='--')\n",
    "plt.annotate(\"\", xy=(drive_period, 0), xytext=(drive_period/2,0), arrowprops=dict(arrowstyle=\"<->\", color='red'))\n",
    "plt.annotate(\"$\\pi$\", xy=(drive_period/2-0.03, 0.1), color='red')\n",
    "\n",
    "plt.xlabel(\"Drive amp [a.u.]\", fontsize=15)\n",
    "plt.ylabel(\"Measured signal [a.u.]\", fontsize=15)\n",
    "plt.show()"
   ]
  },
  {
   "cell_type": "code",
   "execution_count": null,
   "id": "alternate-passing",
   "metadata": {},
   "outputs": [],
   "source": [
    "pi_amp = abs(drive_period / 4)\n",
    "print(f\"Pi Amplitude = {pi_amp}\")"
   ]
  },
  {
   "cell_type": "markdown",
   "id": "alternative-identity",
   "metadata": {},
   "source": [
    "Let's define our pulse, with the amplitude we just found, so we can use it in later experiments."
   ]
  },
  {
   "cell_type": "code",
   "execution_count": null,
   "id": "original-appreciation",
   "metadata": {},
   "outputs": [],
   "source": [
    "pi_pulse = pulse_lib.gaussian(duration=drive_samples,\n",
    "                              amp=pi_amp, \n",
    "                              sigma=drive_sigma,\n",
    "                              name='pi_pulse')\n",
    "\n",
    "print(pi_pulse)"
   ]
  },
  {
   "cell_type": "markdown",
   "id": "satellite-charlotte",
   "metadata": {},
   "source": [
    "<a id=\"determining\"></a>\n",
    "### Determining 0 vs 1"
   ]
  },
  {
   "cell_type": "markdown",
   "id": "hawaiian-sapphire",
   "metadata": {},
   "source": [
    "Once our $\\pi$ pulses have been calibrated, we can now create the state $\\vert1\\rangle$ with good probability. We can use this to find out what the states $\\vert0\\rangle$ and $\\vert1\\rangle$ look like in our measurements, by repeatedly preparing them and plotting the measured signal. This is what we use to build a discriminator, which is simply a function which takes a measured and kerneled complex value (`meas_level=1`) and classifies it as a 0 or a 1 (`meas_level=2`)."
   ]
  },
  {
   "cell_type": "code",
   "execution_count": null,
   "id": "stock-injury",
   "metadata": {},
   "outputs": [],
   "source": [
    "# Create two schedules\n",
    "\n",
    "# Ground state schedule\n",
    "gnd_schedule = pulse.Schedule(name=\"ground state\")\n",
    "gnd_schedule += measure\n",
    "\n",
    "# Excited state schedule\n",
    "exc_schedule = pulse.Schedule(name=\"excited state\")\n",
    "exc_schedule += Play(pi_pulse, drive_chan)  # We found this in Part 2A above\n",
    "exc_schedule += measure << exc_schedule.duration"
   ]
  },
  {
   "cell_type": "code",
   "execution_count": null,
   "id": "electoral-harvard",
   "metadata": {},
   "outputs": [],
   "source": [
    "#gnd_schedule.draw(label=True)"
   ]
  },
  {
   "cell_type": "code",
   "execution_count": null,
   "id": "broad-output",
   "metadata": {},
   "outputs": [],
   "source": [
    "#exc_schedule.draw(label=True)"
   ]
  },
  {
   "cell_type": "markdown",
   "id": "incorporate-matrix",
   "metadata": {},
   "source": [
    "We assemble the ground and excited state preparation schedules into one Qobj. Each of these will run `num_shots` times. We choose `meas_level=1` this time, because we do not want the results already classified for us as $|0\\rangle$ or $|1\\rangle$. Instead, we want kerneled data: raw acquired data that has gone through a kernel function to yield a single complex value for each shot. (You can think of a kernel as a dot product applied to the raw measurement data.)\n",
    "We pass the same frequency for both schedules, although it is only used by the `exc_schedule`."
   ]
  },
  {
   "cell_type": "code",
   "execution_count": null,
   "id": "present-general",
   "metadata": {},
   "outputs": [],
   "source": [
    "# Execution settings\n",
    "num_shots = 1024\n",
    "\n",
    "gnd_exc_program = assemble([gnd_schedule, exc_schedule],\n",
    "                           backend=backend,\n",
    "                           meas_level=1,\n",
    "                           meas_return='single',\n",
    "                           shots=num_shots,\n",
    "                           schedule_los=[{drive_chan: rough_qubit_frequency}] * 2)\n",
    "\n",
    "\n",
    "# print(job.job_id())\n",
    "\n",
    "job = backend.run(gnd_exc_program)\n",
    "\n",
    "job_monitor(job)\n",
    "\n",
    "\n",
    "gnd_exc_results = job.result(timeout=120)"
   ]
  },
  {
   "cell_type": "markdown",
   "id": "caroline-phoenix",
   "metadata": {},
   "source": [
    "Now that we have the results, we can visualize the two populations which we have prepared on a simple scatter plot, showing results from the ground state program in blue and results from the excited state preparation program in red. Note: If the populations irregularly shaped (not approximately circular), try re-running the notebook."
   ]
  },
  {
   "cell_type": "code",
   "execution_count": null,
   "id": "induced-faith",
   "metadata": {},
   "outputs": [],
   "source": [
    "gnd_results = gnd_exc_results.get_memory(0)[:, qubit] * scale_factor\n",
    "exc_results = gnd_exc_results.get_memory(1)[:, qubit] * scale_factor\n",
    "\n",
    "plt.figure(figsize=[4,4])\n",
    "\n",
    "\n",
    "# Plot all the results\n",
    "\n",
    "# All results from the gnd_schedule are plotted in blue\n",
    "plt.scatter(np.real(gnd_results), np.imag(gnd_results), \n",
    "                s=5, cmap='viridis', c='blue', alpha=0.5, label='state_0')\n",
    "\n",
    "# All results from the exc_schedule are plotted in red\n",
    "plt.scatter(np.real(exc_results), np.imag(exc_results), \n",
    "                s=5, cmap='viridis', c='red', alpha=0.5, label='state_1')\n",
    "\n",
    "# Plot a large dot for the average result of the 0 and 1 states.\n",
    "mean_gnd = np.mean(gnd_results) # takes mean of both real and imaginary parts\n",
    "mean_exc = np.mean(exc_results)\n",
    "plt.scatter(np.real(mean_gnd), np.imag(mean_gnd), \n",
    "            s=200, cmap='viridis', c='black',alpha=1.0, label='state_0_mean')\n",
    "plt.scatter(np.real(mean_exc), np.imag(mean_exc), \n",
    "            s=200, cmap='viridis', c='black',alpha=1.0, label='state_1_mean')\n",
    "\n",
    "plt.ylabel('I [a.u.]', fontsize=15)\n",
    "plt.xlabel('Q [a.u.]', fontsize=15)\n",
    "plt.title(\"0-1 discrimination\", fontsize=15)\n",
    "\n",
    "plt.show()"
   ]
  },
  {
   "cell_type": "markdown",
   "id": "german-clock",
   "metadata": {},
   "source": [
    "We can clearly see that the two populations of $|0\\rangle$ and $|1\\rangle$ form their own clusters. Kerneled measurement results (from `meas_level=1`) are classified (into `meas_level=2`) by applying a discriminator which optimally separates these two clusters. Optimal separation is simply a line in the IQ plane, equidistant from the average results we plotted above in the large dot, and normal to the line connecting the two dots."
   ]
  },
  {
   "cell_type": "code",
   "execution_count": null,
   "id": "designing-parking",
   "metadata": {},
   "outputs": [],
   "source": []
  }
 ],
 "metadata": {
  "kernelspec": {
   "display_name": "Python 3",
   "language": "python",
   "name": "python3"
  },
  "language_info": {
   "codemirror_mode": {
    "name": "ipython",
    "version": 3
   },
   "file_extension": ".py",
   "mimetype": "text/x-python",
   "name": "python",
   "nbconvert_exporter": "python",
   "pygments_lexer": "ipython3",
   "version": "3.8.8"
  }
 },
 "nbformat": 4,
 "nbformat_minor": 5
}
