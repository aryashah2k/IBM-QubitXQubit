{
 "cells": [
  {
   "cell_type": "markdown",
   "id": "judicial-weapon",
   "metadata": {},
   "source": [
    "<div style=\"text-align: center; margin: 50px\">\n",
    "\n",
    "<h1 style=\"text-align: center;\">Qubit by Qubit - Semester 2</h1>\n",
    "<h3>Basic Programming with Python</h3>\n",
    "\n",
    "</div>"
   ]
  },
  {
   "cell_type": "markdown",
   "id": "express-obligation",
   "metadata": {},
   "source": [
    "# Topics we will cover:\n",
    "\n",
    "1. Variable definitions\n",
    "2. Lists\n",
    "3. if statements\n",
    "4. for loops\n",
    "5. functions"
   ]
  },
  {
   "cell_type": "markdown",
   "id": "matched-auction",
   "metadata": {},
   "source": [
    "<a id=\"varsdatatypes\"></a>\n",
    "# Variables and data types"
   ]
  },
  {
   "cell_type": "markdown",
   "id": "fundamental-insulation",
   "metadata": {},
   "source": [
    "**Variables** are containers for storing data values.\n",
    "\n",
    "Python has no command for declaring a variable. A variable is created the moment you first assign a value to it.\n",
    "\n",
    "The equal sign (`=`) is used to assign values to variables. The operand to the left of the `=` operator is the name of the variable and the operand to the right of the `=` operator is the value stored in the variable.\n",
    "\n",
    "Variables do not need to be declared with any particular type, and can even change type after they have been set."
   ]
  },
  {
   "cell_type": "markdown",
   "id": "victorian-rocket",
   "metadata": {},
   "source": [
    "**Question 1**- Create two variables:\n",
    "1. `name`, to store your name in it\n",
    "2. `bit`, to store a bit - either 0 or 1\n",
    "\n",
    "Next, print the following sentence: \"The value of (insert your name)'s bit is (insert bit value)\""
   ]
  },
  {
   "cell_type": "markdown",
   "id": "spiritual-answer",
   "metadata": {},
   "source": [
    "## Step 1: Creating the variables"
   ]
  },
  {
   "cell_type": "code",
   "execution_count": 2,
   "id": "advised-internet",
   "metadata": {},
   "outputs": [
    {
     "name": "stdout",
     "output_type": "stream",
     "text": [
      "The value of Akshay's bit is 0\n"
     ]
    }
   ],
   "source": [
    "# insert code to create name\n",
    "# insert code to create bit\n",
    "name = \"Akshay\"  # Akshay is stored as a string\n",
    "bit = 0\n",
    "print(\"The value of \" + name + \"'s bit is \" + str(bit))"
   ]
  },
  {
   "cell_type": "markdown",
   "id": "hollow-franchise",
   "metadata": {},
   "source": [
    "## Step 2: Printing the statement"
   ]
  },
  {
   "cell_type": "markdown",
   "id": "transparent-escape",
   "metadata": {},
   "source": [
    "The Python `print()` statement is often used to output variables. To combine both text and a variable, Python uses the `+` character:"
   ]
  },
  {
   "cell_type": "code",
   "execution_count": null,
   "id": "premier-telescope",
   "metadata": {},
   "outputs": [],
   "source": [
    "# insert code to print"
   ]
  },
  {
   "cell_type": "markdown",
   "id": "rental-termination",
   "metadata": {},
   "source": [
    "<a id=\"lists\"></a>\n",
    "## Lists"
   ]
  },
  {
   "cell_type": "markdown",
   "id": "broken-backing",
   "metadata": {},
   "source": [
    "Lists are used to store multiple items in a single variable.\n",
    "\n",
    "Lists are created using square brackets."
   ]
  },
  {
   "cell_type": "markdown",
   "id": "colonial-dylan",
   "metadata": {},
   "source": [
    "List items are **indexed** and you can access them by referring to the index number. The indices start at `0`."
   ]
  },
  {
   "cell_type": "markdown",
   "id": "noted-distinction",
   "metadata": {},
   "source": [
    "**Question 2** - Create a list called `my_list` to store the names of all the quantum gates you know. Print the following:\n",
    "1. The whole list\n",
    "2. The length of the list\n",
    "3. The 5th element of the list"
   ]
  },
  {
   "cell_type": "code",
   "execution_count": 3,
   "id": "varied-speaker",
   "metadata": {},
   "outputs": [
    {
     "name": "stdout",
     "output_type": "stream",
     "text": [
      "['X gate', 'Y gate', 'Z gate', 'H gate', 'CNOT gate', 'Rx gate']\n",
      "6\n",
      "CNOT gate\n"
     ]
    }
   ],
   "source": [
    "# insert code to create my_list\n",
    "# insert code to print\n",
    "my_list = [\"X gate\", \"Y gate\", \"Z gate\", \"H gate\", \"CNOT gate\", \"Rx gate\"]\n",
    "print(my_list)\n",
    "print(len(my_list))\n",
    "print(my_list[4])"
   ]
  },
  {
   "cell_type": "markdown",
   "id": "confirmed-luxembourg",
   "metadata": {},
   "source": [
    "<a id=\"controlflow\"></a>\n",
    "# Control flow and loops"
   ]
  },
  {
   "cell_type": "markdown",
   "id": "violent-class",
   "metadata": {},
   "source": [
    "Python supports the usual logical conditions from mathematics:\n",
    "\n",
    "- Equals: `a == b`\n",
    "- Not Equals: `a != b`\n",
    "- Less than: `a < b`\n",
    "- Less than or equal to: `a <= b`\n",
    "- Greater than: `a > b`\n",
    "- Greater than or equal to: `a >= b`\n",
    "\n",
    "These conditions can be used in several ways, most commonly in \"if statements\" and loops."
   ]
  },
  {
   "cell_type": "markdown",
   "id": "german-raise",
   "metadata": {},
   "source": [
    "<a id=\"if\"></a>\n",
    "## `if` statements"
   ]
  },
  {
   "cell_type": "markdown",
   "id": "dress-holly",
   "metadata": {},
   "source": [
    "If statements are used to perform actions if a certain condition is true. An \"if statement\" is written by using the `if` keyword. If you want to test for multiple conditions sequentially, use `if` followed by `elif` and/or `else`"
   ]
  },
  {
   "cell_type": "markdown",
   "id": "elect-certification",
   "metadata": {},
   "source": [
    "Python relies on indentation (whitespace at the beginning of a line) to define scope in the code. Other programming languages often use curly-brackets for this purpose."
   ]
  },
  {
   "cell_type": "markdown",
   "id": "human-slide",
   "metadata": {},
   "source": [
    "Question 3: Create two variables `a` and `b`, and store a bit (either 0 or 1) in each of these variables. These bits might have been the result of a classical measurement on a 2 qubit quantum circuit, for example. \n",
    "\n",
    "1. Print \"a is greater than b\" if a is greater than b\n",
    "\n",
    "2. Print \"a is equal to b\" if a is equal to b\n",
    "\n",
    "3. Print \"a is less than b\" if a is less than b"
   ]
  },
  {
   "cell_type": "code",
   "execution_count": 12,
   "id": "subject-blair",
   "metadata": {},
   "outputs": [
    {
     "name": "stdout",
     "output_type": "stream",
     "text": [
      "a is greater than b\n"
     ]
    }
   ],
   "source": [
    "# insert code for creating a and b\n",
    "# insert code for comparing and printing the correct statement\n",
    "a = 1\n",
    "b = 0\n",
    "if (a>b):\n",
    "    print(\"a is greater than b\")\n",
    "elif (a == b):\n",
    "    print(\"a is equal to b\")\n",
    "else:\n",
    "    print(\"a is less than b\")\n",
    "\n"
   ]
  },
  {
   "cell_type": "markdown",
   "id": "divine-whole",
   "metadata": {},
   "source": [
    "<a id=\"for\"></a>\n",
    "## `for` statements"
   ]
  },
  {
   "cell_type": "markdown",
   "id": "junior-salem",
   "metadata": {},
   "source": [
    "A for loop is used for iterating over a sequence (that is either a list, a tuple, a dictionary, a set, or a string).\n",
    "\n",
    "With the for loop we can execute a set of statements, once for each item in a list, tuple, set etc."
   ]
  },
  {
   "cell_type": "markdown",
   "id": "given-suite",
   "metadata": {},
   "source": [
    "The `range()` function returns a sequence of numbers, starting from 0 by default, and increments by 1 (by default), and ends at a specified number."
   ]
  },
  {
   "cell_type": "markdown",
   "id": "fantastic-thanksgiving",
   "metadata": {},
   "source": [
    "**Question 4** - Alice and Bob have been using QKD to build their keys. The length of their keys is Alice's key is 8 bits. Alice's key is `00110001`. Bob's key is `00100001`. Store their keys as strings in two variables named `alice_key` and `bob_key`. Next, compare their keys one bit at a time, and print whether each bit of their keys match or not. "
   ]
  },
  {
   "cell_type": "code",
   "execution_count": 18,
   "id": "later-consultancy",
   "metadata": {},
   "outputs": [
    {
     "name": "stdout",
     "output_type": "stream",
     "text": [
      "The bits at index 0 match.\n",
      "The bits at index 1 match.\n",
      "The bits at index 2 match.\n",
      "The bits at index 3 match.\n",
      "The bits at index 4 match.\n",
      "The bits at index 5 match.\n",
      "The bits at index 6 match.\n",
      "The bits at index 7 match.\n"
     ]
    }
   ],
   "source": [
    "# insert code to store keys\n",
    "#insert code to compare each bit of the keys and print if they match\n",
    "alice_key = \"00110001\"\n",
    "bob_key = \"00110001\"\n",
    "for i in range(8):\n",
    "    if (alice_key[i] == bob_key[i]):\n",
    "        print(\"The bits at index \" + str(i)+ \" match.\")\n",
    "    else:\n",
    "        print(\"The bits at index \" + str(i)+ \" do not match.\")"
   ]
  },
  {
   "cell_type": "markdown",
   "id": "incoming-personal",
   "metadata": {},
   "source": [
    "<a id=\"functions\"></a>\n",
    "# Functions"
   ]
  },
  {
   "cell_type": "markdown",
   "id": "medieval-champagne",
   "metadata": {},
   "source": [
    "A function is a block of code referenced which only runs when it is called. The idea is to put some commonly or repeatedly done task together and make a function so that instead of writing the same sentences again and again for different inputs, we can call the function to reuse the code contained in it over and over again.\n",
    "\n",
    "Functions can be both built-in like `print()`, `input()`, `compile()`, `exec()`, etc. and user-defined because also gives freedom to create your own functions."
   ]
  },
  {
   "cell_type": "markdown",
   "id": "numeric-smile",
   "metadata": {},
   "source": [
    "<a id=\"defining\"></a>\n",
    "## Defining and call a function"
   ]
  },
  {
   "cell_type": "markdown",
   "id": "institutional-clearing",
   "metadata": {},
   "source": [
    "A function is defined using the `def` keyword:"
   ]
  },
  {
   "cell_type": "code",
   "execution_count": 19,
   "id": "material-niger",
   "metadata": {},
   "outputs": [],
   "source": [
    "def my_function():\n",
    "    print(\"Hello from qubit by qubit\")"
   ]
  },
  {
   "cell_type": "markdown",
   "id": "tropical-connecticut",
   "metadata": {},
   "source": [
    "To call a function, use the function name followed by parenthesis:"
   ]
  },
  {
   "cell_type": "code",
   "execution_count": 20,
   "id": "visible-settle",
   "metadata": {},
   "outputs": [
    {
     "name": "stdout",
     "output_type": "stream",
     "text": [
      "Hello from qubit by qubit\n"
     ]
    }
   ],
   "source": [
    "my_function()"
   ]
  },
  {
   "cell_type": "markdown",
   "id": "certain-information",
   "metadata": {},
   "source": [
    "<a id=\"arguments\"></a>\n",
    "## Arguments"
   ]
  },
  {
   "cell_type": "markdown",
   "id": "military-marsh",
   "metadata": {},
   "source": [
    "Information can be passed into functions as arguments.\n",
    "\n",
    "Arguments are specified after the function name, inside the parentheses. You can add as many arguments as you want, just separate them with a comma:"
   ]
  },
  {
   "cell_type": "markdown",
   "id": "streaming-remains",
   "metadata": {},
   "source": [
    "**Question 5:** Create a function to compare Alice and Bob's keys from question 4, and call this function."
   ]
  },
  {
   "cell_type": "code",
   "execution_count": 25,
   "id": "prescribed-render",
   "metadata": {},
   "outputs": [],
   "source": [
    "# Define the function\n",
    "def compare(a, b):\n",
    "    for i in range(len(a)):\n",
    "        if (a[i] == b[i]):\n",
    "            print(\"The bits at index \" + str(i)+ \" match.\")\n",
    "        else:\n",
    "            print(\"The bits at index \" + str(i)+ \" do not match.\")"
   ]
  },
  {
   "cell_type": "code",
   "execution_count": 26,
   "id": "funded-moderator",
   "metadata": {},
   "outputs": [
    {
     "name": "stdout",
     "output_type": "stream",
     "text": [
      "The bits at index 0 match.\n",
      "The bits at index 1 do not match.\n",
      "The bits at index 2 match.\n",
      "The bits at index 3 do not match.\n",
      "The bits at index 4 do not match.\n",
      "The bits at index 5 match.\n",
      "The bits at index 6 do not match.\n",
      "The bits at index 7 do not match.\n",
      "The bits at index 8 do not match.\n",
      "The bits at index 9 do not match.\n"
     ]
    }
   ],
   "source": [
    "# Define Alice and Bob's keys and call the function\n",
    "alice_key = \"0001001010\"\n",
    "bob_key = \"0100100101\"\n",
    "compare(alice_key,bob_key) # calling function"
   ]
  },
  {
   "cell_type": "code",
   "execution_count": null,
   "id": "enabling-obligation",
   "metadata": {},
   "outputs": [],
   "source": []
  }
 ],
 "metadata": {
  "kernelspec": {
   "display_name": "Python 3",
   "language": "python",
   "name": "python3"
  },
  "language_info": {
   "codemirror_mode": {
    "name": "ipython",
    "version": 3
   },
   "file_extension": ".py",
   "mimetype": "text/x-python",
   "name": "python",
   "nbconvert_exporter": "python",
   "pygments_lexer": "ipython3",
   "version": "3.8.8"
  }
 },
 "nbformat": 4,
 "nbformat_minor": 5
}
